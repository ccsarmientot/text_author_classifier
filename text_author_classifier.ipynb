{
 "cells": [
  {
   "cell_type": "markdown",
   "metadata": {},
   "source": [
    "### 0. Libraries and utilities"
   ]
  },
  {
   "cell_type": "code",
   "execution_count": 1,
   "metadata": {},
   "outputs": [
    {
     "name": "stderr",
     "output_type": "stream",
     "text": [
      "[nltk_data] Downloading package stopwords to\n",
      "[nltk_data]     C:\\Users\\ccsar\\AppData\\Roaming\\nltk_data...\n",
      "[nltk_data]   Package stopwords is already up-to-date!\n"
     ]
    },
    {
     "data": {
      "text/plain": [
       "True"
      ]
     },
     "execution_count": 1,
     "metadata": {},
     "output_type": "execute_result"
    }
   ],
   "source": [
    "import re\n",
    "import unicodedata\n",
    "import numpy as np\n",
    "import pandas as pd\n",
    "from nltk.corpus import stopwords\n",
    "import nltk\n",
    "nltk.download('stopwords')"
   ]
  },
  {
   "cell_type": "code",
   "execution_count": 2,
   "metadata": {},
   "outputs": [
    {
     "data": {
      "text/plain": [
       "'say love place'"
      ]
     },
     "execution_count": 2,
     "metadata": {},
     "output_type": "execute_result"
    }
   ],
   "source": [
    "def preprocess_text(text):\n",
    "    # Convert to lowercase\n",
    "    text = text.lower()\n",
    "\n",
    "    # Remove accents\n",
    "    text = unicodedata.normalize('NFKD', text).encode('ascii', 'ignore').decode('utf-8')\n",
    "\n",
    "    # Remove HTML tags\n",
    "    text = re.sub(r'<.*?>', '', text)\n",
    "\n",
    "    # Remove punctuation\n",
    "    text = re.sub(r'[^\\w\\s]', '', text)\n",
    "\n",
    "    # Remove numbers\n",
    "    text = re.sub(r'\\d+', '', text)\n",
    "\n",
    "    # Tokenize the text\n",
    "    tokens = text.split()\n",
    "\n",
    "    # Remove English stopwords\n",
    "    stop_words = set(stopwords.words('english'))\n",
    "    tokens = [token for token in tokens if token.lower() not in stop_words]\n",
    "\n",
    "    # Join the tokens back into a single string\n",
    "    text = ' '.join(tokens)\n",
    "\n",
    "    return text\n",
    "\n",
    "# Limpiamos el texto\n",
    "preprocess_text('What can I say, I love this place')"
   ]
  },
  {
   "cell_type": "markdown",
   "metadata": {},
   "source": [
    "### 1. Preprocessing"
   ]
  },
  {
   "cell_type": "code",
   "execution_count": 3,
   "metadata": {},
   "outputs": [
    {
     "name": "stdout",
     "output_type": "stream",
     "text": [
      "Shape of dataframe: (1250, 2)\n"
     ]
    },
    {
     "data": {
      "text/html": [
       "<div>\n",
       "<style scoped>\n",
       "    .dataframe tbody tr th:only-of-type {\n",
       "        vertical-align: middle;\n",
       "    }\n",
       "\n",
       "    .dataframe tbody tr th {\n",
       "        vertical-align: top;\n",
       "    }\n",
       "\n",
       "    .dataframe thead th {\n",
       "        text-align: right;\n",
       "    }\n",
       "</style>\n",
       "<table border=\"1\" class=\"dataframe\">\n",
       "  <thead>\n",
       "    <tr style=\"text-align: right;\">\n",
       "      <th></th>\n",
       "      <th>text</th>\n",
       "      <th>author</th>\n",
       "    </tr>\n",
       "  </thead>\n",
       "  <tbody>\n",
       "    <tr>\n",
       "      <th>41611</th>\n",
       "      <td>excuse our lives were in danger by these savag...</td>\n",
       "      <td>38</td>\n",
       "    </tr>\n",
       "    <tr>\n",
       "      <th>36824</th>\n",
       "      <td>evidently expected instant death and held up h...</td>\n",
       "      <td>35</td>\n",
       "    </tr>\n",
       "    <tr>\n",
       "      <th>7832</th>\n",
       "      <td>united ever for your welfare ever for your ben...</td>\n",
       "      <td>8</td>\n",
       "    </tr>\n",
       "    <tr>\n",
       "      <th>51458</th>\n",
       "      <td>ages here and there might be seen a rude perch...</td>\n",
       "      <td>48</td>\n",
       "    </tr>\n",
       "    <tr>\n",
       "      <th>47014</th>\n",
       "      <td>development here having first seen the profit ...</td>\n",
       "      <td>43</td>\n",
       "    </tr>\n",
       "  </tbody>\n",
       "</table>\n",
       "</div>"
      ],
      "text/plain": [
       "                                                    text  author\n",
       "41611  excuse our lives were in danger by these savag...      38\n",
       "36824  evidently expected instant death and held up h...      35\n",
       "7832   united ever for your welfare ever for your ben...       8\n",
       "51458  ages here and there might be seen a rude perch...      48\n",
       "47014  development here having first seen the profit ...      43"
      ]
     },
     "execution_count": 3,
     "metadata": {},
     "output_type": "execute_result"
    }
   ],
   "source": [
    "# data_path = r'Data\\Gungor_2018_VictorianAuthorAttribution_data-train.csv'\n",
    "# df = pd.read_csv(data_path, encoding='latin-1')\n",
    "\n",
    "## URL from github repo, load as dataframe\n",
    "url = 'https://raw.githubusercontent.com/ccsarmientot/text_author_classifier/master/datasets/sample_victorian.parquet'\n",
    "url = 'datasets/sample_victorian.parquet'\n",
    "df = pd.read_parquet(url)\n",
    "df = df.sample(1250)\n",
    "\n",
    "print(f'Shape of dataframe: {df.shape}')\n",
    "df.head(5)"
   ]
  },
  {
   "cell_type": "code",
   "execution_count": 4,
   "metadata": {},
   "outputs": [
    {
     "data": {
      "text/plain": [
       "'Cantidad promedio de caracteres por texto: 4,942.12'"
      ]
     },
     "execution_count": 4,
     "metadata": {},
     "output_type": "execute_result"
    }
   ],
   "source": [
    "avg_chr = np.mean(df['text'].apply(len))\n",
    "f'Cantidad promedio de caracteres por texto: {avg_chr:,.2f}'"
   ]
  },
  {
   "cell_type": "code",
   "execution_count": 5,
   "metadata": {},
   "outputs": [
    {
     "data": {
      "text/plain": [
       "'Cantidad promedio de palabras por texto: 1,001.00'"
      ]
     },
     "execution_count": 5,
     "metadata": {},
     "output_type": "execute_result"
    }
   ],
   "source": [
    "avg_chr = np.mean(df['text'].apply(lambda x: len(x.split(' '))))\n",
    "f'Cantidad promedio de palabras por texto: {avg_chr:,.2f}'"
   ]
  },
  {
   "cell_type": "code",
   "execution_count": 6,
   "metadata": {},
   "outputs": [
    {
     "data": {
      "text/plain": [
       "author\n",
       "8     171\n",
       "26    103\n",
       "14     64\n",
       "39     61\n",
       "33     59\n",
       "45     55\n",
       "21     44\n",
       "48     42\n",
       "37     41\n",
       "4      38\n",
       "19     36\n",
       "43     34\n",
       "15     33\n",
       "18     31\n",
       "25     28\n",
       "42     26\n",
       "1      24\n",
       "38     24\n",
       "41     22\n",
       "30     22\n",
       "32     21\n",
       "17     20\n",
       "28     18\n",
       "10     17\n",
       "34     17\n",
       "29     15\n",
       "9      15\n",
       "50     15\n",
       "35     14\n",
       "11     14\n",
       "20     13\n",
       "12     12\n",
       "44     12\n",
       "36     12\n",
       "22     10\n",
       "46      9\n",
       "23      9\n",
       "40      9\n",
       "2       8\n",
       "6       7\n",
       "13      6\n",
       "27      6\n",
       "24      5\n",
       "16      5\n",
       "3       3\n",
       "Name: count, dtype: int64"
      ]
     },
     "execution_count": 6,
     "metadata": {},
     "output_type": "execute_result"
    }
   ],
   "source": [
    "## Se identifica un desbalance de clases:\n",
    "df['author'].value_counts()"
   ]
  },
  {
   "cell_type": "code",
   "execution_count": 7,
   "metadata": {},
   "outputs": [],
   "source": [
    "# ## Getting sample fo \n",
    "# df_sample = df.sample(10_000)\n",
    "# n_authors = df_sample['author'].nunique()\n",
    "# print(f'Authors in df_sample: {n_authors}')\n",
    "# df_sample.head(5)"
   ]
  },
  {
   "cell_type": "markdown",
   "metadata": {},
   "source": [
    "## 2. Modelling"
   ]
  },
  {
   "cell_type": "code",
   "execution_count": 8,
   "metadata": {},
   "outputs": [],
   "source": [
    "# Importamos librerias\n",
    "from sklearn.pipeline import Pipeline\n",
    "from sklearn.model_selection import train_test_split\n",
    "from sklearn.feature_extraction.text import TfidfVectorizer\n",
    "from sklearn.linear_model import LogisticRegression\n",
    "from imblearn.pipeline import Pipeline\n",
    "from imblearn.over_sampling import RandomOverSampler\n",
    "\n",
    "results = []\n",
    "X = df['text']\n",
    "y = df['author']\n",
    "\n",
    "# Dividimos los datos en entrenamiento y testeo\n",
    "X_train, X_test, y_train, y_test = train_test_split(X, y, test_size=0.2, random_state=42)"
   ]
  },
  {
   "cell_type": "markdown",
   "metadata": {},
   "source": [
    "### 2.1 Logistic Regression"
   ]
  },
  {
   "cell_type": "code",
   "execution_count": 9,
   "metadata": {},
   "outputs": [],
   "source": [
    "# Creacion del pipeline del modelo inicial\n",
    "model = Pipeline(steps=[\n",
    "    ## Selección de los features\n",
    "    (\"tfidf\", TfidfVectorizer(preprocessor=preprocess_text)),\n",
    "    ## Se tiene un desbalance de clases, entonces se hace un oversampling\n",
    "    ('oversample', RandomOverSampler()),\n",
    "    ## Se aplica el modelo\n",
    "    (\"logit\", LogisticRegression())\n",
    "])"
   ]
  },
  {
   "cell_type": "markdown",
   "metadata": {},
   "source": [
    "#### 2.1.1 Primera iteración grid search"
   ]
  },
  {
   "cell_type": "code",
   "execution_count": 10,
   "metadata": {},
   "outputs": [
    {
     "name": "stdout",
     "output_type": "stream",
     "text": [
      "Fitting 5 folds for each of 6 candidates, totalling 30 fits\n"
     ]
    },
    {
     "name": "stderr",
     "output_type": "stream",
     "text": [
      "c:\\Users\\ccsar\\miniconda3\\envs\\env_nlp\\Lib\\site-packages\\sklearn\\model_selection\\_split.py:776: UserWarning: The least populated class in y has only 2 members, which is less than n_splits=5.\n",
      "  warnings.warn(\n"
     ]
    },
    {
     "name": "stdout",
     "output_type": "stream",
     "text": [
      "[CV] END ..............logit__C=0.1, tfidf__max_features=500; total time=   4.6s\n",
      "[CV] END ..............logit__C=0.1, tfidf__max_features=500; total time=   3.9s\n",
      "[CV] END ..............logit__C=0.1, tfidf__max_features=500; total time=   4.3s\n",
      "[CV] END ..............logit__C=0.1, tfidf__max_features=500; total time=   3.9s\n",
      "[CV] END ..............logit__C=0.1, tfidf__max_features=500; total time=   5.5s\n",
      "[CV] END .............logit__C=0.1, tfidf__max_features=1000; total time=   4.2s\n",
      "[CV] END .............logit__C=0.1, tfidf__max_features=1000; total time=   6.6s\n",
      "[CV] END .............logit__C=0.1, tfidf__max_features=1000; total time=   4.6s\n",
      "[CV] END .............logit__C=0.1, tfidf__max_features=1000; total time=   4.6s\n",
      "[CV] END .............logit__C=0.1, tfidf__max_features=1000; total time=   4.9s\n",
      "[CV] END ................logit__C=1, tfidf__max_features=500; total time=  20.0s\n",
      "[CV] END ................logit__C=1, tfidf__max_features=500; total time=  19.3s\n",
      "[CV] END ................logit__C=1, tfidf__max_features=500; total time=  27.8s\n",
      "[CV] END ................logit__C=1, tfidf__max_features=500; total time=  21.5s\n",
      "[CV] END ................logit__C=1, tfidf__max_features=500; total time=  11.2s\n",
      "[CV] END ...............logit__C=1, tfidf__max_features=1000; total time=   6.3s\n",
      "[CV] END ...............logit__C=1, tfidf__max_features=1000; total time=  11.3s\n",
      "[CV] END ...............logit__C=1, tfidf__max_features=1000; total time=  11.4s\n",
      "[CV] END ...............logit__C=1, tfidf__max_features=1000; total time=   9.2s\n",
      "[CV] END ...............logit__C=1, tfidf__max_features=1000; total time=   6.4s\n",
      "[CV] END ...............logit__C=10, tfidf__max_features=500; total time=   8.2s\n",
      "[CV] END ...............logit__C=10, tfidf__max_features=500; total time=  10.3s\n",
      "[CV] END ...............logit__C=10, tfidf__max_features=500; total time=   6.7s\n",
      "[CV] END ...............logit__C=10, tfidf__max_features=500; total time=   6.4s\n",
      "[CV] END ...............logit__C=10, tfidf__max_features=500; total time=   6.1s\n",
      "[CV] END ..............logit__C=10, tfidf__max_features=1000; total time=   9.3s\n",
      "[CV] END ..............logit__C=10, tfidf__max_features=1000; total time=   9.9s\n",
      "[CV] END ..............logit__C=10, tfidf__max_features=1000; total time=   7.9s\n",
      "[CV] END ..............logit__C=10, tfidf__max_features=1000; total time=  10.2s\n",
      "[CV] END ..............logit__C=10, tfidf__max_features=1000; total time=   8.0s\n",
      "{'logit__C': 10, 'tfidf__max_features': 1000}\n"
     ]
    }
   ],
   "source": [
    "from sklearn.model_selection import GridSearchCV\n",
    "\n",
    "# Definimos los parámetros a explorar\n",
    "param_grid = {\n",
    "    'tfidf__max_features': [500, 1000],\n",
    "    'logit__C': [0.1, 1, 10],\n",
    "}\n",
    "\n",
    "# Creamos el objeto GridSearchCV\n",
    "grid_search = GridSearchCV(estimator=model,\n",
    "                          param_grid=param_grid,\n",
    "                          cv=5,\n",
    "                          verbose=2)\n",
    "\n",
    "# Ajustamos el modelo a los datos de entrenamiento\n",
    "grid_search.fit(X_train, y_train)\n",
    "\n",
    "# Obtenemos los mejores parámetros\n",
    "best_params = grid_search.best_params_\n",
    "print(best_params)"
   ]
  },
  {
   "cell_type": "markdown",
   "metadata": {},
   "source": [
    "#### 2.1.2 Segunda iteración grid search"
   ]
  },
  {
   "cell_type": "code",
   "execution_count": 13,
   "metadata": {},
   "outputs": [
    {
     "name": "stdout",
     "output_type": "stream",
     "text": [
      "Fitting 5 folds for each of 6 candidates, totalling 30 fits\n"
     ]
    },
    {
     "name": "stderr",
     "output_type": "stream",
     "text": [
      "c:\\Users\\ccsar\\miniconda3\\envs\\env_nlp\\Lib\\site-packages\\sklearn\\model_selection\\_split.py:776: UserWarning: The least populated class in y has only 2 members, which is less than n_splits=5.\n",
      "  warnings.warn(\n"
     ]
    },
    {
     "name": "stdout",
     "output_type": "stream",
     "text": [
      "[CV] END ..............logit__C=0.1, tfidf__max_features=500; total time=   6.7s\n",
      "[CV] END ..............logit__C=0.1, tfidf__max_features=500; total time=   6.3s\n",
      "[CV] END ..............logit__C=0.1, tfidf__max_features=500; total time=   4.1s\n",
      "[CV] END ..............logit__C=0.1, tfidf__max_features=500; total time=   3.9s\n",
      "[CV] END ..............logit__C=0.1, tfidf__max_features=500; total time=   4.1s\n",
      "[CV] END .............logit__C=0.1, tfidf__max_features=1000; total time=   3.9s\n",
      "[CV] END .............logit__C=0.1, tfidf__max_features=1000; total time=   4.1s\n",
      "[CV] END .............logit__C=0.1, tfidf__max_features=1000; total time=   6.3s\n",
      "[CV] END .............logit__C=0.1, tfidf__max_features=1000; total time=   5.7s\n",
      "[CV] END .............logit__C=0.1, tfidf__max_features=1000; total time=   4.0s\n",
      "[CV] END ................logit__C=1, tfidf__max_features=500; total time=   6.9s\n",
      "[CV] END ................logit__C=1, tfidf__max_features=500; total time=   5.9s\n",
      "[CV] END ................logit__C=1, tfidf__max_features=500; total time=   6.0s\n",
      "[CV] END ................logit__C=1, tfidf__max_features=500; total time=   6.4s\n",
      "[CV] END ................logit__C=1, tfidf__max_features=500; total time=   5.5s\n",
      "[CV] END ...............logit__C=1, tfidf__max_features=1000; total time=   6.2s\n",
      "[CV] END ...............logit__C=1, tfidf__max_features=1000; total time=   6.5s\n",
      "[CV] END ...............logit__C=1, tfidf__max_features=1000; total time=   6.0s\n",
      "[CV] END ...............logit__C=1, tfidf__max_features=1000; total time=   8.9s\n",
      "[CV] END ...............logit__C=1, tfidf__max_features=1000; total time=   7.1s\n",
      "[CV] END ...............logit__C=10, tfidf__max_features=500; total time=   7.4s\n",
      "[CV] END ...............logit__C=10, tfidf__max_features=500; total time=  27.9s\n"
     ]
    }
   ],
   "source": [
    "# Definimos los parámetros a explorar\n",
    "param_grid = {\n",
    "    'tfidf__max_features': [1000],\n",
    "    'logit__C': [9, 10, 11],\n",
    "}\n",
    "\n",
    "# Creamos el objeto GridSearchCV\n",
    "grid_search = GridSearchCV(estimator=model,\n",
    "                          param_grid=param_grid,\n",
    "                          cv=5,\n",
    "                          verbose=2)\n",
    "\n",
    "# Ajustamos el modelo a los datos de entrenamiento\n",
    "grid_search.fit(X_train, y_train)\n",
    "\n",
    "# Obtenemos los mejores parámetros\n",
    "best_params = grid_search.best_params_\n",
    "print(best_params)"
   ]
  },
  {
   "cell_type": "markdown",
   "metadata": {},
   "source": [
    "#### 2.1.3 Modelo final"
   ]
  },
  {
   "cell_type": "code",
   "execution_count": null,
   "metadata": {},
   "outputs": [],
   "source": [
    "# Creacion del pipeline\n",
    "final_model = Pipeline(steps=[\n",
    "    ## Selección de los features\n",
    "    (\"tfidf\", TfidfVectorizer(max_features=500, preprocessor=preprocess_text)),\n",
    "    ## Se tiene un desbalance de clases, entonces se hace un oversampling\n",
    "    ('oversample', RandomOverSampler()),\n",
    "    ## Se aplica el modelo\n",
    "    (\"logit\", LogisticRegression(C=0.1))\n",
    "])"
   ]
  },
  {
   "cell_type": "code",
   "execution_count": 15,
   "metadata": {},
   "outputs": [],
   "source": [
    "# Ajustamos el modelo\n",
    "final_model.fit(X_train, y_train)"
   ]
  },
  {
   "cell_type": "code",
   "execution_count": null,
   "metadata": {},
   "outputs": [],
   "source": [
    "# Medimos el accuracy del modelo\n",
    "accuracy = final_model.score(X_test, y_test)\n",
    "accuracy"
   ]
  },
  {
   "cell_type": "code",
   "execution_count": null,
   "metadata": {},
   "outputs": [],
   "source": [
    "# Se predicen las clases para test\n",
    "y_pred = model.predict(X_test)"
   ]
  },
  {
   "cell_type": "markdown",
   "metadata": {},
   "source": [
    "#### 2.1.4 Save metrics"
   ]
  },
  {
   "cell_type": "code",
   "execution_count": null,
   "metadata": {},
   "outputs": [],
   "source": [
    "import numpy as np\n",
    "from sklearn.metrics import precision_recall_fscore_support\n",
    "from sklearn.metrics import confusion_matrix\n",
    "tn, fp, fn, tp = confusion_matrix(y_test, y_pred).ravel()\n",
    "p, r, f1, s = precision_recall_fscore_support(y_test, y_pred, average='weighted')\n",
    "model_name = 'Logistic_regresion'\n",
    "results.append([model_name, p, r, f1, s, tn, fp, fn, tp])"
   ]
  },
  {
   "cell_type": "markdown",
   "metadata": {},
   "source": [
    "### 2.2 Naive Bayes"
   ]
  },
  {
   "cell_type": "code",
   "execution_count": null,
   "metadata": {},
   "outputs": [],
   "source": [
    "from sklearn.naive_bayes import MultinomialNB\n",
    "\n",
    "# Creacion del pipeline del modelo inicial\n",
    "model = Pipeline(steps=[\n",
    "    ## Selección de los features\n",
    "    (\"tfidf\", TfidfVectorizer(preprocessor=preprocess_text)),\n",
    "    ## Se tiene un desbalance de clases, entonces se hace un oversampling\n",
    "    ('oversample', RandomOverSampler()),\n",
    "    ## Se aplica el modelo\n",
    "    (\"naive\", MultinomialNB())\n",
    "])"
   ]
  },
  {
   "cell_type": "markdown",
   "metadata": {},
   "source": [
    "#### 2.2.1 Primera iteración grid search"
   ]
  },
  {
   "cell_type": "code",
   "execution_count": null,
   "metadata": {},
   "outputs": [],
   "source": [
    "from sklearn.model_selection import GridSearchCV\n",
    "\n",
    "# Definimos los parámetros a explorar\n",
    "param_grid = {\n",
    "    'tfidf__max_features': [500, 1000],\n",
    "    'naive__alpha': [0.1, 1, 10],\n",
    "}\n",
    "\n",
    "# Creamos el objeto GridSearchCV\n",
    "grid_search = GridSearchCV(estimator=model,\n",
    "                          param_grid=param_grid,\n",
    "                          cv=5,\n",
    "                          verbose=2)\n",
    "\n",
    "# Ajustamos el modelo a los datos de entrenamiento\n",
    "grid_search.fit(X_train, y_train)\n",
    "\n",
    "# Obtenemos los mejores parámetros\n",
    "best_params = grid_search.best_params_\n",
    "print(best_params)"
   ]
  },
  {
   "cell_type": "markdown",
   "metadata": {},
   "source": [
    "#### 2.2.2 Segunda iteración grid search"
   ]
  },
  {
   "cell_type": "code",
   "execution_count": null,
   "metadata": {},
   "outputs": [],
   "source": [
    "# Definimos los parámetros a explorar\n",
    "param_grid = {\n",
    "    'tfidf__max_features': [500, 1000],\n",
    "    'naive__alpha': [0.1, 1, 10],\n",
    "}\n",
    "\n",
    "# Creamos el objeto GridSearchCV\n",
    "grid_search = GridSearchCV(estimator=model,\n",
    "                          param_grid=param_grid,\n",
    "                          cv=5,\n",
    "                          verbose=2)\n",
    "\n",
    "# Ajustamos el modelo a los datos de entrenamiento\n",
    "grid_search.fit(X_train, y_train)\n",
    "\n",
    "# Obtenemos los mejores parámetros\n",
    "best_params = grid_search.best_params_\n",
    "print(best_params)"
   ]
  },
  {
   "cell_type": "markdown",
   "metadata": {},
   "source": [
    "#### 2.2.3 Modelo final"
   ]
  },
  {
   "cell_type": "code",
   "execution_count": null,
   "metadata": {},
   "outputs": [],
   "source": [
    "# Creacion del pipeline\n",
    "final_model = Pipeline(steps=[\n",
    "    ## Selección de los features\n",
    "    (\"tfidf\", TfidfVectorizer(max_features=500, preprocessor=preprocess_text)),\n",
    "    ## Se tiene un desbalance de clases, entonces se hace un oversampling\n",
    "    ('oversample', RandomOverSampler()),\n",
    "    ## Se aplica el modelo\n",
    "    (\"naive\", MultinomialNB(alpha=0.1))\n",
    "])"
   ]
  },
  {
   "cell_type": "code",
   "execution_count": null,
   "metadata": {},
   "outputs": [],
   "source": [
    "# Ajustamos el modelo\n",
    "final_model.fit(X_train, y_train)"
   ]
  },
  {
   "cell_type": "code",
   "execution_count": null,
   "metadata": {},
   "outputs": [],
   "source": [
    "# Medimos el accuracy del modelo\n",
    "accuracy = final_model.score(X_test, y_test)\n",
    "accuracy"
   ]
  },
  {
   "cell_type": "code",
   "execution_count": null,
   "metadata": {},
   "outputs": [],
   "source": [
    "# Se predicen las clases para test\n",
    "y_pred = model.predict(X_test)"
   ]
  },
  {
   "cell_type": "markdown",
   "metadata": {},
   "source": [
    "#### 2.2.4 Save metrics"
   ]
  },
  {
   "cell_type": "code",
   "execution_count": null,
   "metadata": {},
   "outputs": [],
   "source": [
    "import numpy as np\n",
    "from sklearn.metrics import precision_recall_fscore_support\n",
    "from sklearn.metrics import confusion_matrix\n",
    "tn, fp, fn, tp = confusion_matrix(y_test, y_pred).ravel()\n",
    "p, r, f1, s = precision_recall_fscore_support(y_test, y_pred, average='weighted')\n",
    "model_name = 'NaiveBayes'\n",
    "results.append([model_name, p, r, f1, s, tn, fp, fn, tp])"
   ]
  },
  {
   "cell_type": "markdown",
   "metadata": {},
   "source": [
    "### 2.3 KNeighbors"
   ]
  },
  {
   "cell_type": "code",
   "execution_count": null,
   "metadata": {},
   "outputs": [],
   "source": [
    "from sklearn.neighbors import KNeighborsClassifier\n",
    "\n",
    "# Creacion del pipeline del modelo inicial\n",
    "model = Pipeline(steps=[\n",
    "    ## Selección de los features\n",
    "    (\"tfidf\", TfidfVectorizer(preprocessor=preprocess_text)),\n",
    "    ## Se tiene un desbalance de clases, entonces se hace un oversampling\n",
    "    ('oversample', RandomOverSampler()),\n",
    "    ## Se aplica el modelo\n",
    "    (\"kneig\", KNeighborsClassifier())\n",
    "])"
   ]
  },
  {
   "cell_type": "markdown",
   "metadata": {},
   "source": [
    "#### 2.3.1 Primera iteración grid search"
   ]
  },
  {
   "cell_type": "code",
   "execution_count": null,
   "metadata": {},
   "outputs": [],
   "source": [
    "from sklearn.model_selection import GridSearchCV\n",
    "\n",
    "# Definimos los parámetros a explorar\n",
    "param_grid = {\n",
    "    'tfidf__max_features': [500, 1000],\n",
    "    'kneig__n_neighbors': [3, 5],\n",
    "    'kneig__metric': ['euclidean', 'manhattan', 'cosine']\n",
    "}\n",
    "\n",
    "# Creamos el objeto GridSearchCV\n",
    "grid_search = GridSearchCV(estimator=model,\n",
    "                          param_grid=param_grid,\n",
    "                          cv=5,\n",
    "                          verbose=2)\n",
    "\n",
    "# Ajustamos el modelo a los datos de entrenamiento\n",
    "grid_search.fit(X_train, y_train)\n",
    "\n",
    "# Obtenemos los mejores parámetros\n",
    "best_params = grid_search.best_params_\n",
    "print(best_params)"
   ]
  },
  {
   "cell_type": "markdown",
   "metadata": {},
   "source": [
    "#### 2.3.2 Segunda iteración grid search"
   ]
  },
  {
   "cell_type": "code",
   "execution_count": null,
   "metadata": {},
   "outputs": [],
   "source": [
    "# Definimos los parámetros a explorar\n",
    "param_grid = {\n",
    "    'tfidf__max_features': [500, 1000],\n",
    "    'kneig__n_neighbors': [3, 5],\n",
    "    'kneig__metric': ['euclidean', 'manhattan', 'cosine']\n",
    "}\n",
    "\n",
    "\n",
    "# Creamos el objeto GridSearchCV\n",
    "grid_search = GridSearchCV(estimator=model,\n",
    "                          param_grid=param_grid,\n",
    "                          cv=5,\n",
    "                          verbose=2)\n",
    "\n",
    "# Ajustamos el modelo a los datos de entrenamiento\n",
    "grid_search.fit(X_train, y_train)\n",
    "\n",
    "# Obtenemos los mejores parámetros\n",
    "best_params = grid_search.best_params_\n",
    "print(best_params)"
   ]
  },
  {
   "cell_type": "markdown",
   "metadata": {},
   "source": [
    "#### 2.3.3 Modelo final"
   ]
  },
  {
   "cell_type": "code",
   "execution_count": null,
   "metadata": {},
   "outputs": [],
   "source": [
    "# Creacion del pipeline\n",
    "final_model = Pipeline(steps=[\n",
    "    ## Selección de los features\n",
    "    (\"tfidf\", TfidfVectorizer(max_features=500, preprocessor=preprocess_text)),\n",
    "    ## Se tiene un desbalance de clases, entonces se hace un oversampling\n",
    "    ('oversample', RandomOverSampler()),\n",
    "    ## Se aplica el modelo\n",
    "    (\"kneig\", KNeighborsClassifier(n_neighbors=3, metric='euclidean'))\n",
    "])"
   ]
  },
  {
   "cell_type": "code",
   "execution_count": null,
   "metadata": {},
   "outputs": [],
   "source": [
    "# Ajustamos el modelo\n",
    "final_model.fit(X_train, y_train)"
   ]
  },
  {
   "cell_type": "code",
   "execution_count": null,
   "metadata": {},
   "outputs": [],
   "source": [
    "# Medimos el accuracy del modelo\n",
    "accuracy = final_model.score(X_test, y_test)\n",
    "accuracy"
   ]
  },
  {
   "cell_type": "code",
   "execution_count": null,
   "metadata": {},
   "outputs": [],
   "source": [
    "# Se predicen las clases para test\n",
    "y_pred = model.predict(X_test)"
   ]
  },
  {
   "cell_type": "markdown",
   "metadata": {},
   "source": [
    "#### 2.3.4 Save metrics"
   ]
  },
  {
   "cell_type": "code",
   "execution_count": null,
   "metadata": {},
   "outputs": [],
   "source": [
    "import numpy as np\n",
    "from sklearn.metrics import precision_recall_fscore_support\n",
    "from sklearn.metrics import confusion_matrix\n",
    "tn, fp, fn, tp = confusion_matrix(y_test, y_pred).ravel()\n",
    "p, r, f1, s = precision_recall_fscore_support(y_test, y_pred, average='weighted')\n",
    "model_name = 'K-neighbors'\n",
    "results.append([model_name, p, r, f1, s, tn, fp, fn, tp])"
   ]
  },
  {
   "cell_type": "markdown",
   "metadata": {},
   "source": [
    "### 2.4 Arboles de decisión"
   ]
  },
  {
   "cell_type": "code",
   "execution_count": null,
   "metadata": {},
   "outputs": [],
   "source": [
    "from sklearn.tree import DecisionTreeClassifier\n",
    "\n",
    "# Creacion del pipeline del modelo inicial\n",
    "model = Pipeline(steps=[\n",
    "    ## Selección de los features\n",
    "    (\"tfidf\", TfidfVectorizer(preprocessor=preprocess_text)),\n",
    "    ## Se tiene un desbalance de clases, entonces se hace un oversampling\n",
    "    ('oversample', RandomOverSampler()),\n",
    "    ## Se aplica el modelo\n",
    "    (\"tree\", DecisionTreeClassifier())\n",
    "])"
   ]
  },
  {
   "cell_type": "markdown",
   "metadata": {},
   "source": [
    "#### 2.4.1 Primera iteración grid search"
   ]
  },
  {
   "cell_type": "code",
   "execution_count": null,
   "metadata": {},
   "outputs": [],
   "source": [
    "from sklearn.model_selection import GridSearchCV\n",
    "\n",
    "# Definimos los parámetros a explorar\n",
    "param_grid = {\n",
    "    'tfidf__max_features': [500, 1000],\n",
    "    'tree__criterion': ['gini', 'entropy'],\n",
    "    'tree__max_depth': [5, 10],\n",
    "    'tree__min_samples_split': [5, 10],\n",
    "    'tree__min_samples_leaf': [1, 3]\n",
    "}\n",
    "\n",
    "# Creamos el objeto GridSearchCV\n",
    "grid_search = GridSearchCV(estimator=model,\n",
    "                          param_grid=param_grid,\n",
    "                          cv=5,\n",
    "                          verbose=2)\n",
    "\n",
    "# Ajustamos el modelo a los datos de entrenamiento\n",
    "grid_search.fit(X_train, y_train)\n",
    "\n",
    "# Obtenemos los mejores parámetros\n",
    "best_params = grid_search.best_params_\n",
    "print(best_params)"
   ]
  },
  {
   "cell_type": "markdown",
   "metadata": {},
   "source": [
    "#### 2.4.2 Segunda iteración grid search"
   ]
  },
  {
   "cell_type": "code",
   "execution_count": null,
   "metadata": {},
   "outputs": [],
   "source": [
    "# Definimos los parámetros a explorar\n",
    "# Definimos los parámetros a explorar\n",
    "param_grid = {\n",
    "    'tfidf__max_features': [500, 1000],\n",
    "    'tree__criterion': ['gini', 'entropy'],\n",
    "    'tree__max_depth': [5, 10],\n",
    "    'tree__min_samples_split': [5, 10],\n",
    "    'tree__min_samples_leaf': [1, 3]\n",
    "}\n",
    "\n",
    "\n",
    "\n",
    "# Creamos el objeto GridSearchCV\n",
    "grid_search = GridSearchCV(estimator=model,\n",
    "                          param_grid=param_grid,\n",
    "                          cv=5,\n",
    "                          verbose=2)\n",
    "\n",
    "# Ajustamos el modelo a los datos de entrenamiento\n",
    "grid_search.fit(X_train, y_train)\n",
    "\n",
    "# Obtenemos los mejores parámetros\n",
    "best_params = grid_search.best_params_\n",
    "print(best_params)"
   ]
  },
  {
   "cell_type": "markdown",
   "metadata": {},
   "source": [
    "#### 2.3.3 Modelo final"
   ]
  },
  {
   "cell_type": "code",
   "execution_count": null,
   "metadata": {},
   "outputs": [],
   "source": [
    "# Creacion del pipeline\n",
    "final_model = Pipeline(steps=[\n",
    "    ## Selección de los features\n",
    "    (\"tfidf\", TfidfVectorizer(max_features=500, preprocessor=preprocess_text)),\n",
    "    ## Se tiene un desbalance de clases, entonces se hace un oversampling\n",
    "    ('oversample', RandomOverSampler()),\n",
    "    ## Se aplica el modelo\n",
    "    (\"tree\", DecisionTreeClassifier(max_depth=5, min_samples_split=5, min_samples_leaf=3))\n",
    "])"
   ]
  },
  {
   "cell_type": "code",
   "execution_count": null,
   "metadata": {},
   "outputs": [],
   "source": [
    "# Ajustamos el modelo\n",
    "final_model.fit(X_train, y_train)"
   ]
  },
  {
   "cell_type": "code",
   "execution_count": null,
   "metadata": {},
   "outputs": [],
   "source": [
    "# Medimos el accuracy del modelo\n",
    "accuracy = final_model.score(X_test, y_test)\n",
    "accuracy"
   ]
  },
  {
   "cell_type": "code",
   "execution_count": null,
   "metadata": {},
   "outputs": [],
   "source": [
    "# Se predicen las clases para test\n",
    "y_pred = model.predict(X_test)"
   ]
  },
  {
   "cell_type": "markdown",
   "metadata": {},
   "source": [
    "#### 2.3.4 Save metrics"
   ]
  },
  {
   "cell_type": "code",
   "execution_count": null,
   "metadata": {},
   "outputs": [],
   "source": [
    "import numpy as np\n",
    "from sklearn.metrics import precision_recall_fscore_support\n",
    "from sklearn.metrics import confusion_matrix\n",
    "tn, fp, fn, tp = confusion_matrix(y_test, y_pred).ravel()\n",
    "p, r, f1, s = precision_recall_fscore_support(y_test, y_pred, average='weighted')\n",
    "model_name = 'Decision Trees'\n",
    "results.append([model_name, p, r, f1, s, tn, fp, fn, tp])"
   ]
  },
  {
   "cell_type": "markdown",
   "metadata": {},
   "source": [
    "### 2.5 Support Vector Machine"
   ]
  },
  {
   "cell_type": "code",
   "execution_count": null,
   "metadata": {},
   "outputs": [],
   "source": [
    "from sklearn.svm import SVC\n",
    "\n",
    "# Creacion del pipeline del modelo inicial\n",
    "model = Pipeline(steps=[\n",
    "    ## Selección de los features\n",
    "    (\"tfidf\", TfidfVectorizer(preprocessor=preprocess_text)),\n",
    "    ## Se tiene un desbalance de clases, entonces se hace un oversampling\n",
    "    ('oversample', RandomOverSampler()),\n",
    "    ## Se aplica el modelo\n",
    "    (\"SVC\", SVC())\n",
    "])"
   ]
  },
  {
   "cell_type": "markdown",
   "metadata": {},
   "source": [
    "#### 2.5.1 Primera iteración grid search"
   ]
  },
  {
   "cell_type": "code",
   "execution_count": null,
   "metadata": {},
   "outputs": [],
   "source": [
    "from sklearn.model_selection import GridSearchCV\n",
    "\n",
    "# Definimos los parámetros a explorar\n",
    "param_grid = {\n",
    "    'tfidf__max_features': [500, 1000],\n",
    "    'SVC__C': [0.1, 1, 10, 100],\n",
    "    'SVC__kernel': ['linear', 'rbf'],\n",
    "    'SVC__gamma': [0.1, 1, 10]\n",
    "}\n",
    "\n",
    "# Creamos el objeto GridSearchCV\n",
    "grid_search = GridSearchCV(estimator=model,\n",
    "                          param_grid=param_grid,\n",
    "                          cv=5,\n",
    "                          verbose=2)\n",
    "\n",
    "# Ajustamos el modelo a los datos de entrenamiento\n",
    "grid_search.fit(X_train, y_train)\n",
    "\n",
    "# Obtenemos los mejores parámetros\n",
    "best_params = grid_search.best_params_\n",
    "print(best_params)"
   ]
  },
  {
   "cell_type": "markdown",
   "metadata": {},
   "source": [
    "#### 2.5.2 Segunda iteración grid search"
   ]
  },
  {
   "cell_type": "code",
   "execution_count": null,
   "metadata": {},
   "outputs": [],
   "source": [
    "# Definimos los parámetros a explorar\n",
    "# Definimos los parámetros a explorar\n",
    "param_grid = {\n",
    "    'tfidf__max_features': [500, 1000],\n",
    "    'SVC__C': [0.1, 1, 10, 100],\n",
    "    'SVC__kernel': ['linear', 'rbf'],\n",
    "    'SVC__gamma': [0.1, 1, 10]\n",
    "}\n",
    "\n",
    "\n",
    "# Creamos el objeto GridSearchCV\n",
    "grid_search = GridSearchCV(estimator=model,\n",
    "                          param_grid=param_grid,\n",
    "                          cv=5,\n",
    "                          verbose=2)\n",
    "\n",
    "# Ajustamos el modelo a los datos de entrenamiento\n",
    "grid_search.fit(X_train, y_train)\n",
    "\n",
    "# Obtenemos los mejores parámetros\n",
    "best_params = grid_search.best_params_\n",
    "print(best_params)"
   ]
  },
  {
   "cell_type": "markdown",
   "metadata": {},
   "source": [
    "#### 2.5.3 Modelo final"
   ]
  },
  {
   "cell_type": "code",
   "execution_count": null,
   "metadata": {},
   "outputs": [],
   "source": [
    "# Creacion del pipeline\n",
    "final_model = Pipeline(steps=[\n",
    "    ## Selección de los features\n",
    "    (\"tfidf\", TfidfVectorizer(max_features=500, preprocessor=preprocess_text)),\n",
    "    ## Se tiene un desbalance de clases, entonces se hace un oversampling\n",
    "    ('oversample', RandomOverSampler()),\n",
    "    ## Se aplica el modelo\n",
    "    (\"SVC\", SVC(C=0.1, kernel='linear', gamma=0.1))\n",
    "])"
   ]
  },
  {
   "cell_type": "code",
   "execution_count": null,
   "metadata": {},
   "outputs": [],
   "source": [
    "# Ajustamos el modelo\n",
    "final_model.fit(X_train, y_train)"
   ]
  },
  {
   "cell_type": "code",
   "execution_count": null,
   "metadata": {},
   "outputs": [],
   "source": [
    "# Medimos el accuracy del modelo\n",
    "accuracy = final_model.score(X_test, y_test)\n",
    "accuracy"
   ]
  },
  {
   "cell_type": "code",
   "execution_count": null,
   "metadata": {},
   "outputs": [],
   "source": [
    "# Se predicen las clases para test\n",
    "y_pred = model.predict(X_test)"
   ]
  },
  {
   "cell_type": "markdown",
   "metadata": {},
   "source": [
    "#### 2.5.4 Save metrics"
   ]
  },
  {
   "cell_type": "code",
   "execution_count": null,
   "metadata": {},
   "outputs": [],
   "source": [
    "import numpy as np\n",
    "from sklearn.metrics import precision_recall_fscore_support\n",
    "from sklearn.metrics import confusion_matrix\n",
    "tn, fp, fn, tp = confusion_matrix(y_test, y_pred).ravel()\n",
    "p, r, f1, s = precision_recall_fscore_support(y_test, y_pred, average='weighted')\n",
    "model_name = 'SVC'\n",
    "results.append([model_name, p, r, f1, s, tn, fp, fn, tp])"
   ]
  },
  {
   "cell_type": "markdown",
   "metadata": {},
   "source": [
    "### 2.6 Random Forest"
   ]
  },
  {
   "cell_type": "code",
   "execution_count": null,
   "metadata": {},
   "outputs": [],
   "source": [
    "from sklearn.ensemble import RandomForestClassifier\n",
    "\n",
    "# Creacion del pipeline del modelo inicial\n",
    "model = Pipeline(steps=[\n",
    "    ## Selección de los features\n",
    "    (\"tfidf\", TfidfVectorizer(preprocessor=preprocess_text)),\n",
    "    ## Se tiene un desbalance de clases, entonces se hace un oversampling\n",
    "    ('oversample', RandomOverSampler()),\n",
    "    ## Se aplica el modelo\n",
    "    (\"rforest\", RandomForestClassifier())\n",
    "])"
   ]
  },
  {
   "cell_type": "markdown",
   "metadata": {},
   "source": [
    "#### 2.3.1 Primera iteración grid search"
   ]
  },
  {
   "cell_type": "code",
   "execution_count": null,
   "metadata": {},
   "outputs": [],
   "source": [
    "from sklearn.model_selection import GridSearchCV\n",
    "\n",
    "# Definimos los parámetros a explorar\n",
    "param_grid = {\n",
    "    'tfidf__max_features': [500, 1000],\n",
    "    'rforest__n_estimators': [100, 200],\n",
    "    'rforest__max_depth': [5, 10],\n",
    "    'rforest__min_samples_split': [2, 5],\n",
    "    'rforest__min_samples_leaf': [2, 4]\n",
    "}\n",
    "\n",
    "# Creamos el objeto GridSearchCV\n",
    "grid_search = GridSearchCV(estimator=model,\n",
    "                          param_grid=param_grid,\n",
    "                          cv=5,\n",
    "                          verbose=2)\n",
    "\n",
    "# Ajustamos el modelo a los datos de entrenamiento\n",
    "grid_search.fit(X_train, y_train)\n",
    "\n",
    "# Obtenemos los mejores parámetros\n",
    "best_params = grid_search.best_params_\n",
    "print(best_params)"
   ]
  },
  {
   "cell_type": "markdown",
   "metadata": {},
   "source": [
    "#### 2.3.2 Segunda iteración grid search"
   ]
  },
  {
   "cell_type": "code",
   "execution_count": null,
   "metadata": {},
   "outputs": [],
   "source": [
    "# Definimos los parámetros a explorar\n",
    "param_grid = {\n",
    "    'tfidf__max_features': [500, 1000],\n",
    "    'rforest__n_estimators': [100, 200],\n",
    "    'rforest__max_depth': [5, 10],\n",
    "    'rforest__min_samples_split': [2, 5],\n",
    "    'rforest__min_samples_leaf': [2, 4]\n",
    "}\n",
    "\n",
    "\n",
    "# Creamos el objeto GridSearchCV\n",
    "grid_search = GridSearchCV(estimator=model,\n",
    "                          param_grid=param_grid,\n",
    "                          cv=5,\n",
    "                          verbose=2)\n",
    "\n",
    "# Ajustamos el modelo a los datos de entrenamiento\n",
    "grid_search.fit(X_train, y_train)\n",
    "\n",
    "# Obtenemos los mejores parámetros\n",
    "best_params = grid_search.best_params_\n",
    "print(best_params)"
   ]
  },
  {
   "cell_type": "markdown",
   "metadata": {},
   "source": [
    "#### 2.3.3 Modelo final"
   ]
  },
  {
   "cell_type": "code",
   "execution_count": null,
   "metadata": {},
   "outputs": [],
   "source": [
    "# Creacion del pipeline\n",
    "final_model = Pipeline(steps=[\n",
    "    ## Selección de los features\n",
    "    (\"tfidf\", TfidfVectorizer(max_features=500, preprocessor=preprocess_text)),\n",
    "    ## Se tiene un desbalance de clases, entonces se hace un oversampling\n",
    "    ('oversample', RandomOverSampler()),\n",
    "    ## Se aplica el modelo\n",
    "    (\"rforest\", RandomForestClassifier(n_estimators=100, max_depth=5, min_samples_split=2, min_samples_leaf=2))\n",
    "])"
   ]
  },
  {
   "cell_type": "code",
   "execution_count": null,
   "metadata": {},
   "outputs": [],
   "source": [
    "# Ajustamos el modelo\n",
    "final_model.fit(X_train, y_train)"
   ]
  },
  {
   "cell_type": "code",
   "execution_count": null,
   "metadata": {},
   "outputs": [],
   "source": [
    "# Medimos el accuracy del modelo\n",
    "accuracy = final_model.score(X_test, y_test)\n",
    "accuracy"
   ]
  },
  {
   "cell_type": "code",
   "execution_count": null,
   "metadata": {},
   "outputs": [],
   "source": [
    "# Se predicen las clases para test\n",
    "y_pred = model.predict(X_test)"
   ]
  },
  {
   "cell_type": "markdown",
   "metadata": {},
   "source": [
    "#### 2.3.4 Save metrics"
   ]
  },
  {
   "cell_type": "code",
   "execution_count": null,
   "metadata": {},
   "outputs": [],
   "source": [
    "import numpy as np\n",
    "from sklearn.metrics import precision_recall_fscore_support\n",
    "from sklearn.metrics import confusion_matrix\n",
    "tn, fp, fn, tp = confusion_matrix(y_test, y_pred).ravel()\n",
    "p, r, f1, s = precision_recall_fscore_support(y_test, y_pred, average='weighted')\n",
    "model_name = 'Random Forest'\n",
    "results.append([model_name, p, r, f1, s, tn, fp, fn, tp])"
   ]
  },
  {
   "cell_type": "markdown",
   "metadata": {},
   "source": [
    "### 2.7 XGBoost"
   ]
  },
  {
   "cell_type": "code",
   "execution_count": null,
   "metadata": {},
   "outputs": [],
   "source": [
    "from sklearn.neighbors import KNeighborsClassifier\n",
    "import xgboost as xgb\n",
    "\n",
    "# Creacion del pipeline del modelo inicial\n",
    "model = Pipeline(steps=[\n",
    "    ## Selección de los features\n",
    "    (\"tfidf\", TfidfVectorizer(preprocessor=preprocess_text)),\n",
    "    ## Se tiene un desbalance de clases, entonces se hace un oversampling\n",
    "    ('oversample', RandomOverSampler()),\n",
    "    ## Se aplica el modelo\n",
    "    (\"XGB\", xgb())\n",
    "])"
   ]
  },
  {
   "cell_type": "markdown",
   "metadata": {},
   "source": [
    "#### 2.7.1 Primera iteración grid search"
   ]
  },
  {
   "cell_type": "code",
   "execution_count": null,
   "metadata": {},
   "outputs": [],
   "source": [
    "from sklearn.model_selection import GridSearchCV\n",
    "\n",
    "param_grid = {\n",
    "    'tfidf__max_features': [500, 1000],\n",
    "    'XGB__max_depth': [3, 5],\n",
    "    'XGB__learning_rate': [0.1, 0.3],\n",
    "    'XGB__subsample': [0.8, 1.0],\n",
    "    'XGB__colsample_bytree': [0.8, 1.0]\n",
    "}\n",
    "\n",
    "# Creamos el objeto GridSearchCV\n",
    "grid_search = GridSearchCV(estimator=model,\n",
    "                          param_grid=param_grid,\n",
    "                          cv=5,\n",
    "                          verbose=2)\n",
    "\n",
    "# Ajustamos el modelo a los datos de entrenamiento\n",
    "grid_search.fit(X_train, y_train)\n",
    "\n",
    "# Obtenemos los mejores parámetros\n",
    "best_params = grid_search.best_params_\n",
    "print(best_params)"
   ]
  },
  {
   "cell_type": "markdown",
   "metadata": {},
   "source": [
    "#### 2.7.2 Segunda iteración grid search"
   ]
  },
  {
   "cell_type": "code",
   "execution_count": null,
   "metadata": {},
   "outputs": [],
   "source": [
    "# Definimos los parámetros a explorar\n",
    "param_grid = {\n",
    "    'tfidf__max_features': [500, 1000],\n",
    "    'XGB__max_depth': [3, 5],\n",
    "    'XGB__learning_rate': [0.1, 0.3],\n",
    "    'XGB__subsample': [0.8, 1.0],\n",
    "    'XGB__colsample_bytree': [0.8, 1.0]\n",
    "}\n",
    "\n",
    "# Creamos el objeto GridSearchCV\n",
    "grid_search = GridSearchCV(estimator=model,\n",
    "                          param_grid=param_grid,\n",
    "                          cv=5,\n",
    "                          verbose=2)\n",
    "\n",
    "# Ajustamos el modelo a los datos de entrenamiento\n",
    "grid_search.fit(X_train, y_train)\n",
    "\n",
    "# Obtenemos los mejores parámetros\n",
    "best_params = grid_search.best_params_\n",
    "print(best_params)"
   ]
  },
  {
   "cell_type": "markdown",
   "metadata": {},
   "source": [
    "#### 2.7.3 Modelo final"
   ]
  },
  {
   "cell_type": "code",
   "execution_count": null,
   "metadata": {},
   "outputs": [],
   "source": [
    "# Creacion del pipeline\n",
    "final_model = Pipeline(steps=[\n",
    "    ## Selección de los features\n",
    "    (\"tfidf\", TfidfVectorizer(max_features=500, preprocessor=preprocess_text)),\n",
    "    ## Se tiene un desbalance de clases, entonces se hace un oversampling\n",
    "    ('oversample', RandomOverSampler()),\n",
    "    ## Se aplica el modelo\n",
    "    (\"XGB\", xgb(max_depth=3, learning_rate=0.1, subsample=0.8, colsample_bytree=0-8))\n",
    "])"
   ]
  },
  {
   "cell_type": "code",
   "execution_count": null,
   "metadata": {},
   "outputs": [],
   "source": [
    "# Ajustamos el modelo\n",
    "final_model.fit(X_train, y_train)"
   ]
  },
  {
   "cell_type": "code",
   "execution_count": null,
   "metadata": {},
   "outputs": [],
   "source": [
    "# Medimos el accuracy del modelo\n",
    "accuracy = final_model.score(X_test, y_test)\n",
    "accuracy"
   ]
  },
  {
   "cell_type": "code",
   "execution_count": null,
   "metadata": {},
   "outputs": [],
   "source": [
    "# Se predicen las clases para test\n",
    "y_pred = model.predict(X_test)"
   ]
  },
  {
   "cell_type": "markdown",
   "metadata": {},
   "source": [
    "#### 2.7.4 Save metrics"
   ]
  },
  {
   "cell_type": "code",
   "execution_count": null,
   "metadata": {},
   "outputs": [],
   "source": [
    "import numpy as np\n",
    "from sklearn.metrics import precision_recall_fscore_support\n",
    "from sklearn.metrics import confusion_matrix\n",
    "tn, fp, fn, tp = confusion_matrix(y_test, y_pred).ravel()\n",
    "p, r, f1, s = precision_recall_fscore_support(y_test, y_pred, average='weighted')\n",
    "model_name = 'XGBoost'\n",
    "results.append([model_name, p, r, f1, s, tn, fp, fn, tp])"
   ]
  },
  {
   "cell_type": "markdown",
   "metadata": {},
   "source": [
    "### 2.8 MLP Classifier (Multi-Layer Perceptron)"
   ]
  },
  {
   "cell_type": "code",
   "execution_count": null,
   "metadata": {},
   "outputs": [],
   "source": [
    "from sklearn.neural_network import MLPClassifier\n",
    "\n",
    "# Creacion del pipeline del modelo inicial\n",
    "model = Pipeline(steps=[\n",
    "    ## Selección de los features\n",
    "    (\"tfidf\", TfidfVectorizer(preprocessor=preprocess_text)),\n",
    "    ## Se tiene un desbalance de clases, entonces se hace un oversampling\n",
    "    ('oversample', RandomOverSampler()),\n",
    "    ## Se aplica el modelo\n",
    "    (\"MLP\", MLPClassifier())\n",
    "])"
   ]
  },
  {
   "cell_type": "markdown",
   "metadata": {},
   "source": [
    "#### 2.8.1 Primera iteración grid search"
   ]
  },
  {
   "cell_type": "code",
   "execution_count": null,
   "metadata": {},
   "outputs": [],
   "source": [
    "from sklearn.model_selection import GridSearchCV\n",
    "\n",
    "param_grid = {\n",
    "    'tfidf__max_features': [500, 1000],\n",
    "    'MLP__hidden_layer_sizes': [(100, 50), (50, 50)],\n",
    "    'MLP__activation': ['relu', 'tanh'],\n",
    "    'MLP__solver': ['adam', 'sgd'],\n",
    "    'MLP__alpha': [0.001, 0.01],\n",
    "    'MLP__learning_rate': ['constant', 'adaptive']\n",
    "}\n",
    "\n",
    "# Creamos el objeto GridSearchCV\n",
    "grid_search = GridSearchCV(estimator=model,\n",
    "                          param_grid=param_grid,\n",
    "                          cv=5,\n",
    "                          verbose=2)\n",
    "\n",
    "# Ajustamos el modelo a los datos de entrenamiento\n",
    "grid_search.fit(X_train, y_train)\n",
    "\n",
    "# Obtenemos los mejores parámetros\n",
    "best_params = grid_search.best_params_\n",
    "print(best_params)"
   ]
  },
  {
   "cell_type": "markdown",
   "metadata": {},
   "source": [
    "#### 2.8.2 Segunda iteración grid search"
   ]
  },
  {
   "cell_type": "code",
   "execution_count": null,
   "metadata": {},
   "outputs": [],
   "source": [
    "# Definimos los parámetros a explorar\n",
    "param_grid = {\n",
    "    'tfidf__max_features': [500, 1000],\n",
    "    'MLP__hidden_layer_sizes': [(100, 50), (50, 50)],\n",
    "    'MLP__activation': ['relu', 'tanh'],\n",
    "    'MLP__solver': ['adam', 'sgd'],\n",
    "    'MLP__alpha': [0.001, 0.01],\n",
    "    'MLP__learning_rate': ['constant', 'adaptive']\n",
    "}\n",
    "\n",
    "\n",
    "# Creamos el objeto GridSearchCV\n",
    "grid_search = GridSearchCV(estimator=model,\n",
    "                          param_grid=param_grid,\n",
    "                          cv=5,\n",
    "                          verbose=2)\n",
    "\n",
    "# Ajustamos el modelo a los datos de entrenamiento\n",
    "grid_search.fit(X_train, y_train)\n",
    "\n",
    "# Obtenemos los mejores parámetros\n",
    "best_params = grid_search.best_params_\n",
    "print(best_params)"
   ]
  },
  {
   "cell_type": "markdown",
   "metadata": {},
   "source": [
    "#### 2.8.3 Modelo final"
   ]
  },
  {
   "cell_type": "code",
   "execution_count": null,
   "metadata": {},
   "outputs": [],
   "source": [
    "# Creacion del pipeline\n",
    "final_model = Pipeline(steps=[\n",
    "    ## Selección de los features\n",
    "    (\"tfidf\", TfidfVectorizer(max_features=500, preprocessor=preprocess_text)),\n",
    "    ## Se tiene un desbalance de clases, entonces se hace un oversampling\n",
    "    ('oversample', RandomOverSampler()),\n",
    "    ## Se aplica el modelo\n",
    "    (\"MLP\", MLPClassifier(hidden_layer_sizes=(50, 50), activation='relu', solver='sgd', alpha=0.01, learning_rate='adaptative'))\n",
    "])"
   ]
  },
  {
   "cell_type": "code",
   "execution_count": null,
   "metadata": {},
   "outputs": [],
   "source": [
    "# Ajustamos el modelo\n",
    "final_model.fit(X_train, y_train)"
   ]
  },
  {
   "cell_type": "code",
   "execution_count": null,
   "metadata": {},
   "outputs": [],
   "source": [
    "# Medimos el accuracy del modelo\n",
    "accuracy = final_model.score(X_test, y_test)\n",
    "accuracy"
   ]
  },
  {
   "cell_type": "code",
   "execution_count": null,
   "metadata": {},
   "outputs": [],
   "source": [
    "# Se predicen las clases para test\n",
    "y_pred = model.predict(X_test)"
   ]
  },
  {
   "cell_type": "markdown",
   "metadata": {},
   "source": [
    "#### 2.8.4 Save metrics"
   ]
  },
  {
   "cell_type": "code",
   "execution_count": null,
   "metadata": {},
   "outputs": [],
   "source": [
    "import numpy as np\n",
    "from sklearn.metrics import precision_recall_fscore_support\n",
    "from sklearn.metrics import confusion_matrix\n",
    "tn, fp, fn, tp = confusion_matrix(y_test, y_pred).ravel()\n",
    "p, r, f1, s = precision_recall_fscore_support(y_test, y_pred, average='weighted')\n",
    "model_name = 'MLP'\n",
    "results.append([model_name, p, r, f1, s, tn, fp, fn, tp])"
   ]
  }
 ],
 "metadata": {
  "kernelspec": {
   "display_name": "env_nlp",
   "language": "python",
   "name": "python3"
  },
  "language_info": {
   "codemirror_mode": {
    "name": "ipython",
    "version": 3
   },
   "file_extension": ".py",
   "mimetype": "text/x-python",
   "name": "python",
   "nbconvert_exporter": "python",
   "pygments_lexer": "ipython3",
   "version": "3.11.10"
  }
 },
 "nbformat": 4,
 "nbformat_minor": 2
}
