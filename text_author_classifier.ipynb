{
 "cells": [
  {
   "cell_type": "markdown",
   "metadata": {},
   "source": [
    "### 0. Libraries and utilities"
   ]
  },
  {
   "cell_type": "code",
   "execution_count": 1,
   "metadata": {},
   "outputs": [
    {
     "name": "stderr",
     "output_type": "stream",
     "text": [
      "[nltk_data] Downloading package stopwords to\n",
      "[nltk_data]     C:\\Users\\ccsar\\AppData\\Roaming\\nltk_data...\n",
      "[nltk_data]   Package stopwords is already up-to-date!\n"
     ]
    },
    {
     "data": {
      "text/plain": [
       "True"
      ]
     },
     "execution_count": 1,
     "metadata": {},
     "output_type": "execute_result"
    }
   ],
   "source": [
    "import re\n",
    "import unicodedata\n",
    "import numpy as np\n",
    "import pandas as pd\n",
    "from nltk.corpus import stopwords\n",
    "import nltk\n",
    "nltk.download('stopwords')"
   ]
  },
  {
   "cell_type": "code",
   "execution_count": 2,
   "metadata": {},
   "outputs": [
    {
     "data": {
      "text/plain": [
       "'say love place'"
      ]
     },
     "execution_count": 2,
     "metadata": {},
     "output_type": "execute_result"
    }
   ],
   "source": [
    "def preprocess_text(text):\n",
    "    # Convert to lowercase\n",
    "    text = text.lower()\n",
    "\n",
    "    # Remove accents\n",
    "    text = unicodedata.normalize('NFKD', text).encode('ascii', 'ignore').decode('utf-8')\n",
    "\n",
    "    # Remove HTML tags\n",
    "    text = re.sub(r'<.*?>', '', text)\n",
    "\n",
    "    # Remove punctuation\n",
    "    text = re.sub(r'[^\\w\\s]', '', text)\n",
    "\n",
    "    # Remove numbers\n",
    "    text = re.sub(r'\\d+', '', text)\n",
    "\n",
    "    # Tokenize the text\n",
    "    tokens = text.split()\n",
    "\n",
    "    # Remove English stopwords\n",
    "    stop_words = set(stopwords.words('english'))\n",
    "    tokens = [token for token in tokens if token.lower() not in stop_words]\n",
    "\n",
    "    # Join the tokens back into a single string\n",
    "    text = ' '.join(tokens)\n",
    "\n",
    "    return text\n",
    "\n",
    "# Limpiamos el texto\n",
    "preprocess_text('What can I say, I love this place')"
   ]
  },
  {
   "cell_type": "markdown",
   "metadata": {},
   "source": [
    "### 1. Preprocessing"
   ]
  },
  {
   "cell_type": "code",
   "execution_count": 3,
   "metadata": {},
   "outputs": [
    {
     "name": "stdout",
     "output_type": "stream",
     "text": [
      "Shape of dataframe: (1250, 2)\n"
     ]
    },
    {
     "data": {
      "text/html": [
       "<div>\n",
       "<style scoped>\n",
       "    .dataframe tbody tr th:only-of-type {\n",
       "        vertical-align: middle;\n",
       "    }\n",
       "\n",
       "    .dataframe tbody tr th {\n",
       "        vertical-align: top;\n",
       "    }\n",
       "\n",
       "    .dataframe thead th {\n",
       "        text-align: right;\n",
       "    }\n",
       "</style>\n",
       "<table border=\"1\" class=\"dataframe\">\n",
       "  <thead>\n",
       "    <tr style=\"text-align: right;\">\n",
       "      <th></th>\n",
       "      <th>text</th>\n",
       "      <th>author</th>\n",
       "    </tr>\n",
       "  </thead>\n",
       "  <tbody>\n",
       "    <tr>\n",
       "      <th>41611</th>\n",
       "      <td>excuse our lives were in danger by these savag...</td>\n",
       "      <td>38</td>\n",
       "    </tr>\n",
       "    <tr>\n",
       "      <th>36824</th>\n",
       "      <td>evidently expected instant death and held up h...</td>\n",
       "      <td>35</td>\n",
       "    </tr>\n",
       "    <tr>\n",
       "      <th>7832</th>\n",
       "      <td>united ever for your welfare ever for your ben...</td>\n",
       "      <td>8</td>\n",
       "    </tr>\n",
       "    <tr>\n",
       "      <th>51458</th>\n",
       "      <td>ages here and there might be seen a rude perch...</td>\n",
       "      <td>48</td>\n",
       "    </tr>\n",
       "    <tr>\n",
       "      <th>47014</th>\n",
       "      <td>development here having first seen the profit ...</td>\n",
       "      <td>43</td>\n",
       "    </tr>\n",
       "  </tbody>\n",
       "</table>\n",
       "</div>"
      ],
      "text/plain": [
       "                                                    text  author\n",
       "41611  excuse our lives were in danger by these savag...      38\n",
       "36824  evidently expected instant death and held up h...      35\n",
       "7832   united ever for your welfare ever for your ben...       8\n",
       "51458  ages here and there might be seen a rude perch...      48\n",
       "47014  development here having first seen the profit ...      43"
      ]
     },
     "execution_count": 3,
     "metadata": {},
     "output_type": "execute_result"
    }
   ],
   "source": [
    "# data_path = r'Data\\Gungor_2018_VictorianAuthorAttribution_data-train.csv'\n",
    "# df = pd.read_csv(data_path, encoding='latin-1')\n",
    "\n",
    "## URL from github repo, load as dataframe\n",
    "url = 'https://raw.githubusercontent.com/ccsarmientot/text_author_classifier/master/datasets/sample_victorian.parquet'\n",
    "url = 'datasets/sample_victorian.parquet'\n",
    "df = pd.read_parquet(url)\n",
    "df = df.sample(1250)\n",
    "\n",
    "print(f'Shape of dataframe: {df.shape}')\n",
    "df.head(5)"
   ]
  },
  {
   "cell_type": "code",
   "execution_count": 4,
   "metadata": {},
   "outputs": [
    {
     "data": {
      "text/plain": [
       "'Cantidad promedio de caracteres por texto: 4,942.12'"
      ]
     },
     "execution_count": 4,
     "metadata": {},
     "output_type": "execute_result"
    }
   ],
   "source": [
    "avg_chr = np.mean(df['text'].apply(len))\n",
    "f'Cantidad promedio de caracteres por texto: {avg_chr:,.2f}'"
   ]
  },
  {
   "cell_type": "code",
   "execution_count": 5,
   "metadata": {},
   "outputs": [
    {
     "data": {
      "text/plain": [
       "'Cantidad promedio de palabras por texto: 1,001.00'"
      ]
     },
     "execution_count": 5,
     "metadata": {},
     "output_type": "execute_result"
    }
   ],
   "source": [
    "avg_chr = np.mean(df['text'].apply(lambda x: len(x.split(' '))))\n",
    "f'Cantidad promedio de palabras por texto: {avg_chr:,.2f}'"
   ]
  },
  {
   "cell_type": "code",
   "execution_count": 6,
   "metadata": {},
   "outputs": [
    {
     "data": {
      "text/plain": [
       "author\n",
       "8     171\n",
       "26    103\n",
       "14     64\n",
       "39     61\n",
       "33     59\n",
       "45     55\n",
       "21     44\n",
       "48     42\n",
       "37     41\n",
       "4      38\n",
       "19     36\n",
       "43     34\n",
       "15     33\n",
       "18     31\n",
       "25     28\n",
       "42     26\n",
       "1      24\n",
       "38     24\n",
       "41     22\n",
       "30     22\n",
       "32     21\n",
       "17     20\n",
       "28     18\n",
       "10     17\n",
       "34     17\n",
       "29     15\n",
       "9      15\n",
       "50     15\n",
       "35     14\n",
       "11     14\n",
       "20     13\n",
       "12     12\n",
       "44     12\n",
       "36     12\n",
       "22     10\n",
       "46      9\n",
       "23      9\n",
       "40      9\n",
       "2       8\n",
       "6       7\n",
       "13      6\n",
       "27      6\n",
       "24      5\n",
       "16      5\n",
       "3       3\n",
       "Name: count, dtype: int64"
      ]
     },
     "execution_count": 6,
     "metadata": {},
     "output_type": "execute_result"
    }
   ],
   "source": [
    "## Se identifica un desbalance de clases:\n",
    "df['author'].value_counts()"
   ]
  },
  {
   "cell_type": "code",
   "execution_count": 7,
   "metadata": {},
   "outputs": [],
   "source": [
    "# ## Getting sample fo \n",
    "# df_sample = df.sample(10_000)\n",
    "# n_authors = df_sample['author'].nunique()\n",
    "# print(f'Authors in df_sample: {n_authors}')\n",
    "# df_sample.head(5)"
   ]
  },
  {
   "cell_type": "markdown",
   "metadata": {},
   "source": [
    "## 2. Modelling"
   ]
  },
  {
   "cell_type": "code",
   "execution_count": 8,
   "metadata": {},
   "outputs": [],
   "source": [
    "# Importamos librerias\n",
    "from sklearn.pipeline import Pipeline\n",
    "from sklearn.model_selection import train_test_split\n",
    "from sklearn.feature_extraction.text import TfidfVectorizer\n",
    "from sklearn.linear_model import LogisticRegression\n",
    "from imblearn.pipeline import Pipeline\n",
    "from imblearn.over_sampling import RandomOverSampler\n",
    "\n",
    "results = []\n",
    "X = df['text']\n",
    "y = df['author']\n",
    "\n",
    "# Dividimos los datos en entrenamiento y testeo\n",
    "X_train, X_test, y_train, y_test = train_test_split(X, y, test_size=0.2, random_state=42)"
   ]
  },
  {
   "cell_type": "markdown",
   "metadata": {},
   "source": [
    "### 2.1 Logistic Regression"
   ]
  },
  {
   "cell_type": "code",
   "execution_count": 9,
   "metadata": {},
   "outputs": [],
   "source": [
    "# Creacion del pipeline del modelo inicial\n",
    "model = Pipeline(steps=[\n",
    "    ## Selección de los features\n",
    "    (\"tfidf\", TfidfVectorizer(preprocessor=preprocess_text)),\n",
    "    ## Se tiene un desbalance de clases, entonces se hace un oversampling\n",
    "    ('oversample', RandomOverSampler()),\n",
    "    ## Se aplica el modelo\n",
    "    (\"logit\", LogisticRegression())\n",
    "])"
   ]
  },
  {
   "cell_type": "markdown",
   "metadata": {},
   "source": [
    "#### 2.1.1 Primera iteración grid search"
   ]
  },
  {
   "cell_type": "code",
   "execution_count": 10,
   "metadata": {},
   "outputs": [
    {
     "name": "stdout",
     "output_type": "stream",
     "text": [
      "Fitting 5 folds for each of 6 candidates, totalling 30 fits\n"
     ]
    },
    {
     "name": "stderr",
     "output_type": "stream",
     "text": [
      "c:\\Users\\ccsar\\miniconda3\\envs\\env_nlp\\Lib\\site-packages\\sklearn\\model_selection\\_split.py:776: UserWarning: The least populated class in y has only 2 members, which is less than n_splits=5.\n",
      "  warnings.warn(\n"
     ]
    },
    {
     "name": "stdout",
     "output_type": "stream",
     "text": [
      "[CV] END ..............logit__C=0.1, tfidf__max_features=500; total time=   4.6s\n",
      "[CV] END ..............logit__C=0.1, tfidf__max_features=500; total time=   3.9s\n",
      "[CV] END ..............logit__C=0.1, tfidf__max_features=500; total time=   4.3s\n",
      "[CV] END ..............logit__C=0.1, tfidf__max_features=500; total time=   3.9s\n",
      "[CV] END ..............logit__C=0.1, tfidf__max_features=500; total time=   5.5s\n",
      "[CV] END .............logit__C=0.1, tfidf__max_features=1000; total time=   4.2s\n",
      "[CV] END .............logit__C=0.1, tfidf__max_features=1000; total time=   6.6s\n",
      "[CV] END .............logit__C=0.1, tfidf__max_features=1000; total time=   4.6s\n",
      "[CV] END .............logit__C=0.1, tfidf__max_features=1000; total time=   4.6s\n",
      "[CV] END .............logit__C=0.1, tfidf__max_features=1000; total time=   4.9s\n",
      "[CV] END ................logit__C=1, tfidf__max_features=500; total time=  20.0s\n",
      "[CV] END ................logit__C=1, tfidf__max_features=500; total time=  19.3s\n",
      "[CV] END ................logit__C=1, tfidf__max_features=500; total time=  27.8s\n",
      "[CV] END ................logit__C=1, tfidf__max_features=500; total time=  21.5s\n",
      "[CV] END ................logit__C=1, tfidf__max_features=500; total time=  11.2s\n",
      "[CV] END ...............logit__C=1, tfidf__max_features=1000; total time=   6.3s\n",
      "[CV] END ...............logit__C=1, tfidf__max_features=1000; total time=  11.3s\n",
      "[CV] END ...............logit__C=1, tfidf__max_features=1000; total time=  11.4s\n",
      "[CV] END ...............logit__C=1, tfidf__max_features=1000; total time=   9.2s\n",
      "[CV] END ...............logit__C=1, tfidf__max_features=1000; total time=   6.4s\n",
      "[CV] END ...............logit__C=10, tfidf__max_features=500; total time=   8.2s\n",
      "[CV] END ...............logit__C=10, tfidf__max_features=500; total time=  10.3s\n",
      "[CV] END ...............logit__C=10, tfidf__max_features=500; total time=   6.7s\n",
      "[CV] END ...............logit__C=10, tfidf__max_features=500; total time=   6.4s\n",
      "[CV] END ...............logit__C=10, tfidf__max_features=500; total time=   6.1s\n",
      "[CV] END ..............logit__C=10, tfidf__max_features=1000; total time=   9.3s\n",
      "[CV] END ..............logit__C=10, tfidf__max_features=1000; total time=   9.9s\n",
      "[CV] END ..............logit__C=10, tfidf__max_features=1000; total time=   7.9s\n",
      "[CV] END ..............logit__C=10, tfidf__max_features=1000; total time=  10.2s\n",
      "[CV] END ..............logit__C=10, tfidf__max_features=1000; total time=   8.0s\n",
      "{'logit__C': 10, 'tfidf__max_features': 1000}\n"
     ]
    }
   ],
   "source": [
    "from sklearn.model_selection import GridSearchCV\n",
    "\n",
    "# Definimos los parámetros a explorar\n",
    "param_grid = {\n",
    "    'tfidf__max_features': [500, 1000],\n",
    "    'logit__C': [0.1, 1, 10],\n",
    "}\n",
    "\n",
    "# Creamos el objeto GridSearchCV\n",
    "grid_search = GridSearchCV(estimator=model,\n",
    "                          param_grid=param_grid,\n",
    "                          cv=5,\n",
    "                          verbose=2)\n",
    "\n",
    "# Ajustamos el modelo a los datos de entrenamiento\n",
    "grid_search.fit(X_train, y_train)\n",
    "\n",
    "# Obtenemos los mejores parámetros\n",
    "best_params = grid_search.best_params_\n",
    "print(best_params)"
   ]
  },
  {
   "cell_type": "markdown",
   "metadata": {},
   "source": [
    "#### 2.1.2 Segunda iteración grid search"
   ]
  },
  {
   "cell_type": "code",
   "execution_count": 11,
   "metadata": {},
   "outputs": [
    {
     "name": "stdout",
     "output_type": "stream",
     "text": [
      "Fitting 5 folds for each of 6 candidates, totalling 30 fits\n"
     ]
    },
    {
     "name": "stderr",
     "output_type": "stream",
     "text": [
      "c:\\Users\\ccsar\\miniconda3\\envs\\env_nlp\\Lib\\site-packages\\sklearn\\model_selection\\_split.py:776: UserWarning: The least populated class in y has only 2 members, which is less than n_splits=5.\n",
      "  warnings.warn(\n"
     ]
    },
    {
     "name": "stdout",
     "output_type": "stream",
     "text": [
      "[CV] END ..............logit__C=0.1, tfidf__max_features=500; total time=   6.7s\n",
      "[CV] END ..............logit__C=0.1, tfidf__max_features=500; total time=   6.3s\n",
      "[CV] END ..............logit__C=0.1, tfidf__max_features=500; total time=   4.1s\n",
      "[CV] END ..............logit__C=0.1, tfidf__max_features=500; total time=   3.9s\n",
      "[CV] END ..............logit__C=0.1, tfidf__max_features=500; total time=   4.1s\n",
      "[CV] END .............logit__C=0.1, tfidf__max_features=1000; total time=   3.9s\n",
      "[CV] END .............logit__C=0.1, tfidf__max_features=1000; total time=   4.1s\n",
      "[CV] END .............logit__C=0.1, tfidf__max_features=1000; total time=   6.3s\n",
      "[CV] END .............logit__C=0.1, tfidf__max_features=1000; total time=   5.7s\n",
      "[CV] END .............logit__C=0.1, tfidf__max_features=1000; total time=   4.0s\n",
      "[CV] END ................logit__C=1, tfidf__max_features=500; total time=   6.9s\n",
      "[CV] END ................logit__C=1, tfidf__max_features=500; total time=   5.9s\n",
      "[CV] END ................logit__C=1, tfidf__max_features=500; total time=   6.0s\n",
      "[CV] END ................logit__C=1, tfidf__max_features=500; total time=   6.4s\n",
      "[CV] END ................logit__C=1, tfidf__max_features=500; total time=   5.5s\n",
      "[CV] END ...............logit__C=1, tfidf__max_features=1000; total time=   6.2s\n",
      "[CV] END ...............logit__C=1, tfidf__max_features=1000; total time=   6.5s\n",
      "[CV] END ...............logit__C=1, tfidf__max_features=1000; total time=   6.0s\n",
      "[CV] END ...............logit__C=1, tfidf__max_features=1000; total time=   8.9s\n",
      "[CV] END ...............logit__C=1, tfidf__max_features=1000; total time=   7.1s\n",
      "[CV] END ...............logit__C=10, tfidf__max_features=500; total time=   7.4s\n",
      "[CV] END ...............logit__C=10, tfidf__max_features=500; total time=  27.9s\n",
      "[CV] END ...............logit__C=10, tfidf__max_features=500; total time=  40.4s\n",
      "[CV] END ...............logit__C=10, tfidf__max_features=500; total time=  25.3s\n",
      "[CV] END ...............logit__C=10, tfidf__max_features=500; total time=  17.1s\n",
      "[CV] END ..............logit__C=10, tfidf__max_features=1000; total time=  24.2s\n",
      "[CV] END ..............logit__C=10, tfidf__max_features=1000; total time=  13.2s\n",
      "[CV] END ..............logit__C=10, tfidf__max_features=1000; total time=   9.9s\n",
      "[CV] END ..............logit__C=10, tfidf__max_features=1000; total time=  13.8s\n",
      "[CV] END ..............logit__C=10, tfidf__max_features=1000; total time=  19.3s\n",
      "{'logit__C': 10, 'tfidf__max_features': 1000}\n"
     ]
    }
   ],
   "source": [
    "# Definimos los parámetros a explorar\n",
    "param_grid = {\n",
    "    'tfidf__max_features': [1000],\n",
    "    'logit__C': [9, 10, 11],\n",
    "}\n",
    "\n",
    "# Creamos el objeto GridSearchCV\n",
    "grid_search = GridSearchCV(estimator=model,\n",
    "                          param_grid=param_grid,\n",
    "                          cv=5,\n",
    "                          verbose=2)\n",
    "\n",
    "# Ajustamos el modelo a los datos de entrenamiento\n",
    "grid_search.fit(X_train, y_train)\n",
    "\n",
    "# Obtenemos los mejores parámetros\n",
    "best_params = grid_search.best_params_\n",
    "print(best_params)"
   ]
  },
  {
   "cell_type": "markdown",
   "metadata": {},
   "source": [
    "#### 2.1.3 Modelo final"
   ]
  },
  {
   "cell_type": "code",
   "execution_count": 12,
   "metadata": {},
   "outputs": [],
   "source": [
    "# Creacion del pipeline\n",
    "final_model = Pipeline(steps=[\n",
    "    ## Selección de los features\n",
    "    (\"tfidf\", TfidfVectorizer(max_features=500, preprocessor=preprocess_text)),\n",
    "    ## Se tiene un desbalance de clases, entonces se hace un oversampling\n",
    "    ('oversample', RandomOverSampler()),\n",
    "    ## Se aplica el modelo\n",
    "    (\"logit\", LogisticRegression(C=0.1))\n",
    "])"
   ]
  },
  {
   "cell_type": "code",
   "execution_count": 13,
   "metadata": {},
   "outputs": [
    {
     "data": {
      "text/html": [
       "<style>#sk-container-id-1 {\n",
       "  /* Definition of color scheme common for light and dark mode */\n",
       "  --sklearn-color-text: black;\n",
       "  --sklearn-color-line: gray;\n",
       "  /* Definition of color scheme for unfitted estimators */\n",
       "  --sklearn-color-unfitted-level-0: #fff5e6;\n",
       "  --sklearn-color-unfitted-level-1: #f6e4d2;\n",
       "  --sklearn-color-unfitted-level-2: #ffe0b3;\n",
       "  --sklearn-color-unfitted-level-3: chocolate;\n",
       "  /* Definition of color scheme for fitted estimators */\n",
       "  --sklearn-color-fitted-level-0: #f0f8ff;\n",
       "  --sklearn-color-fitted-level-1: #d4ebff;\n",
       "  --sklearn-color-fitted-level-2: #b3dbfd;\n",
       "  --sklearn-color-fitted-level-3: cornflowerblue;\n",
       "\n",
       "  /* Specific color for light theme */\n",
       "  --sklearn-color-text-on-default-background: var(--sg-text-color, var(--theme-code-foreground, var(--jp-content-font-color1, black)));\n",
       "  --sklearn-color-background: var(--sg-background-color, var(--theme-background, var(--jp-layout-color0, white)));\n",
       "  --sklearn-color-border-box: var(--sg-text-color, var(--theme-code-foreground, var(--jp-content-font-color1, black)));\n",
       "  --sklearn-color-icon: #696969;\n",
       "\n",
       "  @media (prefers-color-scheme: dark) {\n",
       "    /* Redefinition of color scheme for dark theme */\n",
       "    --sklearn-color-text-on-default-background: var(--sg-text-color, var(--theme-code-foreground, var(--jp-content-font-color1, white)));\n",
       "    --sklearn-color-background: var(--sg-background-color, var(--theme-background, var(--jp-layout-color0, #111)));\n",
       "    --sklearn-color-border-box: var(--sg-text-color, var(--theme-code-foreground, var(--jp-content-font-color1, white)));\n",
       "    --sklearn-color-icon: #878787;\n",
       "  }\n",
       "}\n",
       "\n",
       "#sk-container-id-1 {\n",
       "  color: var(--sklearn-color-text);\n",
       "}\n",
       "\n",
       "#sk-container-id-1 pre {\n",
       "  padding: 0;\n",
       "}\n",
       "\n",
       "#sk-container-id-1 input.sk-hidden--visually {\n",
       "  border: 0;\n",
       "  clip: rect(1px 1px 1px 1px);\n",
       "  clip: rect(1px, 1px, 1px, 1px);\n",
       "  height: 1px;\n",
       "  margin: -1px;\n",
       "  overflow: hidden;\n",
       "  padding: 0;\n",
       "  position: absolute;\n",
       "  width: 1px;\n",
       "}\n",
       "\n",
       "#sk-container-id-1 div.sk-dashed-wrapped {\n",
       "  border: 1px dashed var(--sklearn-color-line);\n",
       "  margin: 0 0.4em 0.5em 0.4em;\n",
       "  box-sizing: border-box;\n",
       "  padding-bottom: 0.4em;\n",
       "  background-color: var(--sklearn-color-background);\n",
       "}\n",
       "\n",
       "#sk-container-id-1 div.sk-container {\n",
       "  /* jupyter's `normalize.less` sets `[hidden] { display: none; }`\n",
       "     but bootstrap.min.css set `[hidden] { display: none !important; }`\n",
       "     so we also need the `!important` here to be able to override the\n",
       "     default hidden behavior on the sphinx rendered scikit-learn.org.\n",
       "     See: https://github.com/scikit-learn/scikit-learn/issues/21755 */\n",
       "  display: inline-block !important;\n",
       "  position: relative;\n",
       "}\n",
       "\n",
       "#sk-container-id-1 div.sk-text-repr-fallback {\n",
       "  display: none;\n",
       "}\n",
       "\n",
       "div.sk-parallel-item,\n",
       "div.sk-serial,\n",
       "div.sk-item {\n",
       "  /* draw centered vertical line to link estimators */\n",
       "  background-image: linear-gradient(var(--sklearn-color-text-on-default-background), var(--sklearn-color-text-on-default-background));\n",
       "  background-size: 2px 100%;\n",
       "  background-repeat: no-repeat;\n",
       "  background-position: center center;\n",
       "}\n",
       "\n",
       "/* Parallel-specific style estimator block */\n",
       "\n",
       "#sk-container-id-1 div.sk-parallel-item::after {\n",
       "  content: \"\";\n",
       "  width: 100%;\n",
       "  border-bottom: 2px solid var(--sklearn-color-text-on-default-background);\n",
       "  flex-grow: 1;\n",
       "}\n",
       "\n",
       "#sk-container-id-1 div.sk-parallel {\n",
       "  display: flex;\n",
       "  align-items: stretch;\n",
       "  justify-content: center;\n",
       "  background-color: var(--sklearn-color-background);\n",
       "  position: relative;\n",
       "}\n",
       "\n",
       "#sk-container-id-1 div.sk-parallel-item {\n",
       "  display: flex;\n",
       "  flex-direction: column;\n",
       "}\n",
       "\n",
       "#sk-container-id-1 div.sk-parallel-item:first-child::after {\n",
       "  align-self: flex-end;\n",
       "  width: 50%;\n",
       "}\n",
       "\n",
       "#sk-container-id-1 div.sk-parallel-item:last-child::after {\n",
       "  align-self: flex-start;\n",
       "  width: 50%;\n",
       "}\n",
       "\n",
       "#sk-container-id-1 div.sk-parallel-item:only-child::after {\n",
       "  width: 0;\n",
       "}\n",
       "\n",
       "/* Serial-specific style estimator block */\n",
       "\n",
       "#sk-container-id-1 div.sk-serial {\n",
       "  display: flex;\n",
       "  flex-direction: column;\n",
       "  align-items: center;\n",
       "  background-color: var(--sklearn-color-background);\n",
       "  padding-right: 1em;\n",
       "  padding-left: 1em;\n",
       "}\n",
       "\n",
       "\n",
       "/* Toggleable style: style used for estimator/Pipeline/ColumnTransformer box that is\n",
       "clickable and can be expanded/collapsed.\n",
       "- Pipeline and ColumnTransformer use this feature and define the default style\n",
       "- Estimators will overwrite some part of the style using the `sk-estimator` class\n",
       "*/\n",
       "\n",
       "/* Pipeline and ColumnTransformer style (default) */\n",
       "\n",
       "#sk-container-id-1 div.sk-toggleable {\n",
       "  /* Default theme specific background. It is overwritten whether we have a\n",
       "  specific estimator or a Pipeline/ColumnTransformer */\n",
       "  background-color: var(--sklearn-color-background);\n",
       "}\n",
       "\n",
       "/* Toggleable label */\n",
       "#sk-container-id-1 label.sk-toggleable__label {\n",
       "  cursor: pointer;\n",
       "  display: block;\n",
       "  width: 100%;\n",
       "  margin-bottom: 0;\n",
       "  padding: 0.5em;\n",
       "  box-sizing: border-box;\n",
       "  text-align: center;\n",
       "}\n",
       "\n",
       "#sk-container-id-1 label.sk-toggleable__label-arrow:before {\n",
       "  /* Arrow on the left of the label */\n",
       "  content: \"▸\";\n",
       "  float: left;\n",
       "  margin-right: 0.25em;\n",
       "  color: var(--sklearn-color-icon);\n",
       "}\n",
       "\n",
       "#sk-container-id-1 label.sk-toggleable__label-arrow:hover:before {\n",
       "  color: var(--sklearn-color-text);\n",
       "}\n",
       "\n",
       "/* Toggleable content - dropdown */\n",
       "\n",
       "#sk-container-id-1 div.sk-toggleable__content {\n",
       "  max-height: 0;\n",
       "  max-width: 0;\n",
       "  overflow: hidden;\n",
       "  text-align: left;\n",
       "  /* unfitted */\n",
       "  background-color: var(--sklearn-color-unfitted-level-0);\n",
       "}\n",
       "\n",
       "#sk-container-id-1 div.sk-toggleable__content.fitted {\n",
       "  /* fitted */\n",
       "  background-color: var(--sklearn-color-fitted-level-0);\n",
       "}\n",
       "\n",
       "#sk-container-id-1 div.sk-toggleable__content pre {\n",
       "  margin: 0.2em;\n",
       "  border-radius: 0.25em;\n",
       "  color: var(--sklearn-color-text);\n",
       "  /* unfitted */\n",
       "  background-color: var(--sklearn-color-unfitted-level-0);\n",
       "}\n",
       "\n",
       "#sk-container-id-1 div.sk-toggleable__content.fitted pre {\n",
       "  /* unfitted */\n",
       "  background-color: var(--sklearn-color-fitted-level-0);\n",
       "}\n",
       "\n",
       "#sk-container-id-1 input.sk-toggleable__control:checked~div.sk-toggleable__content {\n",
       "  /* Expand drop-down */\n",
       "  max-height: 200px;\n",
       "  max-width: 100%;\n",
       "  overflow: auto;\n",
       "}\n",
       "\n",
       "#sk-container-id-1 input.sk-toggleable__control:checked~label.sk-toggleable__label-arrow:before {\n",
       "  content: \"▾\";\n",
       "}\n",
       "\n",
       "/* Pipeline/ColumnTransformer-specific style */\n",
       "\n",
       "#sk-container-id-1 div.sk-label input.sk-toggleable__control:checked~label.sk-toggleable__label {\n",
       "  color: var(--sklearn-color-text);\n",
       "  background-color: var(--sklearn-color-unfitted-level-2);\n",
       "}\n",
       "\n",
       "#sk-container-id-1 div.sk-label.fitted input.sk-toggleable__control:checked~label.sk-toggleable__label {\n",
       "  background-color: var(--sklearn-color-fitted-level-2);\n",
       "}\n",
       "\n",
       "/* Estimator-specific style */\n",
       "\n",
       "/* Colorize estimator box */\n",
       "#sk-container-id-1 div.sk-estimator input.sk-toggleable__control:checked~label.sk-toggleable__label {\n",
       "  /* unfitted */\n",
       "  background-color: var(--sklearn-color-unfitted-level-2);\n",
       "}\n",
       "\n",
       "#sk-container-id-1 div.sk-estimator.fitted input.sk-toggleable__control:checked~label.sk-toggleable__label {\n",
       "  /* fitted */\n",
       "  background-color: var(--sklearn-color-fitted-level-2);\n",
       "}\n",
       "\n",
       "#sk-container-id-1 div.sk-label label.sk-toggleable__label,\n",
       "#sk-container-id-1 div.sk-label label {\n",
       "  /* The background is the default theme color */\n",
       "  color: var(--sklearn-color-text-on-default-background);\n",
       "}\n",
       "\n",
       "/* On hover, darken the color of the background */\n",
       "#sk-container-id-1 div.sk-label:hover label.sk-toggleable__label {\n",
       "  color: var(--sklearn-color-text);\n",
       "  background-color: var(--sklearn-color-unfitted-level-2);\n",
       "}\n",
       "\n",
       "/* Label box, darken color on hover, fitted */\n",
       "#sk-container-id-1 div.sk-label.fitted:hover label.sk-toggleable__label.fitted {\n",
       "  color: var(--sklearn-color-text);\n",
       "  background-color: var(--sklearn-color-fitted-level-2);\n",
       "}\n",
       "\n",
       "/* Estimator label */\n",
       "\n",
       "#sk-container-id-1 div.sk-label label {\n",
       "  font-family: monospace;\n",
       "  font-weight: bold;\n",
       "  display: inline-block;\n",
       "  line-height: 1.2em;\n",
       "}\n",
       "\n",
       "#sk-container-id-1 div.sk-label-container {\n",
       "  text-align: center;\n",
       "}\n",
       "\n",
       "/* Estimator-specific */\n",
       "#sk-container-id-1 div.sk-estimator {\n",
       "  font-family: monospace;\n",
       "  border: 1px dotted var(--sklearn-color-border-box);\n",
       "  border-radius: 0.25em;\n",
       "  box-sizing: border-box;\n",
       "  margin-bottom: 0.5em;\n",
       "  /* unfitted */\n",
       "  background-color: var(--sklearn-color-unfitted-level-0);\n",
       "}\n",
       "\n",
       "#sk-container-id-1 div.sk-estimator.fitted {\n",
       "  /* fitted */\n",
       "  background-color: var(--sklearn-color-fitted-level-0);\n",
       "}\n",
       "\n",
       "/* on hover */\n",
       "#sk-container-id-1 div.sk-estimator:hover {\n",
       "  /* unfitted */\n",
       "  background-color: var(--sklearn-color-unfitted-level-2);\n",
       "}\n",
       "\n",
       "#sk-container-id-1 div.sk-estimator.fitted:hover {\n",
       "  /* fitted */\n",
       "  background-color: var(--sklearn-color-fitted-level-2);\n",
       "}\n",
       "\n",
       "/* Specification for estimator info (e.g. \"i\" and \"?\") */\n",
       "\n",
       "/* Common style for \"i\" and \"?\" */\n",
       "\n",
       ".sk-estimator-doc-link,\n",
       "a:link.sk-estimator-doc-link,\n",
       "a:visited.sk-estimator-doc-link {\n",
       "  float: right;\n",
       "  font-size: smaller;\n",
       "  line-height: 1em;\n",
       "  font-family: monospace;\n",
       "  background-color: var(--sklearn-color-background);\n",
       "  border-radius: 1em;\n",
       "  height: 1em;\n",
       "  width: 1em;\n",
       "  text-decoration: none !important;\n",
       "  margin-left: 1ex;\n",
       "  /* unfitted */\n",
       "  border: var(--sklearn-color-unfitted-level-1) 1pt solid;\n",
       "  color: var(--sklearn-color-unfitted-level-1);\n",
       "}\n",
       "\n",
       ".sk-estimator-doc-link.fitted,\n",
       "a:link.sk-estimator-doc-link.fitted,\n",
       "a:visited.sk-estimator-doc-link.fitted {\n",
       "  /* fitted */\n",
       "  border: var(--sklearn-color-fitted-level-1) 1pt solid;\n",
       "  color: var(--sklearn-color-fitted-level-1);\n",
       "}\n",
       "\n",
       "/* On hover */\n",
       "div.sk-estimator:hover .sk-estimator-doc-link:hover,\n",
       ".sk-estimator-doc-link:hover,\n",
       "div.sk-label-container:hover .sk-estimator-doc-link:hover,\n",
       ".sk-estimator-doc-link:hover {\n",
       "  /* unfitted */\n",
       "  background-color: var(--sklearn-color-unfitted-level-3);\n",
       "  color: var(--sklearn-color-background);\n",
       "  text-decoration: none;\n",
       "}\n",
       "\n",
       "div.sk-estimator.fitted:hover .sk-estimator-doc-link.fitted:hover,\n",
       ".sk-estimator-doc-link.fitted:hover,\n",
       "div.sk-label-container:hover .sk-estimator-doc-link.fitted:hover,\n",
       ".sk-estimator-doc-link.fitted:hover {\n",
       "  /* fitted */\n",
       "  background-color: var(--sklearn-color-fitted-level-3);\n",
       "  color: var(--sklearn-color-background);\n",
       "  text-decoration: none;\n",
       "}\n",
       "\n",
       "/* Span, style for the box shown on hovering the info icon */\n",
       ".sk-estimator-doc-link span {\n",
       "  display: none;\n",
       "  z-index: 9999;\n",
       "  position: relative;\n",
       "  font-weight: normal;\n",
       "  right: .2ex;\n",
       "  padding: .5ex;\n",
       "  margin: .5ex;\n",
       "  width: min-content;\n",
       "  min-width: 20ex;\n",
       "  max-width: 50ex;\n",
       "  color: var(--sklearn-color-text);\n",
       "  box-shadow: 2pt 2pt 4pt #999;\n",
       "  /* unfitted */\n",
       "  background: var(--sklearn-color-unfitted-level-0);\n",
       "  border: .5pt solid var(--sklearn-color-unfitted-level-3);\n",
       "}\n",
       "\n",
       ".sk-estimator-doc-link.fitted span {\n",
       "  /* fitted */\n",
       "  background: var(--sklearn-color-fitted-level-0);\n",
       "  border: var(--sklearn-color-fitted-level-3);\n",
       "}\n",
       "\n",
       ".sk-estimator-doc-link:hover span {\n",
       "  display: block;\n",
       "}\n",
       "\n",
       "/* \"?\"-specific style due to the `<a>` HTML tag */\n",
       "\n",
       "#sk-container-id-1 a.estimator_doc_link {\n",
       "  float: right;\n",
       "  font-size: 1rem;\n",
       "  line-height: 1em;\n",
       "  font-family: monospace;\n",
       "  background-color: var(--sklearn-color-background);\n",
       "  border-radius: 1rem;\n",
       "  height: 1rem;\n",
       "  width: 1rem;\n",
       "  text-decoration: none;\n",
       "  /* unfitted */\n",
       "  color: var(--sklearn-color-unfitted-level-1);\n",
       "  border: var(--sklearn-color-unfitted-level-1) 1pt solid;\n",
       "}\n",
       "\n",
       "#sk-container-id-1 a.estimator_doc_link.fitted {\n",
       "  /* fitted */\n",
       "  border: var(--sklearn-color-fitted-level-1) 1pt solid;\n",
       "  color: var(--sklearn-color-fitted-level-1);\n",
       "}\n",
       "\n",
       "/* On hover */\n",
       "#sk-container-id-1 a.estimator_doc_link:hover {\n",
       "  /* unfitted */\n",
       "  background-color: var(--sklearn-color-unfitted-level-3);\n",
       "  color: var(--sklearn-color-background);\n",
       "  text-decoration: none;\n",
       "}\n",
       "\n",
       "#sk-container-id-1 a.estimator_doc_link.fitted:hover {\n",
       "  /* fitted */\n",
       "  background-color: var(--sklearn-color-fitted-level-3);\n",
       "}\n",
       "</style><div id=\"sk-container-id-1\" class=\"sk-top-container\"><div class=\"sk-text-repr-fallback\"><pre>Pipeline(steps=[(&#x27;tfidf&#x27;,\n",
       "                 TfidfVectorizer(max_features=500,\n",
       "                                 preprocessor=&lt;function preprocess_text at 0x0000023702943600&gt;)),\n",
       "                (&#x27;oversample&#x27;, RandomOverSampler()),\n",
       "                (&#x27;logit&#x27;, LogisticRegression(C=0.1))])</pre><b>In a Jupyter environment, please rerun this cell to show the HTML representation or trust the notebook. <br />On GitHub, the HTML representation is unable to render, please try loading this page with nbviewer.org.</b></div><div class=\"sk-container\" hidden><div class=\"sk-item sk-dashed-wrapped\"><div class=\"sk-label-container\"><div class=\"sk-label fitted sk-toggleable\"><input class=\"sk-toggleable__control sk-hidden--visually\" id=\"sk-estimator-id-1\" type=\"checkbox\" ><label for=\"sk-estimator-id-1\" class=\"sk-toggleable__label fitted sk-toggleable__label-arrow fitted\">&nbsp;Pipeline<span class=\"sk-estimator-doc-link fitted\">i<span>Fitted</span></span></label><div class=\"sk-toggleable__content fitted\"><pre>Pipeline(steps=[(&#x27;tfidf&#x27;,\n",
       "                 TfidfVectorizer(max_features=500,\n",
       "                                 preprocessor=&lt;function preprocess_text at 0x0000023702943600&gt;)),\n",
       "                (&#x27;oversample&#x27;, RandomOverSampler()),\n",
       "                (&#x27;logit&#x27;, LogisticRegression(C=0.1))])</pre></div> </div></div><div class=\"sk-serial\"><div class=\"sk-item\"><div class=\"sk-estimator fitted sk-toggleable\"><input class=\"sk-toggleable__control sk-hidden--visually\" id=\"sk-estimator-id-2\" type=\"checkbox\" ><label for=\"sk-estimator-id-2\" class=\"sk-toggleable__label fitted sk-toggleable__label-arrow fitted\">&nbsp;TfidfVectorizer<a class=\"sk-estimator-doc-link fitted\" rel=\"noreferrer\" target=\"_blank\" href=\"https://scikit-learn.org/1.5/modules/generated/sklearn.feature_extraction.text.TfidfVectorizer.html\">?<span>Documentation for TfidfVectorizer</span></a></label><div class=\"sk-toggleable__content fitted\"><pre>TfidfVectorizer(max_features=500,\n",
       "                preprocessor=&lt;function preprocess_text at 0x0000023702943600&gt;)</pre></div> </div></div><div class=\"sk-item\"><div class=\"sk-estimator fitted sk-toggleable\"><input class=\"sk-toggleable__control sk-hidden--visually\" id=\"sk-estimator-id-3\" type=\"checkbox\" ><label for=\"sk-estimator-id-3\" class=\"sk-toggleable__label fitted sk-toggleable__label-arrow fitted\">RandomOverSampler</label><div class=\"sk-toggleable__content fitted\"><pre>RandomOverSampler()</pre></div> </div></div><div class=\"sk-item\"><div class=\"sk-estimator fitted sk-toggleable\"><input class=\"sk-toggleable__control sk-hidden--visually\" id=\"sk-estimator-id-4\" type=\"checkbox\" ><label for=\"sk-estimator-id-4\" class=\"sk-toggleable__label fitted sk-toggleable__label-arrow fitted\">&nbsp;LogisticRegression<a class=\"sk-estimator-doc-link fitted\" rel=\"noreferrer\" target=\"_blank\" href=\"https://scikit-learn.org/1.5/modules/generated/sklearn.linear_model.LogisticRegression.html\">?<span>Documentation for LogisticRegression</span></a></label><div class=\"sk-toggleable__content fitted\"><pre>LogisticRegression(C=0.1)</pre></div> </div></div></div></div></div></div>"
      ],
      "text/plain": [
       "Pipeline(steps=[('tfidf',\n",
       "                 TfidfVectorizer(max_features=500,\n",
       "                                 preprocessor=<function preprocess_text at 0x0000023702943600>)),\n",
       "                ('oversample', RandomOverSampler()),\n",
       "                ('logit', LogisticRegression(C=0.1))])"
      ]
     },
     "execution_count": 13,
     "metadata": {},
     "output_type": "execute_result"
    }
   ],
   "source": [
    "# Ajustamos el modelo\n",
    "final_model.fit(X_train, y_train)"
   ]
  },
  {
   "cell_type": "code",
   "execution_count": 14,
   "metadata": {},
   "outputs": [
    {
     "data": {
      "text/plain": [
       "0.436"
      ]
     },
     "execution_count": 14,
     "metadata": {},
     "output_type": "execute_result"
    }
   ],
   "source": [
    "# Medimos el accuracy del modelo\n",
    "accuracy = final_model.score(X_test, y_test)\n",
    "accuracy"
   ]
  },
  {
   "cell_type": "code",
   "execution_count": 16,
   "metadata": {},
   "outputs": [],
   "source": [
    "# Se predicen las clases para test\n",
    "y_pred = final_model.predict(X_test)"
   ]
  },
  {
   "cell_type": "markdown",
   "metadata": {},
   "source": [
    "#### 2.1.4 Save metrics"
   ]
  },
  {
   "cell_type": "code",
   "execution_count": 31,
   "metadata": {},
   "outputs": [
    {
     "name": "stderr",
     "output_type": "stream",
     "text": [
      "c:\\Users\\ccsar\\miniconda3\\envs\\env_nlp\\Lib\\site-packages\\sklearn\\metrics\\_classification.py:1531: UndefinedMetricWarning: Precision is ill-defined and being set to 0.0 in labels with no predicted samples. Use `zero_division` parameter to control this behavior.\n",
      "  _warn_prf(average, modifier, f\"{metric.capitalize()} is\", len(result))\n",
      "c:\\Users\\ccsar\\miniconda3\\envs\\env_nlp\\Lib\\site-packages\\sklearn\\metrics\\_classification.py:1531: UndefinedMetricWarning: Recall is ill-defined and being set to 0.0 in labels with no true samples. Use `zero_division` parameter to control this behavior.\n",
      "  _warn_prf(average, modifier, f\"{metric.capitalize()} is\", len(result))\n"
     ]
    }
   ],
   "source": [
    "import numpy as np\n",
    "from sklearn.metrics import precision_recall_fscore_support\n",
    "from sklearn.metrics import confusion_matrix\n",
    "\n",
    "p, r, f1, s = precision_recall_fscore_support(y_test, y_pred, average='weighted')\n",
    "model_name = 'Logistic_regresion'\n",
    "results.append([model_name, accuracy, p, r, f1])"
   ]
  },
  {
   "cell_type": "code",
   "execution_count": 24,
   "metadata": {},
   "outputs": [
    {
     "name": "stderr",
     "output_type": "stream",
     "text": [
      "c:\\Users\\ccsar\\miniconda3\\envs\\env_nlp\\Lib\\site-packages\\sklearn\\metrics\\_classification.py:1531: UndefinedMetricWarning: Precision is ill-defined and being set to 0.0 in labels with no predicted samples. Use `zero_division` parameter to control this behavior.\n",
      "  _warn_prf(average, modifier, f\"{metric.capitalize()} is\", len(result))\n",
      "c:\\Users\\ccsar\\miniconda3\\envs\\env_nlp\\Lib\\site-packages\\sklearn\\metrics\\_classification.py:1531: UndefinedMetricWarning: Recall is ill-defined and being set to 0.0 in labels with no true samples. Use `zero_division` parameter to control this behavior.\n",
      "  _warn_prf(average, modifier, f\"{metric.capitalize()} is\", len(result))\n"
     ]
    },
    {
     "data": {
      "text/plain": [
       "(0.599798082309847, 0.436, 0.44686637948419455, None)"
      ]
     },
     "execution_count": 24,
     "metadata": {},
     "output_type": "execute_result"
    }
   ],
   "source": [
    "p, r, f1, s = precision_recall_fscore_support(y_test, y_pred, average='weighted')\n",
    "p, r, f1, s"
   ]
  },
  {
   "cell_type": "code",
   "execution_count": 22,
   "metadata": {},
   "outputs": [
    {
     "data": {
      "text/plain": [
       "array([[4, 0, 0, ..., 0, 0, 0],\n",
       "       [0, 1, 0, ..., 0, 0, 0],\n",
       "       [0, 0, 0, ..., 0, 0, 0],\n",
       "       ...,\n",
       "       [0, 0, 0, ..., 0, 0, 0],\n",
       "       [0, 0, 0, ..., 0, 4, 0],\n",
       "       [0, 0, 0, ..., 0, 1, 1]], dtype=int64)"
      ]
     },
     "execution_count": 22,
     "metadata": {},
     "output_type": "execute_result"
    }
   ],
   "source": [
    "confusion_matrix(y_test, y_pred)"
   ]
  },
  {
   "cell_type": "markdown",
   "metadata": {},
   "source": [
    "### 2.2 Naive Bayes"
   ]
  },
  {
   "cell_type": "code",
   "execution_count": null,
   "metadata": {},
   "outputs": [],
   "source": [
    "from sklearn.naive_bayes import MultinomialNB\n",
    "\n",
    "# Creacion del pipeline del modelo inicial\n",
    "model = Pipeline(steps=[\n",
    "    ## Selección de los features\n",
    "    (\"tfidf\", TfidfVectorizer(preprocessor=preprocess_text)),\n",
    "    ## Se tiene un desbalance de clases, entonces se hace un oversampling\n",
    "    ('oversample', RandomOverSampler()),\n",
    "    ## Se aplica el modelo\n",
    "    (\"naive\", MultinomialNB())\n",
    "])"
   ]
  },
  {
   "cell_type": "markdown",
   "metadata": {},
   "source": [
    "#### 2.2.1 Primera iteración grid search"
   ]
  },
  {
   "cell_type": "code",
   "execution_count": null,
   "metadata": {},
   "outputs": [],
   "source": [
    "from sklearn.model_selection import GridSearchCV\n",
    "\n",
    "# Definimos los parámetros a explorar\n",
    "param_grid = {\n",
    "    'tfidf__max_features': [500, 1000],\n",
    "    'naive__alpha': [0.1, 1, 10],\n",
    "}\n",
    "\n",
    "# Creamos el objeto GridSearchCV\n",
    "grid_search = GridSearchCV(estimator=model,\n",
    "                          param_grid=param_grid,\n",
    "                          cv=5,\n",
    "                          verbose=2)\n",
    "\n",
    "# Ajustamos el modelo a los datos de entrenamiento\n",
    "grid_search.fit(X_train, y_train)\n",
    "\n",
    "# Obtenemos los mejores parámetros\n",
    "best_params = grid_search.best_params_\n",
    "print(best_params)"
   ]
  },
  {
   "cell_type": "markdown",
   "metadata": {},
   "source": [
    "#### 2.2.2 Segunda iteración grid search"
   ]
  },
  {
   "cell_type": "code",
   "execution_count": null,
   "metadata": {},
   "outputs": [],
   "source": [
    "# Definimos los parámetros a explorar\n",
    "param_grid = {\n",
    "    'tfidf__max_features': [500, 1000],\n",
    "    'naive__alpha': [0.1, 1, 10],\n",
    "}\n",
    "\n",
    "# Creamos el objeto GridSearchCV\n",
    "grid_search = GridSearchCV(estimator=model,\n",
    "                          param_grid=param_grid,\n",
    "                          cv=5,\n",
    "                          verbose=2)\n",
    "\n",
    "# Ajustamos el modelo a los datos de entrenamiento\n",
    "grid_search.fit(X_train, y_train)\n",
    "\n",
    "# Obtenemos los mejores parámetros\n",
    "best_params = grid_search.best_params_\n",
    "print(best_params)"
   ]
  },
  {
   "cell_type": "markdown",
   "metadata": {},
   "source": [
    "#### 2.2.3 Modelo final"
   ]
  },
  {
   "cell_type": "code",
   "execution_count": null,
   "metadata": {},
   "outputs": [],
   "source": [
    "# Creacion del pipeline\n",
    "final_model = Pipeline(steps=[\n",
    "    ## Selección de los features\n",
    "    (\"tfidf\", TfidfVectorizer(max_features=500, preprocessor=preprocess_text)),\n",
    "    ## Se tiene un desbalance de clases, entonces se hace un oversampling\n",
    "    ('oversample', RandomOverSampler()),\n",
    "    ## Se aplica el modelo\n",
    "    (\"naive\", MultinomialNB(alpha=0.1))\n",
    "])"
   ]
  },
  {
   "cell_type": "code",
   "execution_count": null,
   "metadata": {},
   "outputs": [],
   "source": [
    "# Ajustamos el modelo\n",
    "final_model.fit(X_train, y_train)"
   ]
  },
  {
   "cell_type": "code",
   "execution_count": null,
   "metadata": {},
   "outputs": [],
   "source": [
    "# Medimos el accuracy del modelo\n",
    "accuracy = final_model.score(X_test, y_test)\n",
    "accuracy"
   ]
  },
  {
   "cell_type": "code",
   "execution_count": null,
   "metadata": {},
   "outputs": [],
   "source": [
    "# Se predicen las clases para test\n",
    "y_pred = final_model.predict(X_test)"
   ]
  },
  {
   "cell_type": "markdown",
   "metadata": {},
   "source": [
    "#### 2.2.4 Save metrics"
   ]
  },
  {
   "cell_type": "code",
   "execution_count": null,
   "metadata": {},
   "outputs": [],
   "source": [
    "import numpy as np\n",
    "from sklearn.metrics import precision_recall_fscore_support\n",
    "from sklearn.metrics import confusion_matrix\n",
    "\n",
    "p, r, f1, s = precision_recall_fscore_support(y_test, y_pred, average='weighted')\n",
    "model_name = 'NaiveBayes'\n",
    "results.append([model_name, accuracy, p, r, f1])"
   ]
  },
  {
   "cell_type": "markdown",
   "metadata": {},
   "source": [
    "### 2.3 KNeighbors"
   ]
  },
  {
   "cell_type": "code",
   "execution_count": null,
   "metadata": {},
   "outputs": [],
   "source": [
    "from sklearn.neighbors import KNeighborsClassifier\n",
    "\n",
    "# Creacion del pipeline del modelo inicial\n",
    "model = Pipeline(steps=[\n",
    "    ## Selección de los features\n",
    "    (\"tfidf\", TfidfVectorizer(preprocessor=preprocess_text)),\n",
    "    ## Se tiene un desbalance de clases, entonces se hace un oversampling\n",
    "    ('oversample', RandomOverSampler()),\n",
    "    ## Se aplica el modelo\n",
    "    (\"kneig\", KNeighborsClassifier())\n",
    "])"
   ]
  },
  {
   "cell_type": "markdown",
   "metadata": {},
   "source": [
    "#### 2.3.1 Primera iteración grid search"
   ]
  },
  {
   "cell_type": "code",
   "execution_count": null,
   "metadata": {},
   "outputs": [],
   "source": [
    "from sklearn.model_selection import GridSearchCV\n",
    "\n",
    "# Definimos los parámetros a explorar\n",
    "param_grid = {\n",
    "    'tfidf__max_features': [500, 1000],\n",
    "    'kneig__n_neighbors': [3, 5],\n",
    "    'kneig__metric': ['euclidean', 'manhattan', 'cosine']\n",
    "}\n",
    "\n",
    "# Creamos el objeto GridSearchCV\n",
    "grid_search = GridSearchCV(estimator=model,\n",
    "                          param_grid=param_grid,\n",
    "                          cv=5,\n",
    "                          verbose=2)\n",
    "\n",
    "# Ajustamos el modelo a los datos de entrenamiento\n",
    "grid_search.fit(X_train, y_train)\n",
    "\n",
    "# Obtenemos los mejores parámetros\n",
    "best_params = grid_search.best_params_\n",
    "print(best_params)"
   ]
  },
  {
   "cell_type": "markdown",
   "metadata": {},
   "source": [
    "#### 2.3.2 Segunda iteración grid search"
   ]
  },
  {
   "cell_type": "code",
   "execution_count": null,
   "metadata": {},
   "outputs": [],
   "source": [
    "# Definimos los parámetros a explorar\n",
    "param_grid = {\n",
    "    'tfidf__max_features': [500, 1000],\n",
    "    'kneig__n_neighbors': [3, 5],\n",
    "    'kneig__metric': ['euclidean', 'manhattan', 'cosine']\n",
    "}\n",
    "\n",
    "\n",
    "# Creamos el objeto GridSearchCV\n",
    "grid_search = GridSearchCV(estimator=model,\n",
    "                          param_grid=param_grid,\n",
    "                          cv=5,\n",
    "                          verbose=2)\n",
    "\n",
    "# Ajustamos el modelo a los datos de entrenamiento\n",
    "grid_search.fit(X_train, y_train)\n",
    "\n",
    "# Obtenemos los mejores parámetros\n",
    "best_params = grid_search.best_params_\n",
    "print(best_params)"
   ]
  },
  {
   "cell_type": "markdown",
   "metadata": {},
   "source": [
    "#### 2.3.3 Modelo final"
   ]
  },
  {
   "cell_type": "code",
   "execution_count": null,
   "metadata": {},
   "outputs": [],
   "source": [
    "# Creacion del pipeline\n",
    "final_model = Pipeline(steps=[\n",
    "    ## Selección de los features\n",
    "    (\"tfidf\", TfidfVectorizer(max_features=500, preprocessor=preprocess_text)),\n",
    "    ## Se tiene un desbalance de clases, entonces se hace un oversampling\n",
    "    ('oversample', RandomOverSampler()),\n",
    "    ## Se aplica el modelo\n",
    "    (\"kneig\", KNeighborsClassifier(n_neighbors=3, metric='euclidean'))\n",
    "])"
   ]
  },
  {
   "cell_type": "code",
   "execution_count": null,
   "metadata": {},
   "outputs": [],
   "source": [
    "# Ajustamos el modelo\n",
    "final_model.fit(X_train, y_train)"
   ]
  },
  {
   "cell_type": "code",
   "execution_count": null,
   "metadata": {},
   "outputs": [],
   "source": [
    "# Medimos el accuracy del modelo\n",
    "accuracy = final_model.score(X_test, y_test)\n",
    "accuracy"
   ]
  },
  {
   "cell_type": "code",
   "execution_count": null,
   "metadata": {},
   "outputs": [],
   "source": [
    "# Se predicen las clases para test\n",
    "y_pred = final_model.predict(X_test)"
   ]
  },
  {
   "cell_type": "markdown",
   "metadata": {},
   "source": [
    "#### 2.3.4 Save metrics"
   ]
  },
  {
   "cell_type": "code",
   "execution_count": null,
   "metadata": {},
   "outputs": [],
   "source": [
    "import numpy as np\n",
    "from sklearn.metrics import precision_recall_fscore_support\n",
    "from sklearn.metrics import confusion_matrix\n",
    "\n",
    "p, r, f1, s = precision_recall_fscore_support(y_test, y_pred, average='weighted')\n",
    "model_name = 'K-neighbors'\n",
    "results.append([model_name, accuracy, p, r, f1])"
   ]
  },
  {
   "cell_type": "markdown",
   "metadata": {},
   "source": [
    "### 2.4 Arboles de decisión"
   ]
  },
  {
   "cell_type": "code",
   "execution_count": null,
   "metadata": {},
   "outputs": [],
   "source": [
    "from sklearn.tree import DecisionTreeClassifier\n",
    "\n",
    "# Creacion del pipeline del modelo inicial\n",
    "model = Pipeline(steps=[\n",
    "    ## Selección de los features\n",
    "    (\"tfidf\", TfidfVectorizer(preprocessor=preprocess_text)),\n",
    "    ## Se tiene un desbalance de clases, entonces se hace un oversampling\n",
    "    ('oversample', RandomOverSampler()),\n",
    "    ## Se aplica el modelo\n",
    "    (\"tree\", DecisionTreeClassifier())\n",
    "])"
   ]
  },
  {
   "cell_type": "markdown",
   "metadata": {},
   "source": [
    "#### 2.4.1 Primera iteración grid search"
   ]
  },
  {
   "cell_type": "code",
   "execution_count": null,
   "metadata": {},
   "outputs": [],
   "source": [
    "from sklearn.model_selection import GridSearchCV\n",
    "\n",
    "# Definimos los parámetros a explorar\n",
    "param_grid = {\n",
    "    'tfidf__max_features': [500, 1000],\n",
    "    'tree__criterion': ['gini', 'entropy'],\n",
    "    'tree__max_depth': [5, 10],\n",
    "    'tree__min_samples_split': [5, 10],\n",
    "    'tree__min_samples_leaf': [1, 3]\n",
    "}\n",
    "\n",
    "# Creamos el objeto GridSearchCV\n",
    "grid_search = GridSearchCV(estimator=model,\n",
    "                          param_grid=param_grid,\n",
    "                          cv=5,\n",
    "                          verbose=2)\n",
    "\n",
    "# Ajustamos el modelo a los datos de entrenamiento\n",
    "grid_search.fit(X_train, y_train)\n",
    "\n",
    "# Obtenemos los mejores parámetros\n",
    "best_params = grid_search.best_params_\n",
    "print(best_params)"
   ]
  },
  {
   "cell_type": "markdown",
   "metadata": {},
   "source": [
    "#### 2.4.2 Segunda iteración grid search"
   ]
  },
  {
   "cell_type": "code",
   "execution_count": null,
   "metadata": {},
   "outputs": [],
   "source": [
    "# Definimos los parámetros a explorar\n",
    "# Definimos los parámetros a explorar\n",
    "param_grid = {\n",
    "    'tfidf__max_features': [500, 1000],\n",
    "    'tree__criterion': ['gini', 'entropy'],\n",
    "    'tree__max_depth': [5, 10],\n",
    "    'tree__min_samples_split': [5, 10],\n",
    "    'tree__min_samples_leaf': [1, 3]\n",
    "}\n",
    "\n",
    "\n",
    "\n",
    "# Creamos el objeto GridSearchCV\n",
    "grid_search = GridSearchCV(estimator=model,\n",
    "                          param_grid=param_grid,\n",
    "                          cv=5,\n",
    "                          verbose=2)\n",
    "\n",
    "# Ajustamos el modelo a los datos de entrenamiento\n",
    "grid_search.fit(X_train, y_train)\n",
    "\n",
    "# Obtenemos los mejores parámetros\n",
    "best_params = grid_search.best_params_\n",
    "print(best_params)"
   ]
  },
  {
   "cell_type": "markdown",
   "metadata": {},
   "source": [
    "#### 2.3.3 Modelo final"
   ]
  },
  {
   "cell_type": "code",
   "execution_count": null,
   "metadata": {},
   "outputs": [],
   "source": [
    "# Creacion del pipeline\n",
    "final_model = Pipeline(steps=[\n",
    "    ## Selección de los features\n",
    "    (\"tfidf\", TfidfVectorizer(max_features=500, preprocessor=preprocess_text)),\n",
    "    ## Se tiene un desbalance de clases, entonces se hace un oversampling\n",
    "    ('oversample', RandomOverSampler()),\n",
    "    ## Se aplica el modelo\n",
    "    (\"tree\", DecisionTreeClassifier(max_depth=5, min_samples_split=5, min_samples_leaf=3))\n",
    "])"
   ]
  },
  {
   "cell_type": "code",
   "execution_count": null,
   "metadata": {},
   "outputs": [],
   "source": [
    "# Ajustamos el modelo\n",
    "final_model.fit(X_train, y_train)"
   ]
  },
  {
   "cell_type": "code",
   "execution_count": null,
   "metadata": {},
   "outputs": [],
   "source": [
    "# Medimos el accuracy del modelo\n",
    "accuracy = final_model.score(X_test, y_test)\n",
    "accuracy"
   ]
  },
  {
   "cell_type": "code",
   "execution_count": null,
   "metadata": {},
   "outputs": [],
   "source": [
    "# Se predicen las clases para test\n",
    "y_pred = final_model.predict(X_test)"
   ]
  },
  {
   "cell_type": "markdown",
   "metadata": {},
   "source": [
    "#### 2.3.4 Save metrics"
   ]
  },
  {
   "cell_type": "code",
   "execution_count": null,
   "metadata": {},
   "outputs": [],
   "source": [
    "import numpy as np\n",
    "from sklearn.metrics import precision_recall_fscore_support\n",
    "from sklearn.metrics import confusion_matrix\n",
    "\n",
    "p, r, f1, s = precision_recall_fscore_support(y_test, y_pred, average='weighted')\n",
    "model_name = 'Decision Trees'\n",
    "results.append([model_name, accuracy, p, r, f1])"
   ]
  },
  {
   "cell_type": "markdown",
   "metadata": {},
   "source": [
    "### 2.5 Support Vector Machine"
   ]
  },
  {
   "cell_type": "code",
   "execution_count": null,
   "metadata": {},
   "outputs": [],
   "source": [
    "from sklearn.svm import SVC\n",
    "\n",
    "# Creacion del pipeline del modelo inicial\n",
    "model = Pipeline(steps=[\n",
    "    ## Selección de los features\n",
    "    (\"tfidf\", TfidfVectorizer(preprocessor=preprocess_text)),\n",
    "    ## Se tiene un desbalance de clases, entonces se hace un oversampling\n",
    "    ('oversample', RandomOverSampler()),\n",
    "    ## Se aplica el modelo\n",
    "    (\"SVC\", SVC())\n",
    "])"
   ]
  },
  {
   "cell_type": "markdown",
   "metadata": {},
   "source": [
    "#### 2.5.1 Primera iteración grid search"
   ]
  },
  {
   "cell_type": "code",
   "execution_count": null,
   "metadata": {},
   "outputs": [],
   "source": [
    "from sklearn.model_selection import GridSearchCV\n",
    "\n",
    "# Definimos los parámetros a explorar\n",
    "param_grid = {\n",
    "    'tfidf__max_features': [500, 1000],\n",
    "    'SVC__C': [0.1, 1, 10, 100],\n",
    "    'SVC__kernel': ['linear', 'rbf'],\n",
    "    'SVC__gamma': [0.1, 1, 10]\n",
    "}\n",
    "\n",
    "# Creamos el objeto GridSearchCV\n",
    "grid_search = GridSearchCV(estimator=model,\n",
    "                          param_grid=param_grid,\n",
    "                          cv=5,\n",
    "                          verbose=2)\n",
    "\n",
    "# Ajustamos el modelo a los datos de entrenamiento\n",
    "grid_search.fit(X_train, y_train)\n",
    "\n",
    "# Obtenemos los mejores parámetros\n",
    "best_params = grid_search.best_params_\n",
    "print(best_params)"
   ]
  },
  {
   "cell_type": "markdown",
   "metadata": {},
   "source": [
    "#### 2.5.2 Segunda iteración grid search"
   ]
  },
  {
   "cell_type": "code",
   "execution_count": null,
   "metadata": {},
   "outputs": [],
   "source": [
    "# Definimos los parámetros a explorar\n",
    "# Definimos los parámetros a explorar\n",
    "param_grid = {\n",
    "    'tfidf__max_features': [500, 1000],\n",
    "    'SVC__C': [0.1, 1, 10, 100],\n",
    "    'SVC__kernel': ['linear', 'rbf'],\n",
    "    'SVC__gamma': [0.1, 1, 10]\n",
    "}\n",
    "\n",
    "\n",
    "# Creamos el objeto GridSearchCV\n",
    "grid_search = GridSearchCV(estimator=model,\n",
    "                          param_grid=param_grid,\n",
    "                          cv=5,\n",
    "                          verbose=2)\n",
    "\n",
    "# Ajustamos el modelo a los datos de entrenamiento\n",
    "grid_search.fit(X_train, y_train)\n",
    "\n",
    "# Obtenemos los mejores parámetros\n",
    "best_params = grid_search.best_params_\n",
    "print(best_params)"
   ]
  },
  {
   "cell_type": "markdown",
   "metadata": {},
   "source": [
    "#### 2.5.3 Modelo final"
   ]
  },
  {
   "cell_type": "code",
   "execution_count": null,
   "metadata": {},
   "outputs": [],
   "source": [
    "# Creacion del pipeline\n",
    "final_model = Pipeline(steps=[\n",
    "    ## Selección de los features\n",
    "    (\"tfidf\", TfidfVectorizer(max_features=500, preprocessor=preprocess_text)),\n",
    "    ## Se tiene un desbalance de clases, entonces se hace un oversampling\n",
    "    ('oversample', RandomOverSampler()),\n",
    "    ## Se aplica el modelo\n",
    "    (\"SVC\", SVC(C=0.1, kernel='linear', gamma=0.1))\n",
    "])"
   ]
  },
  {
   "cell_type": "code",
   "execution_count": null,
   "metadata": {},
   "outputs": [],
   "source": [
    "# Ajustamos el modelo\n",
    "final_model.fit(X_train, y_train)"
   ]
  },
  {
   "cell_type": "code",
   "execution_count": null,
   "metadata": {},
   "outputs": [],
   "source": [
    "# Medimos el accuracy del modelo\n",
    "accuracy = final_model.score(X_test, y_test)\n",
    "accuracy"
   ]
  },
  {
   "cell_type": "code",
   "execution_count": null,
   "metadata": {},
   "outputs": [],
   "source": [
    "# Se predicen las clases para test\n",
    "y_pred = final_model.predict(X_test)"
   ]
  },
  {
   "cell_type": "markdown",
   "metadata": {},
   "source": [
    "#### 2.5.4 Save metrics"
   ]
  },
  {
   "cell_type": "code",
   "execution_count": null,
   "metadata": {},
   "outputs": [],
   "source": [
    "import numpy as np\n",
    "from sklearn.metrics import precision_recall_fscore_support\n",
    "from sklearn.metrics import confusion_matrix\n",
    "\n",
    "p, r, f1, s = precision_recall_fscore_support(y_test, y_pred, average='weighted')\n",
    "model_name = 'SVC'\n",
    "results.append([model_name, accuracy, p, r, f1])"
   ]
  },
  {
   "cell_type": "markdown",
   "metadata": {},
   "source": [
    "### 2.6 Random Forest"
   ]
  },
  {
   "cell_type": "code",
   "execution_count": null,
   "metadata": {},
   "outputs": [],
   "source": [
    "from sklearn.ensemble import RandomForestClassifier\n",
    "\n",
    "# Creacion del pipeline del modelo inicial\n",
    "model = Pipeline(steps=[\n",
    "    ## Selección de los features\n",
    "    (\"tfidf\", TfidfVectorizer(preprocessor=preprocess_text)),\n",
    "    ## Se tiene un desbalance de clases, entonces se hace un oversampling\n",
    "    ('oversample', RandomOverSampler()),\n",
    "    ## Se aplica el modelo\n",
    "    (\"rforest\", RandomForestClassifier())\n",
    "])"
   ]
  },
  {
   "cell_type": "markdown",
   "metadata": {},
   "source": [
    "#### 2.3.1 Primera iteración grid search"
   ]
  },
  {
   "cell_type": "code",
   "execution_count": null,
   "metadata": {},
   "outputs": [],
   "source": [
    "from sklearn.model_selection import GridSearchCV\n",
    "\n",
    "# Definimos los parámetros a explorar\n",
    "param_grid = {\n",
    "    'tfidf__max_features': [500, 1000],\n",
    "    'rforest__n_estimators': [100, 200],\n",
    "    'rforest__max_depth': [5, 10],\n",
    "    'rforest__min_samples_split': [2, 5],\n",
    "    'rforest__min_samples_leaf': [2, 4]\n",
    "}\n",
    "\n",
    "# Creamos el objeto GridSearchCV\n",
    "grid_search = GridSearchCV(estimator=model,\n",
    "                          param_grid=param_grid,\n",
    "                          cv=5,\n",
    "                          verbose=2)\n",
    "\n",
    "# Ajustamos el modelo a los datos de entrenamiento\n",
    "grid_search.fit(X_train, y_train)\n",
    "\n",
    "# Obtenemos los mejores parámetros\n",
    "best_params = grid_search.best_params_\n",
    "print(best_params)"
   ]
  },
  {
   "cell_type": "markdown",
   "metadata": {},
   "source": [
    "#### 2.3.2 Segunda iteración grid search"
   ]
  },
  {
   "cell_type": "code",
   "execution_count": null,
   "metadata": {},
   "outputs": [],
   "source": [
    "# Definimos los parámetros a explorar\n",
    "param_grid = {\n",
    "    'tfidf__max_features': [500, 1000],\n",
    "    'rforest__n_estimators': [100, 200],\n",
    "    'rforest__max_depth': [5, 10],\n",
    "    'rforest__min_samples_split': [2, 5],\n",
    "    'rforest__min_samples_leaf': [2, 4]\n",
    "}\n",
    "\n",
    "\n",
    "# Creamos el objeto GridSearchCV\n",
    "grid_search = GridSearchCV(estimator=model,\n",
    "                          param_grid=param_grid,\n",
    "                          cv=5,\n",
    "                          verbose=2)\n",
    "\n",
    "# Ajustamos el modelo a los datos de entrenamiento\n",
    "grid_search.fit(X_train, y_train)\n",
    "\n",
    "# Obtenemos los mejores parámetros\n",
    "best_params = grid_search.best_params_\n",
    "print(best_params)"
   ]
  },
  {
   "cell_type": "markdown",
   "metadata": {},
   "source": [
    "#### 2.3.3 Modelo final"
   ]
  },
  {
   "cell_type": "code",
   "execution_count": null,
   "metadata": {},
   "outputs": [],
   "source": [
    "# Creacion del pipeline\n",
    "final_model = Pipeline(steps=[\n",
    "    ## Selección de los features\n",
    "    (\"tfidf\", TfidfVectorizer(max_features=500, preprocessor=preprocess_text)),\n",
    "    ## Se tiene un desbalance de clases, entonces se hace un oversampling\n",
    "    ('oversample', RandomOverSampler()),\n",
    "    ## Se aplica el modelo\n",
    "    (\"rforest\", RandomForestClassifier(n_estimators=100, max_depth=5, min_samples_split=2, min_samples_leaf=2))\n",
    "])"
   ]
  },
  {
   "cell_type": "code",
   "execution_count": null,
   "metadata": {},
   "outputs": [],
   "source": [
    "# Ajustamos el modelo\n",
    "final_model.fit(X_train, y_train)"
   ]
  },
  {
   "cell_type": "code",
   "execution_count": null,
   "metadata": {},
   "outputs": [],
   "source": [
    "# Medimos el accuracy del modelo\n",
    "accuracy = final_model.score(X_test, y_test)\n",
    "accuracy"
   ]
  },
  {
   "cell_type": "code",
   "execution_count": null,
   "metadata": {},
   "outputs": [],
   "source": [
    "# Se predicen las clases para test\n",
    "y_pred = final_model.predict(X_test)"
   ]
  },
  {
   "cell_type": "markdown",
   "metadata": {},
   "source": [
    "#### 2.3.4 Save metrics"
   ]
  },
  {
   "cell_type": "code",
   "execution_count": null,
   "metadata": {},
   "outputs": [],
   "source": [
    "import numpy as np\n",
    "from sklearn.metrics import precision_recall_fscore_support\n",
    "from sklearn.metrics import confusion_matrix\n",
    "\n",
    "p, r, f1, s = precision_recall_fscore_support(y_test, y_pred, average='weighted')\n",
    "model_name = 'Random Forest'\n",
    "results.append([model_name, accuracy, p, r, f1])"
   ]
  },
  {
   "cell_type": "markdown",
   "metadata": {},
   "source": [
    "### 2.7 XGBoost"
   ]
  },
  {
   "cell_type": "code",
   "execution_count": null,
   "metadata": {},
   "outputs": [],
   "source": [
    "from sklearn.neighbors import KNeighborsClassifier\n",
    "import xgboost as xgb\n",
    "\n",
    "# Creacion del pipeline del modelo inicial\n",
    "model = Pipeline(steps=[\n",
    "    ## Selección de los features\n",
    "    (\"tfidf\", TfidfVectorizer(preprocessor=preprocess_text)),\n",
    "    ## Se tiene un desbalance de clases, entonces se hace un oversampling\n",
    "    ('oversample', RandomOverSampler()),\n",
    "    ## Se aplica el modelo\n",
    "    (\"XGB\", xgb())\n",
    "])"
   ]
  },
  {
   "cell_type": "markdown",
   "metadata": {},
   "source": [
    "#### 2.7.1 Primera iteración grid search"
   ]
  },
  {
   "cell_type": "code",
   "execution_count": null,
   "metadata": {},
   "outputs": [],
   "source": [
    "from sklearn.model_selection import GridSearchCV\n",
    "\n",
    "param_grid = {\n",
    "    'tfidf__max_features': [500, 1000],\n",
    "    'XGB__max_depth': [3, 5],\n",
    "    'XGB__learning_rate': [0.1, 0.3],\n",
    "    'XGB__subsample': [0.8, 1.0],\n",
    "    'XGB__colsample_bytree': [0.8, 1.0]\n",
    "}\n",
    "\n",
    "# Creamos el objeto GridSearchCV\n",
    "grid_search = GridSearchCV(estimator=model,\n",
    "                          param_grid=param_grid,\n",
    "                          cv=5,\n",
    "                          verbose=2)\n",
    "\n",
    "# Ajustamos el modelo a los datos de entrenamiento\n",
    "grid_search.fit(X_train, y_train)\n",
    "\n",
    "# Obtenemos los mejores parámetros\n",
    "best_params = grid_search.best_params_\n",
    "print(best_params)"
   ]
  },
  {
   "cell_type": "markdown",
   "metadata": {},
   "source": [
    "#### 2.7.2 Segunda iteración grid search"
   ]
  },
  {
   "cell_type": "code",
   "execution_count": null,
   "metadata": {},
   "outputs": [],
   "source": [
    "# Definimos los parámetros a explorar\n",
    "param_grid = {\n",
    "    'tfidf__max_features': [500, 1000],\n",
    "    'XGB__max_depth': [3, 5],\n",
    "    'XGB__learning_rate': [0.1, 0.3],\n",
    "    'XGB__subsample': [0.8, 1.0],\n",
    "    'XGB__colsample_bytree': [0.8, 1.0]\n",
    "}\n",
    "\n",
    "# Creamos el objeto GridSearchCV\n",
    "grid_search = GridSearchCV(estimator=model,\n",
    "                          param_grid=param_grid,\n",
    "                          cv=5,\n",
    "                          verbose=2)\n",
    "\n",
    "# Ajustamos el modelo a los datos de entrenamiento\n",
    "grid_search.fit(X_train, y_train)\n",
    "\n",
    "# Obtenemos los mejores parámetros\n",
    "best_params = grid_search.best_params_\n",
    "print(best_params)"
   ]
  },
  {
   "cell_type": "markdown",
   "metadata": {},
   "source": [
    "#### 2.7.3 Modelo final"
   ]
  },
  {
   "cell_type": "code",
   "execution_count": null,
   "metadata": {},
   "outputs": [],
   "source": [
    "# Creacion del pipeline\n",
    "final_model = Pipeline(steps=[\n",
    "    ## Selección de los features\n",
    "    (\"tfidf\", TfidfVectorizer(max_features=500, preprocessor=preprocess_text)),\n",
    "    ## Se tiene un desbalance de clases, entonces se hace un oversampling\n",
    "    ('oversample', RandomOverSampler()),\n",
    "    ## Se aplica el modelo\n",
    "    (\"XGB\", xgb(max_depth=3, learning_rate=0.1, subsample=0.8, colsample_bytree=0-8))\n",
    "])"
   ]
  },
  {
   "cell_type": "code",
   "execution_count": null,
   "metadata": {},
   "outputs": [],
   "source": [
    "# Ajustamos el modelo\n",
    "final_model.fit(X_train, y_train)"
   ]
  },
  {
   "cell_type": "code",
   "execution_count": null,
   "metadata": {},
   "outputs": [],
   "source": [
    "# Medimos el accuracy del modelo\n",
    "accuracy = final_model.score(X_test, y_test)\n",
    "accuracy"
   ]
  },
  {
   "cell_type": "code",
   "execution_count": null,
   "metadata": {},
   "outputs": [],
   "source": [
    "# Se predicen las clases para test\n",
    "y_pred = final_model.predict(X_test)"
   ]
  },
  {
   "cell_type": "markdown",
   "metadata": {},
   "source": [
    "#### 2.7.4 Save metrics"
   ]
  },
  {
   "cell_type": "code",
   "execution_count": null,
   "metadata": {},
   "outputs": [],
   "source": [
    "import numpy as np\n",
    "from sklearn.metrics import precision_recall_fscore_support\n",
    "from sklearn.metrics import confusion_matrix\n",
    "\n",
    "p, r, f1, s = precision_recall_fscore_support(y_test, y_pred, average='weighted')\n",
    "model_name = 'XGBoost'\n",
    "results.append([model_name, accuracy, p, r, f1])"
   ]
  },
  {
   "cell_type": "markdown",
   "metadata": {},
   "source": [
    "### 2.8 MLP Classifier (Multi-Layer Perceptron)"
   ]
  },
  {
   "cell_type": "code",
   "execution_count": null,
   "metadata": {},
   "outputs": [],
   "source": [
    "from sklearn.neural_network import MLPClassifier\n",
    "\n",
    "# Creacion del pipeline del modelo inicial\n",
    "model = Pipeline(steps=[\n",
    "    ## Selección de los features\n",
    "    (\"tfidf\", TfidfVectorizer(preprocessor=preprocess_text)),\n",
    "    ## Se tiene un desbalance de clases, entonces se hace un oversampling\n",
    "    ('oversample', RandomOverSampler()),\n",
    "    ## Se aplica el modelo\n",
    "    (\"MLP\", MLPClassifier())\n",
    "])"
   ]
  },
  {
   "cell_type": "markdown",
   "metadata": {},
   "source": [
    "#### 2.8.1 Primera iteración grid search"
   ]
  },
  {
   "cell_type": "code",
   "execution_count": null,
   "metadata": {},
   "outputs": [],
   "source": [
    "from sklearn.model_selection import GridSearchCV\n",
    "\n",
    "param_grid = {\n",
    "    'tfidf__max_features': [500, 1000],\n",
    "    'MLP__hidden_layer_sizes': [(100, 50), (50, 50)],\n",
    "    'MLP__activation': ['relu', 'tanh'],\n",
    "    'MLP__solver': ['adam', 'sgd'],\n",
    "    'MLP__alpha': [0.001, 0.01],\n",
    "    'MLP__learning_rate': ['constant', 'adaptive']\n",
    "}\n",
    "\n",
    "# Creamos el objeto GridSearchCV\n",
    "grid_search = GridSearchCV(estimator=model,\n",
    "                          param_grid=param_grid,\n",
    "                          cv=5,\n",
    "                          verbose=2)\n",
    "\n",
    "# Ajustamos el modelo a los datos de entrenamiento\n",
    "grid_search.fit(X_train, y_train)\n",
    "\n",
    "# Obtenemos los mejores parámetros\n",
    "best_params = grid_search.best_params_\n",
    "print(best_params)"
   ]
  },
  {
   "cell_type": "markdown",
   "metadata": {},
   "source": [
    "#### 2.8.2 Segunda iteración grid search"
   ]
  },
  {
   "cell_type": "code",
   "execution_count": null,
   "metadata": {},
   "outputs": [],
   "source": [
    "# Definimos los parámetros a explorar\n",
    "param_grid = {\n",
    "    'tfidf__max_features': [500, 1000],\n",
    "    'MLP__hidden_layer_sizes': [(100, 50), (50, 50)],\n",
    "    'MLP__activation': ['relu', 'tanh'],\n",
    "    'MLP__solver': ['adam', 'sgd'],\n",
    "    'MLP__alpha': [0.001, 0.01],\n",
    "    'MLP__learning_rate': ['constant', 'adaptive']\n",
    "}\n",
    "\n",
    "\n",
    "# Creamos el objeto GridSearchCV\n",
    "grid_search = GridSearchCV(estimator=model,\n",
    "                          param_grid=param_grid,\n",
    "                          cv=5,\n",
    "                          verbose=2)\n",
    "\n",
    "# Ajustamos el modelo a los datos de entrenamiento\n",
    "grid_search.fit(X_train, y_train)\n",
    "\n",
    "# Obtenemos los mejores parámetros\n",
    "best_params = grid_search.best_params_\n",
    "print(best_params)"
   ]
  },
  {
   "cell_type": "markdown",
   "metadata": {},
   "source": [
    "#### 2.8.3 Modelo final"
   ]
  },
  {
   "cell_type": "code",
   "execution_count": null,
   "metadata": {},
   "outputs": [],
   "source": [
    "# Creacion del pipeline\n",
    "final_model = Pipeline(steps=[\n",
    "    ## Selección de los features\n",
    "    (\"tfidf\", TfidfVectorizer(max_features=500, preprocessor=preprocess_text)),\n",
    "    ## Se tiene un desbalance de clases, entonces se hace un oversampling\n",
    "    ('oversample', RandomOverSampler()),\n",
    "    ## Se aplica el modelo\n",
    "    (\"MLP\", MLPClassifier(hidden_layer_sizes=(50, 50), activation='relu', solver='sgd', alpha=0.01, learning_rate='adaptative'))\n",
    "])"
   ]
  },
  {
   "cell_type": "code",
   "execution_count": null,
   "metadata": {},
   "outputs": [],
   "source": [
    "# Ajustamos el modelo\n",
    "final_model.fit(X_train, y_train)"
   ]
  },
  {
   "cell_type": "code",
   "execution_count": null,
   "metadata": {},
   "outputs": [],
   "source": [
    "# Medimos el accuracy del modelo\n",
    "accuracy = final_model.score(X_test, y_test)\n",
    "accuracy"
   ]
  },
  {
   "cell_type": "code",
   "execution_count": null,
   "metadata": {},
   "outputs": [],
   "source": [
    "# Se predicen las clases para test\n",
    "y_pred = final_model.predict(X_test)"
   ]
  },
  {
   "cell_type": "markdown",
   "metadata": {},
   "source": [
    "#### 2.8.4 Save metrics"
   ]
  },
  {
   "cell_type": "code",
   "execution_count": null,
   "metadata": {},
   "outputs": [],
   "source": [
    "import numpy as np\n",
    "from sklearn.metrics import precision_recall_fscore_support\n",
    "from sklearn.metrics import confusion_matrix\n",
    "\n",
    "p, r, f1, s = precision_recall_fscore_support(y_test, y_pred, average='weighted')\n",
    "model_name = 'MLP'\n",
    "results.append([model_name, accuracy, p, r, f1])"
   ]
  },
  {
   "cell_type": "markdown",
   "metadata": {},
   "source": [
    "## 3. Results"
   ]
  },
  {
   "cell_type": "code",
   "execution_count": 33,
   "metadata": {},
   "outputs": [
    {
     "data": {
      "text/html": [
       "<div>\n",
       "<style scoped>\n",
       "    .dataframe tbody tr th:only-of-type {\n",
       "        vertical-align: middle;\n",
       "    }\n",
       "\n",
       "    .dataframe tbody tr th {\n",
       "        vertical-align: top;\n",
       "    }\n",
       "\n",
       "    .dataframe thead th {\n",
       "        text-align: right;\n",
       "    }\n",
       "</style>\n",
       "<table border=\"1\" class=\"dataframe\">\n",
       "  <thead>\n",
       "    <tr style=\"text-align: right;\">\n",
       "      <th></th>\n",
       "      <th>Model</th>\n",
       "      <th>Accuracy</th>\n",
       "      <th>Precision</th>\n",
       "      <th>Recall</th>\n",
       "      <th>F1_score</th>\n",
       "    </tr>\n",
       "  </thead>\n",
       "  <tbody>\n",
       "    <tr>\n",
       "      <th>0</th>\n",
       "      <td>Logistic_regresion</td>\n",
       "      <td>0.436</td>\n",
       "      <td>0.599798</td>\n",
       "      <td>0.436</td>\n",
       "      <td>0.446866</td>\n",
       "    </tr>\n",
       "    <tr>\n",
       "      <th>1</th>\n",
       "      <td>Logistic_regresion</td>\n",
       "      <td>0.436</td>\n",
       "      <td>0.599798</td>\n",
       "      <td>0.436</td>\n",
       "      <td>0.446866</td>\n",
       "    </tr>\n",
       "    <tr>\n",
       "      <th>2</th>\n",
       "      <td>Logistic_regresion</td>\n",
       "      <td>0.436</td>\n",
       "      <td>0.599798</td>\n",
       "      <td>0.436</td>\n",
       "      <td>0.446866</td>\n",
       "    </tr>\n",
       "  </tbody>\n",
       "</table>\n",
       "</div>"
      ],
      "text/plain": [
       "                Model  Accuracy  Precision  Recall  F1_score\n",
       "0  Logistic_regresion     0.436   0.599798   0.436  0.446866\n",
       "1  Logistic_regresion     0.436   0.599798   0.436  0.446866\n",
       "2  Logistic_regresion     0.436   0.599798   0.436  0.446866"
      ]
     },
     "execution_count": 33,
     "metadata": {},
     "output_type": "execute_result"
    }
   ],
   "source": [
    "res_df = pd.DataFrame(results, columns=['Model', 'Accuracy', 'Precision', 'Recall', 'F1_score'])\n",
    "res_df"
   ]
  }
 ],
 "metadata": {
  "kernelspec": {
   "display_name": "env_nlp",
   "language": "python",
   "name": "python3"
  },
  "language_info": {
   "codemirror_mode": {
    "name": "ipython",
    "version": 3
   },
   "file_extension": ".py",
   "mimetype": "text/x-python",
   "name": "python",
   "nbconvert_exporter": "python",
   "pygments_lexer": "ipython3",
   "version": "3.11.10"
  }
 },
 "nbformat": 4,
 "nbformat_minor": 2
}
