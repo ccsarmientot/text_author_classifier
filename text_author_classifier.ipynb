{
 "cells": [
  {
   "cell_type": "markdown",
   "metadata": {},
   "source": [
    "### 0. Libraries and utilities"
   ]
  },
  {
   "cell_type": "code",
   "execution_count": 1,
   "metadata": {},
   "outputs": [
    {
     "name": "stderr",
     "output_type": "stream",
     "text": [
      "[nltk_data] Downloading package stopwords to\n",
      "[nltk_data]     C:\\Users\\ccsar\\AppData\\Roaming\\nltk_data...\n",
      "[nltk_data]   Package stopwords is already up-to-date!\n"
     ]
    },
    {
     "data": {
      "text/plain": [
       "True"
      ]
     },
     "execution_count": 1,
     "metadata": {},
     "output_type": "execute_result"
    }
   ],
   "source": [
    "import re\n",
    "import unicodedata\n",
    "import numpy as np\n",
    "import pandas as pd\n",
    "from nltk.corpus import stopwords\n",
    "import nltk\n",
    "nltk.download('stopwords')"
   ]
  },
  {
   "cell_type": "code",
   "execution_count": null,
   "metadata": {},
   "outputs": [
    {
     "data": {
      "text/plain": [
       "'say love place'"
      ]
     },
     "execution_count": 2,
     "metadata": {},
     "output_type": "execute_result"
    }
   ],
   "source": [
    "def preprocess_text(text):\n",
    "    # Convert to lowercase\n",
    "    text = text.lower()\n",
    "\n",
    "    # Remove accents\n",
    "    text = unicodedata.normalize('NFKD', text).encode('ascii', 'ignore').decode('utf-8')\n",
    "\n",
    "    # Remove HTML tags\n",
    "    text = re.sub(r'<.*?>', '', text)\n",
    "\n",
    "    # Remove punctuation\n",
    "    text = re.sub(r'[^\\w\\s]', '', text)\n",
    "\n",
    "    # Remove numbers\n",
    "    text = re.sub(r'\\d+', '', text)\n",
    "\n",
    "    # Tokenize the text\n",
    "    tokens = text.split()\n",
    "\n",
    "    # Remove English stopwords\n",
    "    stop_words = set(stopwords.words('english'))\n",
    "    tokens = [token for token in tokens if token.lower() not in stop_words]\n",
    "\n",
    "    # Join the tokens back into a single string\n",
    "    text = ' '.join(tokens)\n",
    "\n",
    "    return text\n",
    "\n",
    "# Limpiamos el texto\n",
    "preprocess_text('What can I say, I love this place')"
   ]
  },
  {
   "cell_type": "markdown",
   "metadata": {},
   "source": [
    "### 1. Preprocessing"
   ]
  },
  {
   "cell_type": "code",
   "execution_count": 3,
   "metadata": {},
   "outputs": [
    {
     "name": "stdout",
     "output_type": "stream",
     "text": [
      "Shape of dataframe: (10000, 2)\n"
     ]
    },
    {
     "data": {
      "text/html": [
       "<div>\n",
       "<style scoped>\n",
       "    .dataframe tbody tr th:only-of-type {\n",
       "        vertical-align: middle;\n",
       "    }\n",
       "\n",
       "    .dataframe tbody tr th {\n",
       "        vertical-align: top;\n",
       "    }\n",
       "\n",
       "    .dataframe thead th {\n",
       "        text-align: right;\n",
       "    }\n",
       "</style>\n",
       "<table border=\"1\" class=\"dataframe\">\n",
       "  <thead>\n",
       "    <tr style=\"text-align: right;\">\n",
       "      <th></th>\n",
       "      <th>text</th>\n",
       "      <th>author</th>\n",
       "    </tr>\n",
       "  </thead>\n",
       "  <tbody>\n",
       "    <tr>\n",
       "      <th>28172</th>\n",
       "      <td>now when nobody else was to be had and no high...</td>\n",
       "      <td>26</td>\n",
       "    </tr>\n",
       "    <tr>\n",
       "      <th>4098</th>\n",
       "      <td>said to me john you was always honorable and i...</td>\n",
       "      <td>8</td>\n",
       "    </tr>\n",
       "    <tr>\n",
       "      <th>21493</th>\n",
       "      <td>not see the lady s face until the marriage day...</td>\n",
       "      <td>20</td>\n",
       "    </tr>\n",
       "    <tr>\n",
       "      <th>16864</th>\n",
       "      <td>so you have come at last yes here i am and how...</td>\n",
       "      <td>15</td>\n",
       "    </tr>\n",
       "    <tr>\n",
       "      <th>2727</th>\n",
       "      <td>night what jack you be a soldier yes if you th...</td>\n",
       "      <td>4</td>\n",
       "    </tr>\n",
       "  </tbody>\n",
       "</table>\n",
       "</div>"
      ],
      "text/plain": [
       "                                                    text  author\n",
       "28172  now when nobody else was to be had and no high...      26\n",
       "4098   said to me john you was always honorable and i...       8\n",
       "21493  not see the lady s face until the marriage day...      20\n",
       "16864  so you have come at last yes here i am and how...      15\n",
       "2727   night what jack you be a soldier yes if you th...       4"
      ]
     },
     "execution_count": 3,
     "metadata": {},
     "output_type": "execute_result"
    }
   ],
   "source": [
    "# data_path = r'Data\\Gungor_2018_VictorianAuthorAttribution_data-train.csv'\n",
    "# df = pd.read_csv(data_path, encoding='latin-1')\n",
    "\n",
    "## URL from github repo, load as dataframe\n",
    "url = 'https://raw.githubusercontent.com/ccsarmientot/text_author_classifier/master/datasets/sample_victorian.parquet'\n",
    "url = 'datasets/sample_victorian.parquet'\n",
    "df = pd.read_parquet(url)\n",
    "\n",
    "print(f'Shape of dataframe: {df.shape}')\n",
    "df.head(5)"
   ]
  },
  {
   "cell_type": "code",
   "execution_count": 4,
   "metadata": {},
   "outputs": [
    {
     "data": {
      "text/plain": [
       "'Cantidad promedio de caracteres por texto: 4,945.23'"
      ]
     },
     "execution_count": 4,
     "metadata": {},
     "output_type": "execute_result"
    }
   ],
   "source": [
    "avg_chr = np.mean(df['text'].apply(len))\n",
    "f'Cantidad promedio de caracteres por texto: {avg_chr:,.2f}'"
   ]
  },
  {
   "cell_type": "code",
   "execution_count": 5,
   "metadata": {},
   "outputs": [
    {
     "data": {
      "text/plain": [
       "'Cantidad promedio de palabras por texto: 1,001.00'"
      ]
     },
     "execution_count": 5,
     "metadata": {},
     "output_type": "execute_result"
    }
   ],
   "source": [
    "avg_chr = np.mean(df['text'].apply(lambda x: len(x.split(' '))))\n",
    "f'Cantidad promedio de palabras por texto: {avg_chr:,.2f}'"
   ]
  },
  {
   "cell_type": "code",
   "execution_count": 6,
   "metadata": {},
   "outputs": [
    {
     "data": {
      "text/plain": [
       "author\n",
       "8     1336\n",
       "26     869\n",
       "14     501\n",
       "21     448\n",
       "37     441\n",
       "39     434\n",
       "45     424\n",
       "33     347\n",
       "48     342\n",
       "19     330\n",
       "15     244\n",
       "4      240\n",
       "43     228\n",
       "9      213\n",
       "38     209\n",
       "25     207\n",
       "18     200\n",
       "30     182\n",
       "42     178\n",
       "1      174\n",
       "50     162\n",
       "41     159\n",
       "32     139\n",
       "10     138\n",
       "28     132\n",
       "17     128\n",
       "36     120\n",
       "35     118\n",
       "12     112\n",
       "44     110\n",
       "20     110\n",
       "46     107\n",
       "13      92\n",
       "29      89\n",
       "34      85\n",
       "22      85\n",
       "24      82\n",
       "23      80\n",
       "40      78\n",
       "11      66\n",
       "27      63\n",
       "6       63\n",
       "2       62\n",
       "3       41\n",
       "16      32\n",
       "Name: count, dtype: int64"
      ]
     },
     "execution_count": 6,
     "metadata": {},
     "output_type": "execute_result"
    }
   ],
   "source": [
    "## Se identifica un desbalance de clases:\n",
    "df['author'].value_counts()"
   ]
  },
  {
   "cell_type": "code",
   "execution_count": 7,
   "metadata": {},
   "outputs": [],
   "source": [
    "# ## Getting sample fo \n",
    "# df_sample = df.sample(10_000)\n",
    "# n_authors = df_sample['author'].nunique()\n",
    "# print(f'Authors in df_sample: {n_authors}')\n",
    "# df_sample.head(5)"
   ]
  },
  {
   "cell_type": "markdown",
   "metadata": {},
   "source": [
    "## 2. Modelling"
   ]
  },
  {
   "cell_type": "code",
   "execution_count": 8,
   "metadata": {},
   "outputs": [],
   "source": [
    "# Importamos librerias\n",
    "import numpy as np\n",
    "from sklearn.pipeline import Pipeline\n",
    "from sklearn.model_selection import train_test_split\n",
    "from sklearn.feature_extraction.text import TfidfVectorizer\n",
    "from imblearn.pipeline import Pipeline\n",
    "from imblearn.over_sampling import RandomOverSampler\n",
    "from sklearn.metrics import precision_recall_fscore_support\n",
    "from sklearn.model_selection import GridSearchCV\n",
    "\n",
    "results = []\n",
    "X = df['text']\n",
    "y = df['author']\n",
    "\n",
    "# Dividimos los datos en entrenamiento y testeo\n",
    "X_train, X_test, y_train, y_test = train_test_split(X, y, test_size=0.2, random_state=42)"
   ]
  },
  {
   "cell_type": "code",
   "execution_count": 9,
   "metadata": {},
   "outputs": [],
   "source": [
    "## Se aplica el preprocesameinto\n",
    "\n",
    "# 1. Feature Extraction\n",
    "tfidf = TfidfVectorizer(max_features=1000, preprocessor=preprocess_text)\n",
    "X_train = tfidf.fit_transform(X_train)\n",
    "X_test = tfidf.transform(X_test)\n",
    "\n",
    "# 2. Oversampling\n",
    "oversample = RandomOverSampler()\n",
    "X_train, y_train = oversample.fit_resample(X_train, y_train)"
   ]
  },
  {
   "cell_type": "markdown",
   "metadata": {},
   "source": [
    "### 2.0 Define function to iterate over"
   ]
  },
  {
   "cell_type": "code",
   "execution_count": 10,
   "metadata": {},
   "outputs": [
    {
     "ename": "",
     "evalue": "",
     "output_type": "error",
     "traceback": [
      "\u001b[1;31mThe Kernel crashed while executing code in the current cell or a previous cell. \n",
      "\u001b[1;31mPlease review the code in the cell(s) to identify a possible cause of the failure. \n",
      "\u001b[1;31mClick <a href='https://aka.ms/vscodeJupyterKernelCrash'>here</a> for more info. \n",
      "\u001b[1;31mView Jupyter <a href='command:jupyter.viewOutput'>log</a> for further details."
     ]
    }
   ],
   "source": [
    "def train_cv_models(model_name:str, classifier, \n",
    "                    param_grid:dict[list], \n",
    "                    X_train, y_train) -> dict:\n",
    "\n",
    "    # Creacion del pipeline del modelo inicial\n",
    "    model = Pipeline(steps=[\n",
    "        ## Se aplica el modelo\n",
    "        (model_name, classifier)\n",
    "    ])\n",
    "\n",
    "    ######################## PRIMERA BÚSQUEDA DE PARÁMETROS ####################\n",
    "    print(' Primera búsqueda de parámetros '.center(80, '#'))\n",
    "\n",
    "    # Creamos el objeto GridSearchCV\n",
    "    grid_search = GridSearchCV(estimator=model, param_grid=param_grid, cv=5, verbose=2)\n",
    "\n",
    "    # Ajustamos el modelo a los datos de entrenamiento\n",
    "    grid_search.fit(X_train, y_train)\n",
    "\n",
    "    # Obtenemos los mejores parámetros\n",
    "    best_params = grid_search.best_params_\n",
    "    print(f'Resultados primera búsqueda: {best_params}', '\\n')\n",
    "\n",
    "    ######################## SEGUNDA BÚSQUEDA DE PARÁMETROS ####################\n",
    "    print(' Segunda búsqueda de parámetros '.center(80, '#'), '\\n')\n",
    "    \n",
    "\n",
    "    # A los parámetros que deben ser enteros se resta y suma 1\n",
    "    int_list = ['min_samples_split', 'max_depth', 'n_neighbors', 'min_samples_leaf', 'n_estimators']\n",
    "    int_grid = {k:[v, v+1] for k,v in best_params.items() if any([i in k for i in int_list])}\n",
    "    ## Clean zero values\n",
    "    int_grid = {k:[c for c in v if c != 0] for k,v in int_grid.items()}\n",
    "\n",
    "    # A los parámetros numéricos encontrados se resta y suma el 10 %\n",
    "    int_params_grid = {k:[v-(v/10), v, v+(v/10)] for k,v in best_params.items() if isinstance(v, (float, int))}\n",
    "    \n",
    "    # A los parámetros en formato string encontrados se deja el mejor\n",
    "    str_params_grid = {k:[v] for k,v in best_params.items() if not isinstance(v, list)}\n",
    "\n",
    "    best_params_grid = {**str_params_grid, **int_params_grid, **int_grid}\n",
    "    # best_params_grid['tfidf__max_features'] = [1000]\n",
    "\n",
    "    print('DEBUG: params after transform: ', best_params_grid)\n",
    "\n",
    "    # Creamos el objeto GridSearchCV\n",
    "    grid_search = GridSearchCV(estimator=model, param_grid=best_params_grid, cv=5, verbose=2)\n",
    "\n",
    "    # Ajustamos el modelo a los datos de entrenamiento\n",
    "    grid_search.fit(X_train, y_train)\n",
    "\n",
    "    # Obtenemos los mejores parámetros\n",
    "    best_params = grid_search.best_params_\n",
    "    print(f'Resultados segunda búsqueda: {best_params}', '\\n')\n",
    "\n",
    "    return best_params\n",
    "\n",
    "\n",
    "def train_final_model(model_name, classifier, X_train, y_train) -> list:\n",
    "\n",
    "    print(' Creando modelo final con los mejores parámetros '.center(80, '#'))\n",
    "    \n",
    "    # Creacion del pipeline modelo final\n",
    "    final_model = Pipeline(steps=[\n",
    "        ## Se aplica el modelo\n",
    "        (model_name, classifier)\n",
    "    ])\n",
    "\n",
    "    # Ajuste del modelo\n",
    "    final_model.fit(X_train, y_train)\n",
    "\n",
    "    # Medimos el accuracy del modelo\n",
    "    accuracy = final_model.score(X_test, y_test)\n",
    "    print(f'Accuracy de {model_name}: {accuracy:,.2%}')\n",
    "\n",
    "    # Se predicen las clases para test\n",
    "    y_pred = final_model.predict(X_test)\n",
    "\n",
    "    p, r, f1, s = precision_recall_fscore_support(y_test, y_pred, average='weighted')\n",
    "    return [model_name, accuracy, p, r, f1]\n"
   ]
  },
  {
   "cell_type": "markdown",
   "metadata": {},
   "source": [
    "### 2.1 Logistic Regression"
   ]
  },
  {
   "cell_type": "code",
   "execution_count": 11,
   "metadata": {},
   "outputs": [
    {
     "name": "stdout",
     "output_type": "stream",
     "text": [
      "######################## Primera búsqueda de parámetros ########################\n",
      "Fitting 5 folds for each of 3 candidates, totalling 15 fits\n",
      "[CV] END ..........................LogisticRegression__C=0.1; total time=  29.0s\n",
      "[CV] END ..........................LogisticRegression__C=0.1; total time=  25.0s\n",
      "[CV] END ..........................LogisticRegression__C=0.1; total time=  26.8s\n",
      "[CV] END ..........................LogisticRegression__C=0.1; total time=  25.1s\n",
      "[CV] END ..........................LogisticRegression__C=0.1; total time=  25.8s\n",
      "[CV] END ............................LogisticRegression__C=1; total time=  52.7s\n",
      "[CV] END ............................LogisticRegression__C=1; total time=  44.0s\n",
      "[CV] END ............................LogisticRegression__C=1; total time=  57.8s\n",
      "[CV] END ............................LogisticRegression__C=1; total time=  49.4s\n",
      "[CV] END ............................LogisticRegression__C=1; total time=  46.0s\n",
      "[CV] END ...........................LogisticRegression__C=10; total time= 1.0min\n",
      "[CV] END ...........................LogisticRegression__C=10; total time=  49.7s\n",
      "[CV] END ...........................LogisticRegression__C=10; total time=  59.9s\n",
      "[CV] END ...........................LogisticRegression__C=10; total time=  51.0s\n",
      "[CV] END ...........................LogisticRegression__C=10; total time=  47.0s\n",
      "Resultados primera búsqueda: {'LogisticRegression__C': 10} \n",
      "\n",
      "######################## Segunda búsqueda de parámetros ######################## \n",
      "\n",
      "DEBUG: params after transform:  {'LogisticRegression__C': [9.0, 10, 11.0]}\n",
      "Fitting 5 folds for each of 3 candidates, totalling 15 fits\n",
      "[CV] END ..........................LogisticRegression__C=9.0; total time=  48.2s\n",
      "[CV] END ..........................LogisticRegression__C=9.0; total time=  40.1s\n",
      "[CV] END ..........................LogisticRegression__C=9.0; total time=  53.9s\n",
      "[CV] END ..........................LogisticRegression__C=9.0; total time=  46.5s\n",
      "[CV] END ..........................LogisticRegression__C=9.0; total time=  51.0s\n",
      "[CV] END ...........................LogisticRegression__C=10; total time=  56.7s\n",
      "[CV] END ...........................LogisticRegression__C=10; total time=  44.2s\n",
      "[CV] END ...........................LogisticRegression__C=10; total time=  53.6s\n",
      "[CV] END ...........................LogisticRegression__C=10; total time=  46.0s\n",
      "[CV] END ...........................LogisticRegression__C=10; total time=  45.8s\n",
      "[CV] END .........................LogisticRegression__C=11.0; total time=  53.0s\n",
      "[CV] END .........................LogisticRegression__C=11.0; total time=  50.8s\n",
      "[CV] END .........................LogisticRegression__C=11.0; total time=  49.4s\n",
      "[CV] END .........................LogisticRegression__C=11.0; total time=  51.7s\n",
      "[CV] END .........................LogisticRegression__C=11.0; total time=  50.6s\n",
      "Resultados segunda búsqueda: {'LogisticRegression__C': 11.0} \n",
      "\n",
      "############### Creando modelo final con los mejores parámetros ################\n",
      "Accuracy de LogisticRegression: 88.80%\n"
     ]
    }
   ],
   "source": [
    "from sklearn.linear_model import LogisticRegression\n",
    "\n",
    "# Definimos el modelo a usar\n",
    "classifier = LogisticRegression()\n",
    "model_name = 'LogisticRegression'\n",
    "\n",
    "# Definimos los parámetros a explorar\n",
    "param_grid = {\n",
    "    \n",
    "    f'{model_name}__C': [0.1, 1, 10],\n",
    "}\n",
    "\n",
    "best_params = train_cv_models(model_name, classifier, param_grid, X_train, y_train)\n",
    "model_best_params = {k.split('__')[1]:v for k,v in best_params.items() if 'tfidf' not in k}\n",
    "\n",
    "best_classifier = LogisticRegression(**model_best_params)\n",
    "model_stats = train_final_model(model_name, best_classifier, X_train, y_train)\n",
    "results.append(model_stats)"
   ]
  },
  {
   "cell_type": "markdown",
   "metadata": {},
   "source": [
    "### 2.2 Naive Bayes"
   ]
  },
  {
   "cell_type": "code",
   "execution_count": 12,
   "metadata": {},
   "outputs": [
    {
     "name": "stdout",
     "output_type": "stream",
     "text": [
      "######################## Primera búsqueda de parámetros ########################\n",
      "Fitting 5 folds for each of 3 candidates, totalling 15 fits\n",
      "[CV] END ..............................NaiveBayes__alpha=0.1; total time=   0.4s\n",
      "[CV] END ..............................NaiveBayes__alpha=0.1; total time=   0.5s\n",
      "[CV] END ..............................NaiveBayes__alpha=0.1; total time=   0.4s\n",
      "[CV] END ..............................NaiveBayes__alpha=0.1; total time=   0.4s\n",
      "[CV] END ..............................NaiveBayes__alpha=0.1; total time=   0.4s\n",
      "[CV] END ................................NaiveBayes__alpha=1; total time=   0.4s\n",
      "[CV] END ................................NaiveBayes__alpha=1; total time=   0.4s\n",
      "[CV] END ................................NaiveBayes__alpha=1; total time=   0.4s\n",
      "[CV] END ................................NaiveBayes__alpha=1; total time=   0.4s\n",
      "[CV] END ................................NaiveBayes__alpha=1; total time=   0.4s\n",
      "[CV] END ...............................NaiveBayes__alpha=10; total time=   0.4s\n",
      "[CV] END ...............................NaiveBayes__alpha=10; total time=   0.5s\n",
      "[CV] END ...............................NaiveBayes__alpha=10; total time=   0.4s\n",
      "[CV] END ...............................NaiveBayes__alpha=10; total time=   0.5s\n",
      "[CV] END ...............................NaiveBayes__alpha=10; total time=   0.4s\n",
      "Resultados primera búsqueda: {'NaiveBayes__alpha': 0.1} \n",
      "\n",
      "######################## Segunda búsqueda de parámetros ######################## \n",
      "\n",
      "DEBUG: params after transform:  {'NaiveBayes__alpha': [0.09000000000000001, 0.1, 0.11]}\n",
      "Fitting 5 folds for each of 3 candidates, totalling 15 fits\n",
      "[CV] END ..............NaiveBayes__alpha=0.09000000000000001; total time=   0.5s\n",
      "[CV] END ..............NaiveBayes__alpha=0.09000000000000001; total time=   0.4s\n",
      "[CV] END ..............NaiveBayes__alpha=0.09000000000000001; total time=   0.4s\n",
      "[CV] END ..............NaiveBayes__alpha=0.09000000000000001; total time=   0.5s\n",
      "[CV] END ..............NaiveBayes__alpha=0.09000000000000001; total time=   0.6s\n",
      "[CV] END ..............................NaiveBayes__alpha=0.1; total time=   0.4s\n",
      "[CV] END ..............................NaiveBayes__alpha=0.1; total time=   0.5s\n",
      "[CV] END ..............................NaiveBayes__alpha=0.1; total time=   0.4s\n",
      "[CV] END ..............................NaiveBayes__alpha=0.1; total time=   0.4s\n",
      "[CV] END ..............................NaiveBayes__alpha=0.1; total time=   0.4s\n",
      "[CV] END .............................NaiveBayes__alpha=0.11; total time=   0.4s\n",
      "[CV] END .............................NaiveBayes__alpha=0.11; total time=   0.4s\n",
      "[CV] END .............................NaiveBayes__alpha=0.11; total time=   0.4s\n",
      "[CV] END .............................NaiveBayes__alpha=0.11; total time=   0.4s\n",
      "[CV] END .............................NaiveBayes__alpha=0.11; total time=   0.5s\n",
      "Resultados segunda búsqueda: {'NaiveBayes__alpha': 0.09000000000000001} \n",
      "\n",
      "############### Creando modelo final con los mejores parámetros ################\n",
      "Accuracy de NaiveBayes: 78.30%\n"
     ]
    }
   ],
   "source": [
    "from sklearn.naive_bayes import MultinomialNB\n",
    "\n",
    "# Definimos el modelo a usar\n",
    "classifier = MultinomialNB()\n",
    "model_name = 'NaiveBayes'\n",
    "\n",
    "# Definimos los parámetros a explorar\n",
    "param_grid = {\n",
    "    \n",
    "    f'{model_name}__alpha': [0.1, 1, 10],\n",
    "}\n",
    "\n",
    "\n",
    "best_params = train_cv_models(model_name, classifier, param_grid, X_train, y_train)\n",
    "model_best_params = {k.split('__')[1]:v for k,v in best_params.items() if 'tfidf' not in k}\n",
    "\n",
    "best_classifier = MultinomialNB(**model_best_params)\n",
    "model_stats = train_final_model(model_name, best_classifier, X_train, y_train)\n",
    "results.append(model_stats)"
   ]
  },
  {
   "cell_type": "markdown",
   "metadata": {},
   "source": [
    "### 2.3 KNeighbors"
   ]
  },
  {
   "cell_type": "code",
   "execution_count": 13,
   "metadata": {},
   "outputs": [
    {
     "name": "stdout",
     "output_type": "stream",
     "text": [
      "######################## Primera búsqueda de parámetros ########################\n",
      "Fitting 5 folds for each of 6 candidates, totalling 30 fits\n",
      "[CV] END KNeighbors__metric=euclidean, KNeighbors__n_neighbors=3; total time= 2.0min\n",
      "[CV] END KNeighbors__metric=euclidean, KNeighbors__n_neighbors=3; total time= 1.7min\n",
      "[CV] END KNeighbors__metric=euclidean, KNeighbors__n_neighbors=3; total time= 1.7min\n",
      "[CV] END KNeighbors__metric=euclidean, KNeighbors__n_neighbors=3; total time= 1.8min\n",
      "[CV] END KNeighbors__metric=euclidean, KNeighbors__n_neighbors=3; total time= 1.8min\n",
      "[CV] END KNeighbors__metric=euclidean, KNeighbors__n_neighbors=5; total time= 1.9min\n",
      "[CV] END KNeighbors__metric=euclidean, KNeighbors__n_neighbors=5; total time= 1.7min\n",
      "[CV] END KNeighbors__metric=euclidean, KNeighbors__n_neighbors=5; total time= 1.7min\n",
      "[CV] END KNeighbors__metric=euclidean, KNeighbors__n_neighbors=5; total time= 1.8min\n",
      "[CV] END KNeighbors__metric=euclidean, KNeighbors__n_neighbors=5; total time= 1.7min\n",
      "[CV] END KNeighbors__metric=manhattan, KNeighbors__n_neighbors=3; total time= 2.0min\n",
      "[CV] END KNeighbors__metric=manhattan, KNeighbors__n_neighbors=3; total time= 2.0min\n",
      "[CV] END KNeighbors__metric=manhattan, KNeighbors__n_neighbors=3; total time= 2.0min\n",
      "[CV] END KNeighbors__metric=manhattan, KNeighbors__n_neighbors=3; total time= 2.0min\n",
      "[CV] END KNeighbors__metric=manhattan, KNeighbors__n_neighbors=3; total time= 2.0min\n",
      "[CV] END KNeighbors__metric=manhattan, KNeighbors__n_neighbors=5; total time= 2.0min\n",
      "[CV] END KNeighbors__metric=manhattan, KNeighbors__n_neighbors=5; total time= 2.0min\n",
      "[CV] END KNeighbors__metric=manhattan, KNeighbors__n_neighbors=5; total time= 2.0min\n",
      "[CV] END KNeighbors__metric=manhattan, KNeighbors__n_neighbors=5; total time= 2.0min\n",
      "[CV] END KNeighbors__metric=manhattan, KNeighbors__n_neighbors=5; total time= 2.2min\n",
      "[CV] END KNeighbors__metric=cosine, KNeighbors__n_neighbors=3; total time= 1.7min\n",
      "[CV] END KNeighbors__metric=cosine, KNeighbors__n_neighbors=3; total time= 2.1min\n",
      "[CV] END KNeighbors__metric=cosine, KNeighbors__n_neighbors=3; total time= 2.0min\n",
      "[CV] END KNeighbors__metric=cosine, KNeighbors__n_neighbors=3; total time= 1.8min\n",
      "[CV] END KNeighbors__metric=cosine, KNeighbors__n_neighbors=3; total time= 1.7min\n",
      "[CV] END KNeighbors__metric=cosine, KNeighbors__n_neighbors=5; total time= 1.7min\n",
      "[CV] END KNeighbors__metric=cosine, KNeighbors__n_neighbors=5; total time= 1.7min\n",
      "[CV] END KNeighbors__metric=cosine, KNeighbors__n_neighbors=5; total time= 1.7min\n",
      "[CV] END KNeighbors__metric=cosine, KNeighbors__n_neighbors=5; total time= 2.0min\n",
      "[CV] END KNeighbors__metric=cosine, KNeighbors__n_neighbors=5; total time= 2.1min\n",
      "Resultados primera búsqueda: {'KNeighbors__metric': 'euclidean', 'KNeighbors__n_neighbors': 3} \n",
      "\n",
      "######################## Segunda búsqueda de parámetros ######################## \n",
      "\n",
      "DEBUG: params after transform:  {'KNeighbors__metric': ['euclidean'], 'KNeighbors__n_neighbors': [3, 4]}\n",
      "Fitting 5 folds for each of 2 candidates, totalling 10 fits\n",
      "[CV] END KNeighbors__metric=euclidean, KNeighbors__n_neighbors=3; total time= 2.1min\n",
      "[CV] END KNeighbors__metric=euclidean, KNeighbors__n_neighbors=3; total time= 2.1min\n",
      "[CV] END KNeighbors__metric=euclidean, KNeighbors__n_neighbors=3; total time= 2.0min\n",
      "[CV] END KNeighbors__metric=euclidean, KNeighbors__n_neighbors=3; total time= 2.0min\n",
      "[CV] END KNeighbors__metric=euclidean, KNeighbors__n_neighbors=3; total time= 1.6min\n",
      "[CV] END KNeighbors__metric=euclidean, KNeighbors__n_neighbors=4; total time= 1.7min\n",
      "[CV] END KNeighbors__metric=euclidean, KNeighbors__n_neighbors=4; total time= 2.1min\n",
      "[CV] END KNeighbors__metric=euclidean, KNeighbors__n_neighbors=4; total time= 2.2min\n",
      "[CV] END KNeighbors__metric=euclidean, KNeighbors__n_neighbors=4; total time= 2.3min\n",
      "[CV] END KNeighbors__metric=euclidean, KNeighbors__n_neighbors=4; total time= 2.2min\n",
      "Resultados segunda búsqueda: {'KNeighbors__metric': 'euclidean', 'KNeighbors__n_neighbors': 3} \n",
      "\n",
      "############### Creando modelo final con los mejores parámetros ################\n",
      "Accuracy de KNeighbors: 67.25%\n"
     ]
    }
   ],
   "source": [
    "from sklearn.neighbors import KNeighborsClassifier\n",
    "\n",
    "# Definimos el modelo a usar\n",
    "classifier = KNeighborsClassifier()\n",
    "model_name = 'KNeighbors'\n",
    "\n",
    "# Definimos los parámetros a explorar\n",
    "param_grid = {\n",
    "    \n",
    "    f'{model_name}__n_neighbors': [3, 5],\n",
    "    f'{model_name}__metric': ['euclidean', 'manhattan', 'cosine']\n",
    "}\n",
    "\n",
    "\n",
    "best_params = train_cv_models(model_name, classifier, param_grid, X_train, y_train)\n",
    "model_best_params = {k.split('__')[1]:v for k,v in best_params.items() if 'tfidf' not in k}\n",
    "best_classifier = KNeighborsClassifier(**model_best_params)\n",
    "model_stats = train_final_model(model_name, best_classifier, X_train, y_train)\n",
    "results.append(model_stats)"
   ]
  },
  {
   "cell_type": "markdown",
   "metadata": {},
   "source": [
    "### 2.4 Arboles de decisión"
   ]
  },
  {
   "cell_type": "code",
   "execution_count": 14,
   "metadata": {},
   "outputs": [
    {
     "name": "stdout",
     "output_type": "stream",
     "text": [
      "######################## Primera búsqueda de parámetros ########################\n",
      "Fitting 5 folds for each of 16 candidates, totalling 80 fits\n",
      "[CV] END DecisionTree__criterion=gini, DecisionTree__max_depth=5, DecisionTree__min_samples_leaf=2, DecisionTree__min_samples_split=5; total time=  11.7s\n",
      "[CV] END DecisionTree__criterion=gini, DecisionTree__max_depth=5, DecisionTree__min_samples_leaf=2, DecisionTree__min_samples_split=5; total time=  12.0s\n",
      "[CV] END DecisionTree__criterion=gini, DecisionTree__max_depth=5, DecisionTree__min_samples_leaf=2, DecisionTree__min_samples_split=5; total time=  11.2s\n",
      "[CV] END DecisionTree__criterion=gini, DecisionTree__max_depth=5, DecisionTree__min_samples_leaf=2, DecisionTree__min_samples_split=5; total time=  11.2s\n",
      "[CV] END DecisionTree__criterion=gini, DecisionTree__max_depth=5, DecisionTree__min_samples_leaf=2, DecisionTree__min_samples_split=5; total time=  11.0s\n",
      "[CV] END DecisionTree__criterion=gini, DecisionTree__max_depth=5, DecisionTree__min_samples_leaf=2, DecisionTree__min_samples_split=10; total time=  11.1s\n",
      "[CV] END DecisionTree__criterion=gini, DecisionTree__max_depth=5, DecisionTree__min_samples_leaf=2, DecisionTree__min_samples_split=10; total time=  12.3s\n",
      "[CV] END DecisionTree__criterion=gini, DecisionTree__max_depth=5, DecisionTree__min_samples_leaf=2, DecisionTree__min_samples_split=10; total time=  10.9s\n",
      "[CV] END DecisionTree__criterion=gini, DecisionTree__max_depth=5, DecisionTree__min_samples_leaf=2, DecisionTree__min_samples_split=10; total time=  11.9s\n",
      "[CV] END DecisionTree__criterion=gini, DecisionTree__max_depth=5, DecisionTree__min_samples_leaf=2, DecisionTree__min_samples_split=10; total time=  11.2s\n",
      "[CV] END DecisionTree__criterion=gini, DecisionTree__max_depth=5, DecisionTree__min_samples_leaf=3, DecisionTree__min_samples_split=5; total time=  11.0s\n",
      "[CV] END DecisionTree__criterion=gini, DecisionTree__max_depth=5, DecisionTree__min_samples_leaf=3, DecisionTree__min_samples_split=5; total time=  11.3s\n",
      "[CV] END DecisionTree__criterion=gini, DecisionTree__max_depth=5, DecisionTree__min_samples_leaf=3, DecisionTree__min_samples_split=5; total time=  11.9s\n",
      "[CV] END DecisionTree__criterion=gini, DecisionTree__max_depth=5, DecisionTree__min_samples_leaf=3, DecisionTree__min_samples_split=5; total time=  11.3s\n",
      "[CV] END DecisionTree__criterion=gini, DecisionTree__max_depth=5, DecisionTree__min_samples_leaf=3, DecisionTree__min_samples_split=5; total time=  11.4s\n",
      "[CV] END DecisionTree__criterion=gini, DecisionTree__max_depth=5, DecisionTree__min_samples_leaf=3, DecisionTree__min_samples_split=10; total time=  11.2s\n",
      "[CV] END DecisionTree__criterion=gini, DecisionTree__max_depth=5, DecisionTree__min_samples_leaf=3, DecisionTree__min_samples_split=10; total time=  10.8s\n",
      "[CV] END DecisionTree__criterion=gini, DecisionTree__max_depth=5, DecisionTree__min_samples_leaf=3, DecisionTree__min_samples_split=10; total time=  11.2s\n",
      "[CV] END DecisionTree__criterion=gini, DecisionTree__max_depth=5, DecisionTree__min_samples_leaf=3, DecisionTree__min_samples_split=10; total time=  11.4s\n",
      "[CV] END DecisionTree__criterion=gini, DecisionTree__max_depth=5, DecisionTree__min_samples_leaf=3, DecisionTree__min_samples_split=10; total time=  11.0s\n",
      "[CV] END DecisionTree__criterion=gini, DecisionTree__max_depth=10, DecisionTree__min_samples_leaf=2, DecisionTree__min_samples_split=5; total time=  22.5s\n",
      "[CV] END DecisionTree__criterion=gini, DecisionTree__max_depth=10, DecisionTree__min_samples_leaf=2, DecisionTree__min_samples_split=5; total time=  23.0s\n",
      "[CV] END DecisionTree__criterion=gini, DecisionTree__max_depth=10, DecisionTree__min_samples_leaf=2, DecisionTree__min_samples_split=5; total time=  22.4s\n",
      "[CV] END DecisionTree__criterion=gini, DecisionTree__max_depth=10, DecisionTree__min_samples_leaf=2, DecisionTree__min_samples_split=5; total time=  23.0s\n",
      "[CV] END DecisionTree__criterion=gini, DecisionTree__max_depth=10, DecisionTree__min_samples_leaf=2, DecisionTree__min_samples_split=5; total time=  23.5s\n",
      "[CV] END DecisionTree__criterion=gini, DecisionTree__max_depth=10, DecisionTree__min_samples_leaf=2, DecisionTree__min_samples_split=10; total time=  23.1s\n",
      "[CV] END DecisionTree__criterion=gini, DecisionTree__max_depth=10, DecisionTree__min_samples_leaf=2, DecisionTree__min_samples_split=10; total time=  23.4s\n",
      "[CV] END DecisionTree__criterion=gini, DecisionTree__max_depth=10, DecisionTree__min_samples_leaf=2, DecisionTree__min_samples_split=10; total time=  23.7s\n",
      "[CV] END DecisionTree__criterion=gini, DecisionTree__max_depth=10, DecisionTree__min_samples_leaf=2, DecisionTree__min_samples_split=10; total time=  23.3s\n",
      "[CV] END DecisionTree__criterion=gini, DecisionTree__max_depth=10, DecisionTree__min_samples_leaf=2, DecisionTree__min_samples_split=10; total time=  23.5s\n",
      "[CV] END DecisionTree__criterion=gini, DecisionTree__max_depth=10, DecisionTree__min_samples_leaf=3, DecisionTree__min_samples_split=5; total time=  22.7s\n",
      "[CV] END DecisionTree__criterion=gini, DecisionTree__max_depth=10, DecisionTree__min_samples_leaf=3, DecisionTree__min_samples_split=5; total time=  23.0s\n",
      "[CV] END DecisionTree__criterion=gini, DecisionTree__max_depth=10, DecisionTree__min_samples_leaf=3, DecisionTree__min_samples_split=5; total time=  22.9s\n",
      "[CV] END DecisionTree__criterion=gini, DecisionTree__max_depth=10, DecisionTree__min_samples_leaf=3, DecisionTree__min_samples_split=5; total time=  23.8s\n",
      "[CV] END DecisionTree__criterion=gini, DecisionTree__max_depth=10, DecisionTree__min_samples_leaf=3, DecisionTree__min_samples_split=5; total time=  23.2s\n",
      "[CV] END DecisionTree__criterion=gini, DecisionTree__max_depth=10, DecisionTree__min_samples_leaf=3, DecisionTree__min_samples_split=10; total time=  25.2s\n",
      "[CV] END DecisionTree__criterion=gini, DecisionTree__max_depth=10, DecisionTree__min_samples_leaf=3, DecisionTree__min_samples_split=10; total time=  22.5s\n",
      "[CV] END DecisionTree__criterion=gini, DecisionTree__max_depth=10, DecisionTree__min_samples_leaf=3, DecisionTree__min_samples_split=10; total time=  22.7s\n",
      "[CV] END DecisionTree__criterion=gini, DecisionTree__max_depth=10, DecisionTree__min_samples_leaf=3, DecisionTree__min_samples_split=10; total time=  23.7s\n",
      "[CV] END DecisionTree__criterion=gini, DecisionTree__max_depth=10, DecisionTree__min_samples_leaf=3, DecisionTree__min_samples_split=10; total time=  23.1s\n",
      "[CV] END DecisionTree__criterion=entropy, DecisionTree__max_depth=5, DecisionTree__min_samples_leaf=2, DecisionTree__min_samples_split=5; total time=  31.4s\n",
      "[CV] END DecisionTree__criterion=entropy, DecisionTree__max_depth=5, DecisionTree__min_samples_leaf=2, DecisionTree__min_samples_split=5; total time=  31.4s\n",
      "[CV] END DecisionTree__criterion=entropy, DecisionTree__max_depth=5, DecisionTree__min_samples_leaf=2, DecisionTree__min_samples_split=5; total time=  36.2s\n",
      "[CV] END DecisionTree__criterion=entropy, DecisionTree__max_depth=5, DecisionTree__min_samples_leaf=2, DecisionTree__min_samples_split=5; total time=  29.8s\n",
      "[CV] END DecisionTree__criterion=entropy, DecisionTree__max_depth=5, DecisionTree__min_samples_leaf=2, DecisionTree__min_samples_split=5; total time=  27.5s\n",
      "[CV] END DecisionTree__criterion=entropy, DecisionTree__max_depth=5, DecisionTree__min_samples_leaf=2, DecisionTree__min_samples_split=10; total time=  27.6s\n",
      "[CV] END DecisionTree__criterion=entropy, DecisionTree__max_depth=5, DecisionTree__min_samples_leaf=2, DecisionTree__min_samples_split=10; total time=  27.5s\n",
      "[CV] END DecisionTree__criterion=entropy, DecisionTree__max_depth=5, DecisionTree__min_samples_leaf=2, DecisionTree__min_samples_split=10; total time=  28.4s\n",
      "[CV] END DecisionTree__criterion=entropy, DecisionTree__max_depth=5, DecisionTree__min_samples_leaf=2, DecisionTree__min_samples_split=10; total time=  28.1s\n",
      "[CV] END DecisionTree__criterion=entropy, DecisionTree__max_depth=5, DecisionTree__min_samples_leaf=2, DecisionTree__min_samples_split=10; total time=  29.4s\n",
      "[CV] END DecisionTree__criterion=entropy, DecisionTree__max_depth=5, DecisionTree__min_samples_leaf=3, DecisionTree__min_samples_split=5; total time=  28.3s\n",
      "[CV] END DecisionTree__criterion=entropy, DecisionTree__max_depth=5, DecisionTree__min_samples_leaf=3, DecisionTree__min_samples_split=5; total time=  28.6s\n",
      "[CV] END DecisionTree__criterion=entropy, DecisionTree__max_depth=5, DecisionTree__min_samples_leaf=3, DecisionTree__min_samples_split=5; total time=  28.7s\n",
      "[CV] END DecisionTree__criterion=entropy, DecisionTree__max_depth=5, DecisionTree__min_samples_leaf=3, DecisionTree__min_samples_split=5; total time=  27.9s\n",
      "[CV] END DecisionTree__criterion=entropy, DecisionTree__max_depth=5, DecisionTree__min_samples_leaf=3, DecisionTree__min_samples_split=5; total time=  28.0s\n",
      "[CV] END DecisionTree__criterion=entropy, DecisionTree__max_depth=5, DecisionTree__min_samples_leaf=3, DecisionTree__min_samples_split=10; total time=  28.8s\n",
      "[CV] END DecisionTree__criterion=entropy, DecisionTree__max_depth=5, DecisionTree__min_samples_leaf=3, DecisionTree__min_samples_split=10; total time=  27.2s\n",
      "[CV] END DecisionTree__criterion=entropy, DecisionTree__max_depth=5, DecisionTree__min_samples_leaf=3, DecisionTree__min_samples_split=10; total time=  27.5s\n",
      "[CV] END DecisionTree__criterion=entropy, DecisionTree__max_depth=5, DecisionTree__min_samples_leaf=3, DecisionTree__min_samples_split=10; total time=  34.0s\n",
      "[CV] END DecisionTree__criterion=entropy, DecisionTree__max_depth=5, DecisionTree__min_samples_leaf=3, DecisionTree__min_samples_split=10; total time=  36.9s\n",
      "[CV] END DecisionTree__criterion=entropy, DecisionTree__max_depth=10, DecisionTree__min_samples_leaf=2, DecisionTree__min_samples_split=5; total time= 1.4min\n",
      "[CV] END DecisionTree__criterion=entropy, DecisionTree__max_depth=10, DecisionTree__min_samples_leaf=2, DecisionTree__min_samples_split=5; total time= 1.4min\n",
      "[CV] END DecisionTree__criterion=entropy, DecisionTree__max_depth=10, DecisionTree__min_samples_leaf=2, DecisionTree__min_samples_split=5; total time= 1.5min\n",
      "[CV] END DecisionTree__criterion=entropy, DecisionTree__max_depth=10, DecisionTree__min_samples_leaf=2, DecisionTree__min_samples_split=5; total time= 1.5min\n",
      "[CV] END DecisionTree__criterion=entropy, DecisionTree__max_depth=10, DecisionTree__min_samples_leaf=2, DecisionTree__min_samples_split=5; total time= 1.4min\n",
      "[CV] END DecisionTree__criterion=entropy, DecisionTree__max_depth=10, DecisionTree__min_samples_leaf=2, DecisionTree__min_samples_split=10; total time= 1.4min\n",
      "[CV] END DecisionTree__criterion=entropy, DecisionTree__max_depth=10, DecisionTree__min_samples_leaf=2, DecisionTree__min_samples_split=10; total time= 1.6min\n",
      "[CV] END DecisionTree__criterion=entropy, DecisionTree__max_depth=10, DecisionTree__min_samples_leaf=2, DecisionTree__min_samples_split=10; total time= 1.4min\n",
      "[CV] END DecisionTree__criterion=entropy, DecisionTree__max_depth=10, DecisionTree__min_samples_leaf=2, DecisionTree__min_samples_split=10; total time= 1.5min\n",
      "[CV] END DecisionTree__criterion=entropy, DecisionTree__max_depth=10, DecisionTree__min_samples_leaf=2, DecisionTree__min_samples_split=10; total time= 1.4min\n",
      "[CV] END DecisionTree__criterion=entropy, DecisionTree__max_depth=10, DecisionTree__min_samples_leaf=3, DecisionTree__min_samples_split=5; total time= 1.4min\n",
      "[CV] END DecisionTree__criterion=entropy, DecisionTree__max_depth=10, DecisionTree__min_samples_leaf=3, DecisionTree__min_samples_split=5; total time= 1.4min\n",
      "[CV] END DecisionTree__criterion=entropy, DecisionTree__max_depth=10, DecisionTree__min_samples_leaf=3, DecisionTree__min_samples_split=5; total time= 1.5min\n",
      "[CV] END DecisionTree__criterion=entropy, DecisionTree__max_depth=10, DecisionTree__min_samples_leaf=3, DecisionTree__min_samples_split=5; total time= 1.4min\n",
      "[CV] END DecisionTree__criterion=entropy, DecisionTree__max_depth=10, DecisionTree__min_samples_leaf=3, DecisionTree__min_samples_split=5; total time= 1.4min\n",
      "[CV] END DecisionTree__criterion=entropy, DecisionTree__max_depth=10, DecisionTree__min_samples_leaf=3, DecisionTree__min_samples_split=10; total time= 1.4min\n",
      "[CV] END DecisionTree__criterion=entropy, DecisionTree__max_depth=10, DecisionTree__min_samples_leaf=3, DecisionTree__min_samples_split=10; total time= 1.4min\n",
      "[CV] END DecisionTree__criterion=entropy, DecisionTree__max_depth=10, DecisionTree__min_samples_leaf=3, DecisionTree__min_samples_split=10; total time= 1.5min\n",
      "[CV] END DecisionTree__criterion=entropy, DecisionTree__max_depth=10, DecisionTree__min_samples_leaf=3, DecisionTree__min_samples_split=10; total time= 1.5min\n",
      "[CV] END DecisionTree__criterion=entropy, DecisionTree__max_depth=10, DecisionTree__min_samples_leaf=3, DecisionTree__min_samples_split=10; total time= 1.4min\n",
      "Resultados primera búsqueda: {'DecisionTree__criterion': 'entropy', 'DecisionTree__max_depth': 10, 'DecisionTree__min_samples_leaf': 2, 'DecisionTree__min_samples_split': 5} \n",
      "\n",
      "######################## Segunda búsqueda de parámetros ######################## \n",
      "\n",
      "DEBUG: params after transform:  {'DecisionTree__criterion': ['entropy'], 'DecisionTree__max_depth': [10, 11], 'DecisionTree__min_samples_leaf': [2, 3], 'DecisionTree__min_samples_split': [5, 6]}\n",
      "Fitting 5 folds for each of 8 candidates, totalling 40 fits\n",
      "[CV] END DecisionTree__criterion=entropy, DecisionTree__max_depth=10, DecisionTree__min_samples_leaf=2, DecisionTree__min_samples_split=5; total time= 1.0min\n",
      "[CV] END DecisionTree__criterion=entropy, DecisionTree__max_depth=10, DecisionTree__min_samples_leaf=2, DecisionTree__min_samples_split=5; total time= 1.0min\n",
      "[CV] END DecisionTree__criterion=entropy, DecisionTree__max_depth=10, DecisionTree__min_samples_leaf=2, DecisionTree__min_samples_split=5; total time= 1.0min\n",
      "[CV] END DecisionTree__criterion=entropy, DecisionTree__max_depth=10, DecisionTree__min_samples_leaf=2, DecisionTree__min_samples_split=5; total time= 1.1min\n",
      "[CV] END DecisionTree__criterion=entropy, DecisionTree__max_depth=10, DecisionTree__min_samples_leaf=2, DecisionTree__min_samples_split=5; total time= 1.1min\n",
      "[CV] END DecisionTree__criterion=entropy, DecisionTree__max_depth=10, DecisionTree__min_samples_leaf=2, DecisionTree__min_samples_split=6; total time= 1.0min\n",
      "[CV] END DecisionTree__criterion=entropy, DecisionTree__max_depth=10, DecisionTree__min_samples_leaf=2, DecisionTree__min_samples_split=6; total time= 1.0min\n",
      "[CV] END DecisionTree__criterion=entropy, DecisionTree__max_depth=10, DecisionTree__min_samples_leaf=2, DecisionTree__min_samples_split=6; total time= 1.1min\n",
      "[CV] END DecisionTree__criterion=entropy, DecisionTree__max_depth=10, DecisionTree__min_samples_leaf=2, DecisionTree__min_samples_split=6; total time= 1.4min\n",
      "[CV] END DecisionTree__criterion=entropy, DecisionTree__max_depth=10, DecisionTree__min_samples_leaf=2, DecisionTree__min_samples_split=6; total time= 1.5min\n",
      "[CV] END DecisionTree__criterion=entropy, DecisionTree__max_depth=10, DecisionTree__min_samples_leaf=3, DecisionTree__min_samples_split=5; total time= 1.4min\n",
      "[CV] END DecisionTree__criterion=entropy, DecisionTree__max_depth=10, DecisionTree__min_samples_leaf=3, DecisionTree__min_samples_split=5; total time= 1.4min\n",
      "[CV] END DecisionTree__criterion=entropy, DecisionTree__max_depth=10, DecisionTree__min_samples_leaf=3, DecisionTree__min_samples_split=5; total time= 1.5min\n",
      "[CV] END DecisionTree__criterion=entropy, DecisionTree__max_depth=10, DecisionTree__min_samples_leaf=3, DecisionTree__min_samples_split=5; total time= 1.4min\n",
      "[CV] END DecisionTree__criterion=entropy, DecisionTree__max_depth=10, DecisionTree__min_samples_leaf=3, DecisionTree__min_samples_split=5; total time= 1.4min\n",
      "[CV] END DecisionTree__criterion=entropy, DecisionTree__max_depth=10, DecisionTree__min_samples_leaf=3, DecisionTree__min_samples_split=6; total time= 1.2min\n",
      "[CV] END DecisionTree__criterion=entropy, DecisionTree__max_depth=10, DecisionTree__min_samples_leaf=3, DecisionTree__min_samples_split=6; total time= 1.3min\n",
      "[CV] END DecisionTree__criterion=entropy, DecisionTree__max_depth=10, DecisionTree__min_samples_leaf=3, DecisionTree__min_samples_split=6; total time= 1.3min\n",
      "[CV] END DecisionTree__criterion=entropy, DecisionTree__max_depth=10, DecisionTree__min_samples_leaf=3, DecisionTree__min_samples_split=6; total time= 1.3min\n",
      "[CV] END DecisionTree__criterion=entropy, DecisionTree__max_depth=10, DecisionTree__min_samples_leaf=3, DecisionTree__min_samples_split=6; total time= 1.3min\n",
      "[CV] END DecisionTree__criterion=entropy, DecisionTree__max_depth=11, DecisionTree__min_samples_leaf=2, DecisionTree__min_samples_split=5; total time= 1.2min\n",
      "[CV] END DecisionTree__criterion=entropy, DecisionTree__max_depth=11, DecisionTree__min_samples_leaf=2, DecisionTree__min_samples_split=5; total time= 1.3min\n",
      "[CV] END DecisionTree__criterion=entropy, DecisionTree__max_depth=11, DecisionTree__min_samples_leaf=2, DecisionTree__min_samples_split=5; total time= 1.3min\n",
      "[CV] END DecisionTree__criterion=entropy, DecisionTree__max_depth=11, DecisionTree__min_samples_leaf=2, DecisionTree__min_samples_split=5; total time= 1.3min\n",
      "[CV] END DecisionTree__criterion=entropy, DecisionTree__max_depth=11, DecisionTree__min_samples_leaf=2, DecisionTree__min_samples_split=5; total time= 1.3min\n",
      "[CV] END DecisionTree__criterion=entropy, DecisionTree__max_depth=11, DecisionTree__min_samples_leaf=2, DecisionTree__min_samples_split=6; total time= 1.2min\n",
      "[CV] END DecisionTree__criterion=entropy, DecisionTree__max_depth=11, DecisionTree__min_samples_leaf=2, DecisionTree__min_samples_split=6; total time= 1.3min\n",
      "[CV] END DecisionTree__criterion=entropy, DecisionTree__max_depth=11, DecisionTree__min_samples_leaf=2, DecisionTree__min_samples_split=6; total time= 1.3min\n",
      "[CV] END DecisionTree__criterion=entropy, DecisionTree__max_depth=11, DecisionTree__min_samples_leaf=2, DecisionTree__min_samples_split=6; total time= 1.2min\n",
      "[CV] END DecisionTree__criterion=entropy, DecisionTree__max_depth=11, DecisionTree__min_samples_leaf=2, DecisionTree__min_samples_split=6; total time= 1.2min\n",
      "[CV] END DecisionTree__criterion=entropy, DecisionTree__max_depth=11, DecisionTree__min_samples_leaf=3, DecisionTree__min_samples_split=5; total time= 1.2min\n",
      "[CV] END DecisionTree__criterion=entropy, DecisionTree__max_depth=11, DecisionTree__min_samples_leaf=3, DecisionTree__min_samples_split=5; total time= 1.2min\n",
      "[CV] END DecisionTree__criterion=entropy, DecisionTree__max_depth=11, DecisionTree__min_samples_leaf=3, DecisionTree__min_samples_split=5; total time= 1.2min\n",
      "[CV] END DecisionTree__criterion=entropy, DecisionTree__max_depth=11, DecisionTree__min_samples_leaf=3, DecisionTree__min_samples_split=5; total time= 1.2min\n",
      "[CV] END DecisionTree__criterion=entropy, DecisionTree__max_depth=11, DecisionTree__min_samples_leaf=3, DecisionTree__min_samples_split=5; total time= 1.2min\n",
      "[CV] END DecisionTree__criterion=entropy, DecisionTree__max_depth=11, DecisionTree__min_samples_leaf=3, DecisionTree__min_samples_split=6; total time= 1.2min\n",
      "[CV] END DecisionTree__criterion=entropy, DecisionTree__max_depth=11, DecisionTree__min_samples_leaf=3, DecisionTree__min_samples_split=6; total time= 1.3min\n",
      "[CV] END DecisionTree__criterion=entropy, DecisionTree__max_depth=11, DecisionTree__min_samples_leaf=3, DecisionTree__min_samples_split=6; total time= 1.2min\n",
      "[CV] END DecisionTree__criterion=entropy, DecisionTree__max_depth=11, DecisionTree__min_samples_leaf=3, DecisionTree__min_samples_split=6; total time= 1.2min\n",
      "[CV] END DecisionTree__criterion=entropy, DecisionTree__max_depth=11, DecisionTree__min_samples_leaf=3, DecisionTree__min_samples_split=6; total time= 1.2min\n",
      "Resultados segunda búsqueda: {'DecisionTree__criterion': 'entropy', 'DecisionTree__max_depth': 11, 'DecisionTree__min_samples_leaf': 2, 'DecisionTree__min_samples_split': 6} \n",
      "\n",
      "############### Creando modelo final con los mejores parámetros ################\n",
      "Accuracy de DecisionTree: 18.70%\n"
     ]
    },
    {
     "ename": "",
     "evalue": "",
     "output_type": "error",
     "traceback": [
      "\u001b[1;31mThe Kernel crashed while executing code in the current cell or a previous cell. \n",
      "\u001b[1;31mPlease review the code in the cell(s) to identify a possible cause of the failure. \n",
      "\u001b[1;31mClick <a href='https://aka.ms/vscodeJupyterKernelCrash'>here</a> for more info. \n",
      "\u001b[1;31mView Jupyter <a href='command:jupyter.viewOutput'>log</a> for further details."
     ]
    }
   ],
   "source": [
    "from sklearn.tree import DecisionTreeClassifier\n",
    "\n",
    "# Definimos el modelo a usar\n",
    "classifier = DecisionTreeClassifier()\n",
    "model_name = 'DecisionTree'\n",
    "\n",
    "# Definimos los parámetros a explorar\n",
    "param_grid = {\n",
    "    \n",
    "    f'{model_name}__criterion': ['gini', 'entropy'],\n",
    "    f'{model_name}__max_depth': [5, 10],\n",
    "    f'{model_name}__min_samples_split': [5, 10],\n",
    "    f'{model_name}__min_samples_leaf': [2, 3]\n",
    "}\n",
    "\n",
    "\n",
    "best_params = train_cv_models(model_name, classifier, param_grid, X_train, y_train)\n",
    "model_best_params = {k.split('__')[1]:v for k,v in best_params.items() if 'tfidf' not in k}\n",
    "\n",
    "best_classifier = DecisionTreeClassifier(**model_best_params)\n",
    "model_stats = train_final_model(model_name, best_classifier, X_train, y_train)\n",
    "results.append(model_stats)"
   ]
  },
  {
   "cell_type": "markdown",
   "metadata": {},
   "source": [
    "### 2.5 Support Vector Machine"
   ]
  },
  {
   "cell_type": "code",
   "execution_count": null,
   "metadata": {},
   "outputs": [
    {
     "name": "stdout",
     "output_type": "stream",
     "text": [
      "######################## Primera búsqueda de parámetros ########################\n",
      "Fitting 5 folds for each of 8 candidates, totalling 40 fits\n",
      "[CV] END .......SVC__C=1, SVC__gamma=0.1, SVC__kernel=linear; total time=19.8min\n",
      "[CV] END .......SVC__C=1, SVC__gamma=0.1, SVC__kernel=linear; total time=19.1min\n",
      "[CV] END .......SVC__C=1, SVC__gamma=0.1, SVC__kernel=linear; total time=18.2min\n"
     ]
    }
   ],
   "source": [
    "from sklearn.svm import SVC\n",
    "\n",
    "# Definimos el modelo a usar\n",
    "classifier = SVC()\n",
    "model_name = 'SVC'\n",
    "\n",
    "# Definimos los parámetros a explorar\n",
    "param_grid = {\n",
    "    \n",
    "    f'{model_name}__C': [1, 10],\n",
    "    f'{model_name}__kernel': ['linear', 'rbf'],\n",
    "    f'{model_name}__gamma': [0.1, 1]\n",
    "}\n",
    "\n",
    "\n",
    "best_params = train_cv_models(model_name, classifier, param_grid, X_train, y_train)\n",
    "model_best_params = {k.split('__')[1]:v for k,v in best_params.items() if 'tfidf' not in k}\n",
    "\n",
    "best_classifier = SVC(**model_best_params)\n",
    "model_stats = train_final_model(model_name, best_classifier, X_train, y_train)\n",
    "results.append(model_stats)"
   ]
  },
  {
   "cell_type": "markdown",
   "metadata": {},
   "source": [
    "### 2.6 Random Forest"
   ]
  },
  {
   "cell_type": "code",
   "execution_count": null,
   "metadata": {},
   "outputs": [],
   "source": [
    "from sklearn.ensemble import RandomForestClassifier\n",
    "\n",
    "# Definimos el modelo a usar\n",
    "classifier = RandomForestClassifier()\n",
    "model_name = 'RandomForest'\n",
    "\n",
    "# Definimos los parámetros a explorar\n",
    "param_grid = {\n",
    "    \n",
    "    f'{model_name}__n_estimators': [100, 200],\n",
    "    f'{model_name}__max_depth': [5, 10],\n",
    "    f'{model_name}__min_samples_split': [2, 5],\n",
    "    f'{model_name}__min_samples_leaf': [2, 4]\n",
    "}\n",
    "\n",
    "\n",
    "best_params = train_cv_models(model_name, classifier, param_grid, X_train, y_train)\n",
    "model_best_params = {k.split('__')[1]:v for k,v in best_params.items() if 'tfidf' not in k}\n",
    "\n",
    "best_classifier = RandomForestClassifier(**model_best_params)\n",
    "model_stats = train_final_model(model_name, best_classifier, X_train, y_train)\n",
    "results.append(model_stats)"
   ]
  },
  {
   "cell_type": "markdown",
   "metadata": {},
   "source": [
    "### 2.7 MLP Classifier (Multi-Layer Perceptron)"
   ]
  },
  {
   "cell_type": "code",
   "execution_count": null,
   "metadata": {},
   "outputs": [
    {
     "name": "stdout",
     "output_type": "stream",
     "text": [
      "######################## Primera búsqueda de parámetros ########################\n",
      "Fitting 5 folds for each of 32 candidates, totalling 160 fits\n",
      "[CV] END MLP__activation=relu, MLP__alpha=0.001, MLP__hidden_layer_sizes=(100, 50), MLP__learning_rate=constant, MLP__solver=adam; total time= 4.5min\n",
      "[CV] END MLP__activation=relu, MLP__alpha=0.001, MLP__hidden_layer_sizes=(100, 50), MLP__learning_rate=constant, MLP__solver=adam; total time= 4.4min\n",
      "[CV] END MLP__activation=relu, MLP__alpha=0.001, MLP__hidden_layer_sizes=(100, 50), MLP__learning_rate=constant, MLP__solver=adam; total time= 4.9min\n",
      "[CV] END MLP__activation=relu, MLP__alpha=0.001, MLP__hidden_layer_sizes=(100, 50), MLP__learning_rate=constant, MLP__solver=adam; total time= 4.1min\n",
      "[CV] END MLP__activation=relu, MLP__alpha=0.001, MLP__hidden_layer_sizes=(100, 50), MLP__learning_rate=constant, MLP__solver=adam; total time= 4.5min\n"
     ]
    },
    {
     "name": "stderr",
     "output_type": "stream",
     "text": [
      "c:\\Users\\ccsar\\miniconda3\\envs\\env_nlp\\Lib\\site-packages\\sklearn\\neural_network\\_multilayer_perceptron.py:690: ConvergenceWarning: Stochastic Optimizer: Maximum iterations (200) reached and the optimization hasn't converged yet.\n",
      "  warnings.warn(\n"
     ]
    },
    {
     "name": "stdout",
     "output_type": "stream",
     "text": [
      "[CV] END MLP__activation=relu, MLP__alpha=0.001, MLP__hidden_layer_sizes=(100, 50), MLP__learning_rate=constant, MLP__solver=sgd; total time=10.1min\n"
     ]
    },
    {
     "name": "stderr",
     "output_type": "stream",
     "text": [
      "c:\\Users\\ccsar\\miniconda3\\envs\\env_nlp\\Lib\\site-packages\\sklearn\\neural_network\\_multilayer_perceptron.py:690: ConvergenceWarning: Stochastic Optimizer: Maximum iterations (200) reached and the optimization hasn't converged yet.\n",
      "  warnings.warn(\n"
     ]
    },
    {
     "name": "stdout",
     "output_type": "stream",
     "text": [
      "[CV] END MLP__activation=relu, MLP__alpha=0.001, MLP__hidden_layer_sizes=(100, 50), MLP__learning_rate=constant, MLP__solver=sgd; total time= 9.9min\n"
     ]
    },
    {
     "name": "stderr",
     "output_type": "stream",
     "text": [
      "c:\\Users\\ccsar\\miniconda3\\envs\\env_nlp\\Lib\\site-packages\\sklearn\\neural_network\\_multilayer_perceptron.py:690: ConvergenceWarning: Stochastic Optimizer: Maximum iterations (200) reached and the optimization hasn't converged yet.\n",
      "  warnings.warn(\n"
     ]
    },
    {
     "name": "stdout",
     "output_type": "stream",
     "text": [
      "[CV] END MLP__activation=relu, MLP__alpha=0.001, MLP__hidden_layer_sizes=(100, 50), MLP__learning_rate=constant, MLP__solver=sgd; total time= 9.6min\n"
     ]
    },
    {
     "name": "stderr",
     "output_type": "stream",
     "text": [
      "c:\\Users\\ccsar\\miniconda3\\envs\\env_nlp\\Lib\\site-packages\\sklearn\\neural_network\\_multilayer_perceptron.py:690: ConvergenceWarning: Stochastic Optimizer: Maximum iterations (200) reached and the optimization hasn't converged yet.\n",
      "  warnings.warn(\n"
     ]
    },
    {
     "name": "stdout",
     "output_type": "stream",
     "text": [
      "[CV] END MLP__activation=relu, MLP__alpha=0.001, MLP__hidden_layer_sizes=(100, 50), MLP__learning_rate=constant, MLP__solver=sgd; total time= 9.9min\n"
     ]
    },
    {
     "name": "stderr",
     "output_type": "stream",
     "text": [
      "c:\\Users\\ccsar\\miniconda3\\envs\\env_nlp\\Lib\\site-packages\\sklearn\\neural_network\\_multilayer_perceptron.py:690: ConvergenceWarning: Stochastic Optimizer: Maximum iterations (200) reached and the optimization hasn't converged yet.\n",
      "  warnings.warn(\n"
     ]
    },
    {
     "name": "stdout",
     "output_type": "stream",
     "text": [
      "[CV] END MLP__activation=relu, MLP__alpha=0.001, MLP__hidden_layer_sizes=(100, 50), MLP__learning_rate=constant, MLP__solver=sgd; total time= 9.6min\n",
      "[CV] END MLP__activation=relu, MLP__alpha=0.001, MLP__hidden_layer_sizes=(100, 50), MLP__learning_rate=adaptive, MLP__solver=adam; total time= 3.9min\n",
      "[CV] END MLP__activation=relu, MLP__alpha=0.001, MLP__hidden_layer_sizes=(100, 50), MLP__learning_rate=adaptive, MLP__solver=adam; total time= 3.6min\n",
      "[CV] END MLP__activation=relu, MLP__alpha=0.001, MLP__hidden_layer_sizes=(100, 50), MLP__learning_rate=adaptive, MLP__solver=adam; total time= 4.2min\n",
      "[CV] END MLP__activation=relu, MLP__alpha=0.001, MLP__hidden_layer_sizes=(100, 50), MLP__learning_rate=adaptive, MLP__solver=adam; total time= 3.7min\n",
      "[CV] END MLP__activation=relu, MLP__alpha=0.001, MLP__hidden_layer_sizes=(100, 50), MLP__learning_rate=adaptive, MLP__solver=adam; total time= 3.9min\n"
     ]
    },
    {
     "name": "stderr",
     "output_type": "stream",
     "text": [
      "c:\\Users\\ccsar\\miniconda3\\envs\\env_nlp\\Lib\\site-packages\\sklearn\\neural_network\\_multilayer_perceptron.py:690: ConvergenceWarning: Stochastic Optimizer: Maximum iterations (200) reached and the optimization hasn't converged yet.\n",
      "  warnings.warn(\n"
     ]
    },
    {
     "name": "stdout",
     "output_type": "stream",
     "text": [
      "[CV] END MLP__activation=relu, MLP__alpha=0.001, MLP__hidden_layer_sizes=(100, 50), MLP__learning_rate=adaptive, MLP__solver=sgd; total time= 9.9min\n"
     ]
    },
    {
     "name": "stderr",
     "output_type": "stream",
     "text": [
      "c:\\Users\\ccsar\\miniconda3\\envs\\env_nlp\\Lib\\site-packages\\sklearn\\neural_network\\_multilayer_perceptron.py:690: ConvergenceWarning: Stochastic Optimizer: Maximum iterations (200) reached and the optimization hasn't converged yet.\n",
      "  warnings.warn(\n"
     ]
    },
    {
     "name": "stdout",
     "output_type": "stream",
     "text": [
      "[CV] END MLP__activation=relu, MLP__alpha=0.001, MLP__hidden_layer_sizes=(100, 50), MLP__learning_rate=adaptive, MLP__solver=sgd; total time= 9.8min\n"
     ]
    },
    {
     "name": "stderr",
     "output_type": "stream",
     "text": [
      "c:\\Users\\ccsar\\miniconda3\\envs\\env_nlp\\Lib\\site-packages\\sklearn\\neural_network\\_multilayer_perceptron.py:690: ConvergenceWarning: Stochastic Optimizer: Maximum iterations (200) reached and the optimization hasn't converged yet.\n",
      "  warnings.warn(\n"
     ]
    },
    {
     "name": "stdout",
     "output_type": "stream",
     "text": [
      "[CV] END MLP__activation=relu, MLP__alpha=0.001, MLP__hidden_layer_sizes=(100, 50), MLP__learning_rate=adaptive, MLP__solver=sgd; total time=10.2min\n"
     ]
    },
    {
     "name": "stderr",
     "output_type": "stream",
     "text": [
      "c:\\Users\\ccsar\\miniconda3\\envs\\env_nlp\\Lib\\site-packages\\sklearn\\neural_network\\_multilayer_perceptron.py:690: ConvergenceWarning: Stochastic Optimizer: Maximum iterations (200) reached and the optimization hasn't converged yet.\n",
      "  warnings.warn(\n"
     ]
    },
    {
     "name": "stdout",
     "output_type": "stream",
     "text": [
      "[CV] END MLP__activation=relu, MLP__alpha=0.001, MLP__hidden_layer_sizes=(100, 50), MLP__learning_rate=adaptive, MLP__solver=sgd; total time= 9.8min\n"
     ]
    },
    {
     "name": "stderr",
     "output_type": "stream",
     "text": [
      "c:\\Users\\ccsar\\miniconda3\\envs\\env_nlp\\Lib\\site-packages\\sklearn\\neural_network\\_multilayer_perceptron.py:690: ConvergenceWarning: Stochastic Optimizer: Maximum iterations (200) reached and the optimization hasn't converged yet.\n",
      "  warnings.warn(\n"
     ]
    },
    {
     "name": "stdout",
     "output_type": "stream",
     "text": [
      "[CV] END MLP__activation=relu, MLP__alpha=0.001, MLP__hidden_layer_sizes=(100, 50), MLP__learning_rate=adaptive, MLP__solver=sgd; total time= 9.8min\n",
      "[CV] END MLP__activation=relu, MLP__alpha=0.001, MLP__hidden_layer_sizes=(50, 50), MLP__learning_rate=constant, MLP__solver=adam; total time= 2.5min\n",
      "[CV] END MLP__activation=relu, MLP__alpha=0.001, MLP__hidden_layer_sizes=(50, 50), MLP__learning_rate=constant, MLP__solver=adam; total time= 2.7min\n",
      "[CV] END MLP__activation=relu, MLP__alpha=0.001, MLP__hidden_layer_sizes=(50, 50), MLP__learning_rate=constant, MLP__solver=adam; total time= 2.5min\n",
      "[CV] END MLP__activation=relu, MLP__alpha=0.001, MLP__hidden_layer_sizes=(50, 50), MLP__learning_rate=constant, MLP__solver=adam; total time= 2.4min\n",
      "[CV] END MLP__activation=relu, MLP__alpha=0.001, MLP__hidden_layer_sizes=(50, 50), MLP__learning_rate=constant, MLP__solver=adam; total time= 2.4min\n"
     ]
    },
    {
     "name": "stderr",
     "output_type": "stream",
     "text": [
      "c:\\Users\\ccsar\\miniconda3\\envs\\env_nlp\\Lib\\site-packages\\sklearn\\neural_network\\_multilayer_perceptron.py:690: ConvergenceWarning: Stochastic Optimizer: Maximum iterations (200) reached and the optimization hasn't converged yet.\n",
      "  warnings.warn(\n"
     ]
    },
    {
     "name": "stdout",
     "output_type": "stream",
     "text": [
      "[CV] END MLP__activation=relu, MLP__alpha=0.001, MLP__hidden_layer_sizes=(50, 50), MLP__learning_rate=constant, MLP__solver=sgd; total time= 6.2min\n"
     ]
    },
    {
     "name": "stderr",
     "output_type": "stream",
     "text": [
      "c:\\Users\\ccsar\\miniconda3\\envs\\env_nlp\\Lib\\site-packages\\sklearn\\neural_network\\_multilayer_perceptron.py:690: ConvergenceWarning: Stochastic Optimizer: Maximum iterations (200) reached and the optimization hasn't converged yet.\n",
      "  warnings.warn(\n"
     ]
    },
    {
     "name": "stdout",
     "output_type": "stream",
     "text": [
      "[CV] END MLP__activation=relu, MLP__alpha=0.001, MLP__hidden_layer_sizes=(50, 50), MLP__learning_rate=constant, MLP__solver=sgd; total time= 6.2min\n"
     ]
    },
    {
     "name": "stderr",
     "output_type": "stream",
     "text": [
      "c:\\Users\\ccsar\\miniconda3\\envs\\env_nlp\\Lib\\site-packages\\sklearn\\neural_network\\_multilayer_perceptron.py:690: ConvergenceWarning: Stochastic Optimizer: Maximum iterations (200) reached and the optimization hasn't converged yet.\n",
      "  warnings.warn(\n"
     ]
    },
    {
     "name": "stdout",
     "output_type": "stream",
     "text": [
      "[CV] END MLP__activation=relu, MLP__alpha=0.001, MLP__hidden_layer_sizes=(50, 50), MLP__learning_rate=constant, MLP__solver=sgd; total time= 6.2min\n"
     ]
    },
    {
     "name": "stderr",
     "output_type": "stream",
     "text": [
      "c:\\Users\\ccsar\\miniconda3\\envs\\env_nlp\\Lib\\site-packages\\sklearn\\neural_network\\_multilayer_perceptron.py:690: ConvergenceWarning: Stochastic Optimizer: Maximum iterations (200) reached and the optimization hasn't converged yet.\n",
      "  warnings.warn(\n"
     ]
    },
    {
     "name": "stdout",
     "output_type": "stream",
     "text": [
      "[CV] END MLP__activation=relu, MLP__alpha=0.001, MLP__hidden_layer_sizes=(50, 50), MLP__learning_rate=constant, MLP__solver=sgd; total time= 6.3min\n"
     ]
    },
    {
     "name": "stderr",
     "output_type": "stream",
     "text": [
      "c:\\Users\\ccsar\\miniconda3\\envs\\env_nlp\\Lib\\site-packages\\sklearn\\neural_network\\_multilayer_perceptron.py:690: ConvergenceWarning: Stochastic Optimizer: Maximum iterations (200) reached and the optimization hasn't converged yet.\n",
      "  warnings.warn(\n"
     ]
    },
    {
     "name": "stdout",
     "output_type": "stream",
     "text": [
      "[CV] END MLP__activation=relu, MLP__alpha=0.001, MLP__hidden_layer_sizes=(50, 50), MLP__learning_rate=constant, MLP__solver=sgd; total time= 6.2min\n",
      "[CV] END MLP__activation=relu, MLP__alpha=0.001, MLP__hidden_layer_sizes=(50, 50), MLP__learning_rate=adaptive, MLP__solver=adam; total time= 3.1min\n",
      "[CV] END MLP__activation=relu, MLP__alpha=0.001, MLP__hidden_layer_sizes=(50, 50), MLP__learning_rate=adaptive, MLP__solver=adam; total time= 2.6min\n",
      "[CV] END MLP__activation=relu, MLP__alpha=0.001, MLP__hidden_layer_sizes=(50, 50), MLP__learning_rate=adaptive, MLP__solver=adam; total time= 2.9min\n",
      "[CV] END MLP__activation=relu, MLP__alpha=0.001, MLP__hidden_layer_sizes=(50, 50), MLP__learning_rate=adaptive, MLP__solver=adam; total time= 2.5min\n",
      "[CV] END MLP__activation=relu, MLP__alpha=0.001, MLP__hidden_layer_sizes=(50, 50), MLP__learning_rate=adaptive, MLP__solver=adam; total time= 3.1min\n"
     ]
    },
    {
     "name": "stderr",
     "output_type": "stream",
     "text": [
      "c:\\Users\\ccsar\\miniconda3\\envs\\env_nlp\\Lib\\site-packages\\sklearn\\neural_network\\_multilayer_perceptron.py:690: ConvergenceWarning: Stochastic Optimizer: Maximum iterations (200) reached and the optimization hasn't converged yet.\n",
      "  warnings.warn(\n"
     ]
    },
    {
     "name": "stdout",
     "output_type": "stream",
     "text": [
      "[CV] END MLP__activation=relu, MLP__alpha=0.001, MLP__hidden_layer_sizes=(50, 50), MLP__learning_rate=adaptive, MLP__solver=sgd; total time= 7.5min\n"
     ]
    },
    {
     "name": "stderr",
     "output_type": "stream",
     "text": [
      "c:\\Users\\ccsar\\miniconda3\\envs\\env_nlp\\Lib\\site-packages\\sklearn\\neural_network\\_multilayer_perceptron.py:690: ConvergenceWarning: Stochastic Optimizer: Maximum iterations (200) reached and the optimization hasn't converged yet.\n",
      "  warnings.warn(\n"
     ]
    },
    {
     "name": "stdout",
     "output_type": "stream",
     "text": [
      "[CV] END MLP__activation=relu, MLP__alpha=0.001, MLP__hidden_layer_sizes=(50, 50), MLP__learning_rate=adaptive, MLP__solver=sgd; total time= 8.7min\n"
     ]
    },
    {
     "name": "stderr",
     "output_type": "stream",
     "text": [
      "c:\\Users\\ccsar\\miniconda3\\envs\\env_nlp\\Lib\\site-packages\\sklearn\\neural_network\\_multilayer_perceptron.py:690: ConvergenceWarning: Stochastic Optimizer: Maximum iterations (200) reached and the optimization hasn't converged yet.\n",
      "  warnings.warn(\n"
     ]
    },
    {
     "name": "stdout",
     "output_type": "stream",
     "text": [
      "[CV] END MLP__activation=relu, MLP__alpha=0.001, MLP__hidden_layer_sizes=(50, 50), MLP__learning_rate=adaptive, MLP__solver=sgd; total time= 7.5min\n"
     ]
    },
    {
     "name": "stderr",
     "output_type": "stream",
     "text": [
      "c:\\Users\\ccsar\\miniconda3\\envs\\env_nlp\\Lib\\site-packages\\sklearn\\neural_network\\_multilayer_perceptron.py:690: ConvergenceWarning: Stochastic Optimizer: Maximum iterations (200) reached and the optimization hasn't converged yet.\n",
      "  warnings.warn(\n"
     ]
    },
    {
     "name": "stdout",
     "output_type": "stream",
     "text": [
      "[CV] END MLP__activation=relu, MLP__alpha=0.001, MLP__hidden_layer_sizes=(50, 50), MLP__learning_rate=adaptive, MLP__solver=sgd; total time= 6.0min\n"
     ]
    },
    {
     "name": "stderr",
     "output_type": "stream",
     "text": [
      "c:\\Users\\ccsar\\miniconda3\\envs\\env_nlp\\Lib\\site-packages\\sklearn\\neural_network\\_multilayer_perceptron.py:690: ConvergenceWarning: Stochastic Optimizer: Maximum iterations (200) reached and the optimization hasn't converged yet.\n",
      "  warnings.warn(\n"
     ]
    },
    {
     "name": "stdout",
     "output_type": "stream",
     "text": [
      "[CV] END MLP__activation=relu, MLP__alpha=0.001, MLP__hidden_layer_sizes=(50, 50), MLP__learning_rate=adaptive, MLP__solver=sgd; total time= 7.2min\n",
      "[CV] END MLP__activation=relu, MLP__alpha=0.01, MLP__hidden_layer_sizes=(100, 50), MLP__learning_rate=constant, MLP__solver=adam; total time= 9.4min\n",
      "[CV] END MLP__activation=relu, MLP__alpha=0.01, MLP__hidden_layer_sizes=(100, 50), MLP__learning_rate=constant, MLP__solver=adam; total time= 6.9min\n",
      "[CV] END MLP__activation=relu, MLP__alpha=0.01, MLP__hidden_layer_sizes=(100, 50), MLP__learning_rate=constant, MLP__solver=adam; total time= 5.5min\n",
      "[CV] END MLP__activation=relu, MLP__alpha=0.01, MLP__hidden_layer_sizes=(100, 50), MLP__learning_rate=constant, MLP__solver=adam; total time= 6.4min\n",
      "[CV] END MLP__activation=relu, MLP__alpha=0.01, MLP__hidden_layer_sizes=(100, 50), MLP__learning_rate=constant, MLP__solver=adam; total time= 6.4min\n"
     ]
    },
    {
     "name": "stderr",
     "output_type": "stream",
     "text": [
      "c:\\Users\\ccsar\\miniconda3\\envs\\env_nlp\\Lib\\site-packages\\sklearn\\neural_network\\_multilayer_perceptron.py:690: ConvergenceWarning: Stochastic Optimizer: Maximum iterations (200) reached and the optimization hasn't converged yet.\n",
      "  warnings.warn(\n"
     ]
    },
    {
     "name": "stdout",
     "output_type": "stream",
     "text": [
      "[CV] END MLP__activation=relu, MLP__alpha=0.01, MLP__hidden_layer_sizes=(100, 50), MLP__learning_rate=constant, MLP__solver=sgd; total time=10.5min\n"
     ]
    },
    {
     "name": "stderr",
     "output_type": "stream",
     "text": [
      "c:\\Users\\ccsar\\miniconda3\\envs\\env_nlp\\Lib\\site-packages\\sklearn\\neural_network\\_multilayer_perceptron.py:690: ConvergenceWarning: Stochastic Optimizer: Maximum iterations (200) reached and the optimization hasn't converged yet.\n",
      "  warnings.warn(\n"
     ]
    },
    {
     "name": "stdout",
     "output_type": "stream",
     "text": [
      "[CV] END MLP__activation=relu, MLP__alpha=0.01, MLP__hidden_layer_sizes=(100, 50), MLP__learning_rate=constant, MLP__solver=sgd; total time=10.2min\n"
     ]
    },
    {
     "name": "stderr",
     "output_type": "stream",
     "text": [
      "c:\\Users\\ccsar\\miniconda3\\envs\\env_nlp\\Lib\\site-packages\\sklearn\\neural_network\\_multilayer_perceptron.py:690: ConvergenceWarning: Stochastic Optimizer: Maximum iterations (200) reached and the optimization hasn't converged yet.\n",
      "  warnings.warn(\n"
     ]
    },
    {
     "name": "stdout",
     "output_type": "stream",
     "text": [
      "[CV] END MLP__activation=relu, MLP__alpha=0.01, MLP__hidden_layer_sizes=(100, 50), MLP__learning_rate=constant, MLP__solver=sgd; total time=10.2min\n"
     ]
    },
    {
     "name": "stderr",
     "output_type": "stream",
     "text": [
      "c:\\Users\\ccsar\\miniconda3\\envs\\env_nlp\\Lib\\site-packages\\sklearn\\neural_network\\_multilayer_perceptron.py:690: ConvergenceWarning: Stochastic Optimizer: Maximum iterations (200) reached and the optimization hasn't converged yet.\n",
      "  warnings.warn(\n"
     ]
    },
    {
     "name": "stdout",
     "output_type": "stream",
     "text": [
      "[CV] END MLP__activation=relu, MLP__alpha=0.01, MLP__hidden_layer_sizes=(100, 50), MLP__learning_rate=constant, MLP__solver=sgd; total time=10.1min\n"
     ]
    },
    {
     "name": "stderr",
     "output_type": "stream",
     "text": [
      "c:\\Users\\ccsar\\miniconda3\\envs\\env_nlp\\Lib\\site-packages\\sklearn\\neural_network\\_multilayer_perceptron.py:690: ConvergenceWarning: Stochastic Optimizer: Maximum iterations (200) reached and the optimization hasn't converged yet.\n",
      "  warnings.warn(\n"
     ]
    },
    {
     "name": "stdout",
     "output_type": "stream",
     "text": [
      "[CV] END MLP__activation=relu, MLP__alpha=0.01, MLP__hidden_layer_sizes=(100, 50), MLP__learning_rate=constant, MLP__solver=sgd; total time=10.2min\n",
      "[CV] END MLP__activation=relu, MLP__alpha=0.01, MLP__hidden_layer_sizes=(100, 50), MLP__learning_rate=adaptive, MLP__solver=adam; total time= 7.2min\n",
      "[CV] END MLP__activation=relu, MLP__alpha=0.01, MLP__hidden_layer_sizes=(100, 50), MLP__learning_rate=adaptive, MLP__solver=adam; total time= 7.7min\n",
      "[CV] END MLP__activation=relu, MLP__alpha=0.01, MLP__hidden_layer_sizes=(100, 50), MLP__learning_rate=adaptive, MLP__solver=adam; total time= 5.8min\n",
      "[CV] END MLP__activation=relu, MLP__alpha=0.01, MLP__hidden_layer_sizes=(100, 50), MLP__learning_rate=adaptive, MLP__solver=adam; total time= 7.0min\n",
      "[CV] END MLP__activation=relu, MLP__alpha=0.01, MLP__hidden_layer_sizes=(100, 50), MLP__learning_rate=adaptive, MLP__solver=adam; total time= 7.2min\n"
     ]
    },
    {
     "name": "stderr",
     "output_type": "stream",
     "text": [
      "c:\\Users\\ccsar\\miniconda3\\envs\\env_nlp\\Lib\\site-packages\\sklearn\\neural_network\\_multilayer_perceptron.py:690: ConvergenceWarning: Stochastic Optimizer: Maximum iterations (200) reached and the optimization hasn't converged yet.\n",
      "  warnings.warn(\n"
     ]
    },
    {
     "name": "stdout",
     "output_type": "stream",
     "text": [
      "[CV] END MLP__activation=relu, MLP__alpha=0.01, MLP__hidden_layer_sizes=(100, 50), MLP__learning_rate=adaptive, MLP__solver=sgd; total time= 9.9min\n"
     ]
    }
   ],
   "source": [
    "from sklearn.neural_network import MLPClassifier\n",
    "\n",
    "# Definimos el modelo a usar\n",
    "classifier = MLPClassifier()\n",
    "model_name = 'MLP'\n",
    "\n",
    "# Definimos los parámetros a explorar\n",
    "param_grid = {\n",
    "    \n",
    "    f'{model_name}__hidden_layer_sizes': [(100, 50), (50, 50)],\n",
    "    f'{model_name}__activation': ['relu', 'tanh'],\n",
    "    f'{model_name}__solver': ['adam', 'sgd'],\n",
    "    f'{model_name}__alpha': [0.001, 0.01],\n",
    "    f'{model_name}__learning_rate': ['constant', 'adaptive']\n",
    "}\n",
    "\n",
    "best_params = train_cv_models(model_name, classifier, param_grid, X_train, y_train)\n",
    "model_best_params = {k.split('__')[1]:v for k,v in best_params.items() if 'tfidf' not in k}\n",
    "\n",
    "best_classifier = MLPClassifier(**model_best_params)\n",
    "model_stats = train_final_model(model_name, best_classifier, X_train, y_train)\n",
    "results.append(model_stats)"
   ]
  },
  {
   "cell_type": "markdown",
   "metadata": {},
   "source": [
    "### 2.8 XGBoost"
   ]
  },
  {
   "cell_type": "code",
   "execution_count": 60,
   "metadata": {},
   "outputs": [],
   "source": [
    "import xgboost as xgb\n",
    "\n",
    "# Definimos el modelo a usar\n",
    "classifier = xgb.XGBClassifier()\n",
    "model_name = 'XGB'\n",
    "\n",
    "# Definimos los parámetros a explorar\n",
    "param_grid = {\n",
    "    \n",
    "    f'{model_name}__max_depth': [3, 5],\n",
    "    f'{model_name}__learning_rate': [0.1, 0.3],\n",
    "    f'{model_name}__subsample': [0.8, 1.0],\n",
    "    f'{model_name}__colsample_bytree': [0.8, 1.0]\n",
    "}\n",
    "\n",
    "best_params = train_cv_models(model_name, classifier, param_grid, X_train, y_train)\n",
    "model_best_params = {k.split('__')[1]:v for k,v in best_params.items() if 'tfidf' not in k}\n",
    "\n",
    "best_classifier = xgb.XGBClassifier(**model_best_params)\n",
    "model_stats = train_final_model(model_name, best_classifier, X_train, y_train)\n",
    "results.append(model_stats)"
   ]
  },
  {
   "cell_type": "markdown",
   "metadata": {},
   "source": [
    "## 3. Results"
   ]
  },
  {
   "cell_type": "code",
   "execution_count": null,
   "metadata": {},
   "outputs": [],
   "source": [
    "res_df = pd.DataFrame(results, columns=['Model', 'Accuracy', 'Precision', 'Recall', 'F1_score'])\n",
    "res_df"
   ]
  }
 ],
 "metadata": {
  "kernelspec": {
   "display_name": "env_nlp",
   "language": "python",
   "name": "python3"
  },
  "language_info": {
   "codemirror_mode": {
    "name": "ipython",
    "version": 3
   },
   "file_extension": ".py",
   "mimetype": "text/x-python",
   "name": "python",
   "nbconvert_exporter": "python",
   "pygments_lexer": "ipython3",
   "version": "3.11.10"
  }
 },
 "nbformat": 4,
 "nbformat_minor": 2
}
